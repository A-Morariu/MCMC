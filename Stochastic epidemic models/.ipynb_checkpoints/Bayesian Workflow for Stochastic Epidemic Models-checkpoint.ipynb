{
 "cells": [
  {
   "cell_type": "code",
   "execution_count": 6,
   "id": "071636da",
   "metadata": {
    "ExecuteTime": {
     "end_time": "2022-03-30T16:05:54.256748Z",
     "start_time": "2022-03-30T16:05:54.252609Z"
    }
   },
   "outputs": [],
   "source": [
    "# preamble - load all packages \n",
    "\n",
    "import pandas as pd \n",
    "import numpy as np \n",
    "import matplotlib.pyplot as plt \n",
    "import seaborn as sns\n",
    "import datetime as dt\n",
    "import plotly.express as px \n",
    "\n",
    "import tensorflow_probability as tfp\n",
    "\n",
    "# import specific tools \n",
    "from sklearn.metrics.pairwise import euclidean_distances\n",
    "from scipy import stats\n",
    "\n",
    "sns.set()"
   ]
  },
  {
   "cell_type": "markdown",
   "id": "76409042",
   "metadata": {},
   "source": [
    "# Population Level Models \n",
    "\n",
    "*based on simulated data*\n"
   ]
  },
  {
   "cell_type": "code",
   "execution_count": 7,
   "id": "f611ee67",
   "metadata": {
    "ExecuteTime": {
     "end_time": "2022-03-30T16:05:54.342286Z",
     "start_time": "2022-03-30T16:05:54.276583Z"
    }
   },
   "outputs": [],
   "source": [
    "def sir1(beta, gamma, S0, I0, R0):\n",
    "    # initial values\n",
    "    S = S0\n",
    "    I = I0\n",
    "    R = R0\n",
    "    N = S0 + I0 + R0\n",
    "    t = 0\n",
    "\n",
    "    # keep track of time epidemic state\n",
    "    accum = [(t, S, I, R)]\n",
    "\n",
    "    # simulate until epidemic ends\n",
    "    while True:\n",
    "\n",
    "        # 1. calculate rates\n",
    "        si_rate = beta * S * I / (S + I + R)\n",
    "        ir_rate = gamma * I\n",
    "        total_rate = si_rate + ir_rate\n",
    "\n",
    "        # exit condition\n",
    "        if total_rate == 0.0:\n",
    "            break\n",
    "\n",
    "        # 2. sample next event (event is a transition from S -> I or I -> R)\n",
    "        tstar = np.random.exponential(1 / total_rate)\n",
    "\n",
    "        t += tstar\n",
    "\n",
    "        # 3. sample type of even (here we choose between S -> I or I -> R - exclusive\n",
    "        if np.random.uniform() < si_rate / total_rate:\n",
    "            S -= 1\n",
    "            I += 1\n",
    "            R = R  # add 0\n",
    "        else:\n",
    "            S = S  # add 0\n",
    "            I -= 1\n",
    "            R += 1\n",
    "\n",
    "        # 4. Keep track of progress\n",
    "        accum.append((t, S, I, R))\n",
    "\n",
    "    # format for output\n",
    "    results = np.array(accum)\n",
    "    return dict(t=results[:, 0],\n",
    "                S=results[:, 1],\n",
    "                I=results[:, 2],\n",
    "                R=results[:, 3])"
   ]
  },
  {
   "cell_type": "code",
   "execution_count": 8,
   "id": "70201526",
   "metadata": {
    "ExecuteTime": {
     "end_time": "2022-03-30T16:05:54.358357Z",
     "start_time": "2022-03-30T16:05:54.344481Z"
    }
   },
   "outputs": [],
   "source": [
    "epi = pd.DataFrame(sir1(beta=0.3, gamma=0.14, S0=999, I0=1, R0=0))"
   ]
  },
  {
   "cell_type": "code",
   "execution_count": 9,
   "id": "d178cac8",
   "metadata": {
    "ExecuteTime": {
     "end_time": "2022-03-30T16:05:54.367298Z",
     "start_time": "2022-03-30T16:05:54.359655Z"
    }
   },
   "outputs": [
    {
     "data": {
      "text/html": [
       "<div>\n",
       "<style scoped>\n",
       "    .dataframe tbody tr th:only-of-type {\n",
       "        vertical-align: middle;\n",
       "    }\n",
       "\n",
       "    .dataframe tbody tr th {\n",
       "        vertical-align: top;\n",
       "    }\n",
       "\n",
       "    .dataframe thead th {\n",
       "        text-align: right;\n",
       "    }\n",
       "</style>\n",
       "<table border=\"1\" class=\"dataframe\">\n",
       "  <thead>\n",
       "    <tr style=\"text-align: right;\">\n",
       "      <th></th>\n",
       "      <th>t</th>\n",
       "      <th>S</th>\n",
       "      <th>I</th>\n",
       "      <th>R</th>\n",
       "    </tr>\n",
       "  </thead>\n",
       "  <tbody>\n",
       "    <tr>\n",
       "      <th>1593</th>\n",
       "      <td>112.511052</td>\n",
       "      <td>201.0</td>\n",
       "      <td>4.0</td>\n",
       "      <td>795.0</td>\n",
       "    </tr>\n",
       "    <tr>\n",
       "      <th>1594</th>\n",
       "      <td>114.051360</td>\n",
       "      <td>201.0</td>\n",
       "      <td>3.0</td>\n",
       "      <td>796.0</td>\n",
       "    </tr>\n",
       "    <tr>\n",
       "      <th>1595</th>\n",
       "      <td>115.206224</td>\n",
       "      <td>201.0</td>\n",
       "      <td>2.0</td>\n",
       "      <td>797.0</td>\n",
       "    </tr>\n",
       "    <tr>\n",
       "      <th>1596</th>\n",
       "      <td>121.726226</td>\n",
       "      <td>201.0</td>\n",
       "      <td>1.0</td>\n",
       "      <td>798.0</td>\n",
       "    </tr>\n",
       "    <tr>\n",
       "      <th>1597</th>\n",
       "      <td>126.302963</td>\n",
       "      <td>201.0</td>\n",
       "      <td>0.0</td>\n",
       "      <td>799.0</td>\n",
       "    </tr>\n",
       "  </tbody>\n",
       "</table>\n",
       "</div>"
      ],
      "text/plain": [
       "               t      S    I      R\n",
       "1593  112.511052  201.0  4.0  795.0\n",
       "1594  114.051360  201.0  3.0  796.0\n",
       "1595  115.206224  201.0  2.0  797.0\n",
       "1596  121.726226  201.0  1.0  798.0\n",
       "1597  126.302963  201.0  0.0  799.0"
      ]
     },
     "execution_count": 9,
     "metadata": {},
     "output_type": "execute_result"
    }
   ],
   "source": [
    "epi.tail()"
   ]
  },
  {
   "cell_type": "code",
   "execution_count": 224,
   "id": "4e420ce9",
   "metadata": {
    "ExecuteTime": {
     "end_time": "2022-03-31T14:51:25.506123Z",
     "start_time": "2022-03-31T14:51:25.303831Z"
    }
   },
   "outputs": [
    {
     "data": {
      "text/plain": [
       "<AxesSubplot:title={'center':'Simulated Epidemic: beta = 0.3, gamma = 0.14'}>"
      ]
     },
     "execution_count": 224,
     "metadata": {},
     "output_type": "execute_result"
    },
    {
     "data": {
      "image/png": "[encoded data removed]",
      "text/plain": [
       "<Figure size 864x576 with 1 Axes>"
      ]
     },
     "metadata": {},
     "output_type": "display_data"
    }
   ],
   "source": [
    "epi.loc[:,'S':'R'].plot(figsize = (12,8), title = 'Simulated Epidemic: beta = 0.3, gamma = 0.14')"
   ]
  },
  {
   "cell_type": "markdown",
   "id": "dc417e50",
   "metadata": {},
   "source": [
    "From the above function we can see that the data is generated from an exponential distribution. Specifically, the infectious times come from an exponential distribution with rate $\\beta$ and the removals from an exponential distribution with rate $\\gamma$. Further, our data tells us the times of infections (denote them $I = \\{i_1,\\ldots, i_m\\}$) and the removal times (denote $R = \\{ r_1, \\ldots, r_n\\})$\n",
    "\n",
    "\\begin{align}\n",
    "&\\prod_{j=1}^m \\beta I(i_j)R(i_j) \\exp \\{ - \\sum_{k=1}^m \\beta I(i_j)R(i_j) \\triangle t \\} \\\\\n",
    "&\\prod_{j=1}^n \\gamma R(r_j) \\exp \\{ - \\sum_{k=1}^n \\gamma R(r_j) \\triangle t \\} \\\\\n",
    "\\Rightarrow  L(I,R|\\beta, \\gamma) &=  \\prod_{j=1}^m \\beta I(i_j)R(i_j) \\prod_{j=1}^n \\gamma R(r_j) \\exp \\{ - \\sum_{j=1}^T [ \\beta I(i_j)R(i_j) + \\gamma R(r_j) ] \\triangle t_j \\}\n",
    "\\end{align}\n",
    "\n",
    "To make the products easier to deal with, we use the log-likelihood and get some additional simplifications. \n",
    "\n",
    "\\begin{align}\n",
    "l(I,R|\\beta, \\gamma) &= \\sum_{j=2}^m \\log [\\beta I(i_j)R(i_j)] + \\sum_{j=1}^n \\log [\\gamma R(r_j)] - \\sum_{j=1}^T [\\beta I(i_j)R(i_j) + \\gamma R(r_j)]\\triangle t_j \\\\\n",
    "&=(m-1) \\log \\beta +  \\sum_{j=2}^m \\log [I(i_j)R(i_j)] + n \\log \\gamma  +\\sum_{j=1}^n \\log [ R(r_j)]  - \\sum_{j=1}^T [\\beta I(i_j)R(i_j) + \\gamma R(r_j)]\\triangle t_j \\\\\n",
    "&\\propto (m-1) \\log \\beta + n \\log \\gamma - \\sum_{j=1}^T [\\beta I(i_j)R(i_j) + \\gamma R(r_j)]\\triangle t_j\n",
    "\\end{align}\n",
    "Where $m$ is the number of infection events, and $n$ is the number of removal events. "
   ]
  },
  {
   "cell_type": "code",
   "execution_count": 190,
   "id": "6382da4e",
   "metadata": {
    "ExecuteTime": {
     "end_time": "2022-03-31T14:21:43.231599Z",
     "start_time": "2022-03-31T14:21:43.216270Z"
    }
   },
   "outputs": [
    {
     "data": {
      "text/html": [
       "<div>\n",
       "<style scoped>\n",
       "    .dataframe tbody tr th:only-of-type {\n",
       "        vertical-align: middle;\n",
       "    }\n",
       "\n",
       "    .dataframe tbody tr th {\n",
       "        vertical-align: top;\n",
       "    }\n",
       "\n",
       "    .dataframe thead th {\n",
       "        text-align: right;\n",
       "    }\n",
       "</style>\n",
       "<table border=\"1\" class=\"dataframe\">\n",
       "  <thead>\n",
       "    <tr style=\"text-align: right;\">\n",
       "      <th></th>\n",
       "      <th>t</th>\n",
       "      <th>S</th>\n",
       "      <th>I</th>\n",
       "      <th>R</th>\n",
       "      <th>delta_t</th>\n",
       "      <th>infection_event</th>\n",
       "      <th>removal_event</th>\n",
       "    </tr>\n",
       "  </thead>\n",
       "  <tbody>\n",
       "    <tr>\n",
       "      <th>0</th>\n",
       "      <td>0.000000</td>\n",
       "      <td>999.0</td>\n",
       "      <td>1.0</td>\n",
       "      <td>0.0</td>\n",
       "      <td>0.000000</td>\n",
       "      <td>False</td>\n",
       "      <td>False</td>\n",
       "    </tr>\n",
       "    <tr>\n",
       "      <th>1</th>\n",
       "      <td>0.873316</td>\n",
       "      <td>998.0</td>\n",
       "      <td>2.0</td>\n",
       "      <td>0.0</td>\n",
       "      <td>0.873316</td>\n",
       "      <td>True</td>\n",
       "      <td>False</td>\n",
       "    </tr>\n",
       "    <tr>\n",
       "      <th>2</th>\n",
       "      <td>2.435322</td>\n",
       "      <td>998.0</td>\n",
       "      <td>1.0</td>\n",
       "      <td>1.0</td>\n",
       "      <td>1.562006</td>\n",
       "      <td>False</td>\n",
       "      <td>True</td>\n",
       "    </tr>\n",
       "    <tr>\n",
       "      <th>3</th>\n",
       "      <td>8.415198</td>\n",
       "      <td>997.0</td>\n",
       "      <td>2.0</td>\n",
       "      <td>1.0</td>\n",
       "      <td>5.979876</td>\n",
       "      <td>True</td>\n",
       "      <td>False</td>\n",
       "    </tr>\n",
       "    <tr>\n",
       "      <th>4</th>\n",
       "      <td>8.454379</td>\n",
       "      <td>997.0</td>\n",
       "      <td>1.0</td>\n",
       "      <td>2.0</td>\n",
       "      <td>0.039181</td>\n",
       "      <td>False</td>\n",
       "      <td>True</td>\n",
       "    </tr>\n",
       "  </tbody>\n",
       "</table>\n",
       "</div>"
      ],
      "text/plain": [
       "          t      S    I    R   delta_t  infection_event  removal_event\n",
       "0  0.000000  999.0  1.0  0.0  0.000000            False          False\n",
       "1  0.873316  998.0  2.0  0.0  0.873316             True          False\n",
       "2  2.435322  998.0  1.0  1.0  1.562006            False           True\n",
       "3  8.415198  997.0  2.0  1.0  5.979876             True          False\n",
       "4  8.454379  997.0  1.0  2.0  0.039181            False           True"
      ]
     },
     "execution_count": 190,
     "metadata": {},
     "output_type": "execute_result"
    }
   ],
   "source": [
    "# data augmentation\n",
    "# 1. compute delta t's\n",
    "# 2. compute infection identifier\n",
    "# 3. compute removal identifier\n",
    "epi_augment = epi.assign(delta_t=lambda df: df.t.diff(1).fillna(0),\n",
    "                         infection_event=lambda df: df.I > df.I.shift(1),\n",
    "                         removal_event=lambda df: df.R > df.R.shift(1))\n",
    "epi_augment.head()"
   ]
  },
  {
   "cell_type": "code",
   "execution_count": 14,
   "id": "760b67d7",
   "metadata": {
    "ExecuteTime": {
     "end_time": "2022-03-30T20:56:40.320863Z",
     "start_time": "2022-03-30T20:56:40.316687Z"
    }
   },
   "outputs": [],
   "source": [
    "# code the above function\n",
    "def log_like(df, beta, gamma):\n",
    "    return (df.infection_event.sum() - 1) * np.log(beta) + \\\n",
    "        df.removal_event.sum() * np.log(gamma) - \\\n",
    "        np.sum((beta * df.I * df.R + gamma * df.R)*df.delta_t)"
   ]
  },
  {
   "cell_type": "code",
   "execution_count": 15,
   "id": "51f9b98b",
   "metadata": {
    "ExecuteTime": {
     "end_time": "2022-03-30T20:56:40.326052Z",
     "start_time": "2022-03-30T20:56:40.322882Z"
    }
   },
   "outputs": [],
   "source": [
    "# define the priors\n",
    "def prior(beta, gamma):\n",
    "    return stats.gamma.logpdf(gamma,a = 3, loc=0, scale=10) + stats.gamma.logpdf(beta, a = 3, loc=0, scale=10)"
   ]
  },
  {
   "cell_type": "code",
   "execution_count": 16,
   "id": "080f7d8d",
   "metadata": {
    "ExecuteTime": {
     "end_time": "2022-03-30T20:56:40.331350Z",
     "start_time": "2022-03-30T20:56:40.328738Z"
    }
   },
   "outputs": [],
   "source": [
    "# define the proposal denisity for the MH algo\n",
    "def proposal(beta, gamma):\n",
    "    return stats.norm.rvs(loc=[beta, gamma], scale=0.1)"
   ]
  },
  {
   "cell_type": "code",
   "execution_count": 17,
   "id": "b516c322",
   "metadata": {
    "ExecuteTime": {
     "end_time": "2022-03-30T20:56:40.342483Z",
     "start_time": "2022-03-30T20:56:40.332895Z"
    }
   },
   "outputs": [],
   "source": [
    "# run MH-MCMC algo\n",
    "def metropolisHastings(starting_values, log_likelihood, prior_spec, proposal_density, data, iters=10000):\n",
    "    # storing variables\n",
    "    mat = np.zeros(shape=(iters, len(starting_values)))\n",
    "    mat[0, ] = starting_values\n",
    "\n",
    "    acceptances = [0]\n",
    "    ll = log_likelihood(data, beta=mat[0, 0], gamma=mat[0, 1])\n",
    "\n",
    "    # run the MH algo\n",
    "    for ii in range(iters-1):\n",
    "        # step 2: propose new step\n",
    "        new_theta = proposal_density(beta=mat[ii, 0], gamma=mat[ii, 1])\n",
    "\n",
    "        # step 3: compute acceptance prob\n",
    "        ll_proposed = log_likelihood(\n",
    "            data, beta=new_theta[0], gamma=new_theta[1])\n",
    "\n",
    "        alpha = (ll_proposed - ll) + \\\n",
    "            (prior_spec(new_theta[0], new_theta[1]) -\n",
    "             prior_spec(beta=mat[ii, 0], gamma=mat[ii, 1]))\n",
    "        # step 4: accept/reject\n",
    "        if (alpha > np.log(stats.uniform(0, 1).rvs())):\n",
    "            mat[ii+1, ] = new_theta\n",
    "            ll = ll_proposed\n",
    "            acceptances.append(1)\n",
    "        else:\n",
    "            mat[ii+1, ] = mat[ii, ]\n",
    "            acceptances.append(0)\n",
    "\n",
    "    return mat, acceptances"
   ]
  },
  {
   "cell_type": "code",
   "execution_count": 18,
   "id": "636b2656",
   "metadata": {
    "ExecuteTime": {
     "end_time": "2022-03-30T20:56:55.353720Z",
     "start_time": "2022-03-30T20:56:40.344251Z"
    }
   },
   "outputs": [
    {
     "name": "stderr",
     "output_type": "stream",
     "text": [
      "/var/folders/_q/07k1y14x087brt3tmd2bs1740000gn/T/ipykernel_2802/1921211778.py:3: RuntimeWarning: invalid value encountered in log\n",
      "  return (df.infection_event.sum() - 1) * np.log(beta) + \\\n",
      "/var/folders/_q/07k1y14x087brt3tmd2bs1740000gn/T/ipykernel_2802/1921211778.py:4: RuntimeWarning: invalid value encountered in log\n",
      "  df.removal_event.sum() * np.log(gamma) - \\\n"
     ]
    }
   ],
   "source": [
    "output, accept = metropolisHastings(starting_values=[0.1, 0.1],\n",
    "                                    log_likelihood=log_like,\n",
    "                                    prior_spec=prior,\n",
    "                                    proposal_density=proposal,\n",
    "                                    data=epi_augment,\n",
    "                                    iters=10001)"
   ]
  },
  {
   "cell_type": "code",
   "execution_count": 19,
   "id": "983a96dd",
   "metadata": {
    "ExecuteTime": {
     "end_time": "2022-03-30T20:56:55.612018Z",
     "start_time": "2022-03-30T20:56:55.355443Z"
    }
   },
   "outputs": [
    {
     "data": {
      "text/plain": [
       "array([[<AxesSubplot:>, <AxesSubplot:>]], dtype=object)"
      ]
     },
     "execution_count": 19,
     "metadata": {},
     "output_type": "execute_result"
    },
    {
     "data": {
      "image/png": "[encoded data removed]",
      "text/plain": [
       "<Figure size 864x288 with 2 Axes>"
      ]
     },
     "metadata": {},
     "output_type": "display_data"
    }
   ],
   "source": [
    "pd.DataFrame(output, columns=['beta', 'gamma']).loc[100:, ].plot(\n",
    "    figsize=(12, 4), subplots=True, layout=(1, 2))"
   ]
  },
  {
   "cell_type": "code",
   "execution_count": 20,
   "id": "678f33a4",
   "metadata": {
    "ExecuteTime": {
     "end_time": "2022-03-30T20:56:56.110493Z",
     "start_time": "2022-03-30T20:56:55.613929Z"
    }
   },
   "outputs": [
    {
     "data": {
      "text/plain": [
       "array([[<AxesSubplot:ylabel='Density'>, <AxesSubplot:ylabel='Density'>]],\n",
       "      dtype=object)"
      ]
     },
     "execution_count": 20,
     "metadata": {},
     "output_type": "execute_result"
    },
    {
     "data": {
      "image/png": "[encoded data removed]",
      "text/plain": [
       "<Figure size 864x288 with 2 Axes>"
      ]
     },
     "metadata": {},
     "output_type": "display_data"
    }
   ],
   "source": [
    "pd.DataFrame(output, columns=['beta', 'gamma']).loc[100:, ].plot(\n",
    "    kind = 'kde',figsize=(12, 4), subplots=True, layout=(1, 2))"
   ]
  },
  {
   "cell_type": "code",
   "execution_count": 21,
   "id": "52f11976",
   "metadata": {
    "ExecuteTime": {
     "end_time": "2022-03-30T20:56:56.126754Z",
     "start_time": "2022-03-30T20:56:56.112433Z"
    }
   },
   "outputs": [
    {
     "data": {
      "text/html": [
       "<div>\n",
       "<style scoped>\n",
       "    .dataframe tbody tr th:only-of-type {\n",
       "        vertical-align: middle;\n",
       "    }\n",
       "\n",
       "    .dataframe tbody tr th {\n",
       "        vertical-align: top;\n",
       "    }\n",
       "\n",
       "    .dataframe thead th {\n",
       "        text-align: right;\n",
       "    }\n",
       "</style>\n",
       "<table border=\"1\" class=\"dataframe\">\n",
       "  <thead>\n",
       "    <tr style=\"text-align: right;\">\n",
       "      <th></th>\n",
       "      <th>beta</th>\n",
       "      <th>gamma</th>\n",
       "    </tr>\n",
       "  </thead>\n",
       "  <tbody>\n",
       "    <tr>\n",
       "      <th>count</th>\n",
       "      <td>9901.000000</td>\n",
       "      <td>9901.000000</td>\n",
       "    </tr>\n",
       "    <tr>\n",
       "      <th>mean</th>\n",
       "      <td>0.000770</td>\n",
       "      <td>0.019071</td>\n",
       "    </tr>\n",
       "    <tr>\n",
       "      <th>std</th>\n",
       "      <td>0.000340</td>\n",
       "      <td>0.011412</td>\n",
       "    </tr>\n",
       "    <tr>\n",
       "      <th>min</th>\n",
       "      <td>0.000151</td>\n",
       "      <td>0.008163</td>\n",
       "    </tr>\n",
       "    <tr>\n",
       "      <th>25%</th>\n",
       "      <td>0.000797</td>\n",
       "      <td>0.017940</td>\n",
       "    </tr>\n",
       "    <tr>\n",
       "      <th>50%</th>\n",
       "      <td>0.000797</td>\n",
       "      <td>0.017940</td>\n",
       "    </tr>\n",
       "    <tr>\n",
       "      <th>75%</th>\n",
       "      <td>0.000797</td>\n",
       "      <td>0.017940</td>\n",
       "    </tr>\n",
       "    <tr>\n",
       "      <th>max</th>\n",
       "      <td>0.001678</td>\n",
       "      <td>0.077471</td>\n",
       "    </tr>\n",
       "  </tbody>\n",
       "</table>\n",
       "</div>"
      ],
      "text/plain": [
       "              beta        gamma\n",
       "count  9901.000000  9901.000000\n",
       "mean      0.000770     0.019071\n",
       "std       0.000340     0.011412\n",
       "min       0.000151     0.008163\n",
       "25%       0.000797     0.017940\n",
       "50%       0.000797     0.017940\n",
       "75%       0.000797     0.017940\n",
       "max       0.001678     0.077471"
      ]
     },
     "execution_count": 21,
     "metadata": {},
     "output_type": "execute_result"
    }
   ],
   "source": [
    "pd.DataFrame(output, columns=['beta','gamma']).loc[100:,].describe()"
   ]
  },
  {
   "cell_type": "code",
   "execution_count": 22,
   "id": "b7d34144",
   "metadata": {
    "ExecuteTime": {
     "end_time": "2022-03-30T20:56:56.134162Z",
     "start_time": "2022-03-30T20:56:56.129943Z"
    }
   },
   "outputs": [
    {
     "data": {
      "text/plain": [
       "0.0008999100089991"
      ]
     },
     "execution_count": 22,
     "metadata": {},
     "output_type": "execute_result"
    }
   ],
   "source": [
    "np.sum(accept)/len(accept)"
   ]
  },
  {
   "cell_type": "code",
   "execution_count": 33,
   "id": "e29f79eb",
   "metadata": {
    "ExecuteTime": {
     "end_time": "2022-03-30T21:18:11.415938Z",
     "start_time": "2022-03-30T21:18:11.402209Z"
    },
    "scrolled": true
   },
   "outputs": [
    {
     "data": {
      "text/html": [
       "<div>\n",
       "<style scoped>\n",
       "    .dataframe tbody tr th:only-of-type {\n",
       "        vertical-align: middle;\n",
       "    }\n",
       "\n",
       "    .dataframe tbody tr th {\n",
       "        vertical-align: top;\n",
       "    }\n",
       "\n",
       "    .dataframe thead th {\n",
       "        text-align: right;\n",
       "    }\n",
       "</style>\n",
       "<table border=\"1\" class=\"dataframe\">\n",
       "  <thead>\n",
       "    <tr style=\"text-align: right;\">\n",
       "      <th></th>\n",
       "      <th>t</th>\n",
       "      <th>S</th>\n",
       "      <th>I</th>\n",
       "      <th>R</th>\n",
       "      <th>delta_t</th>\n",
       "      <th>infection_event</th>\n",
       "      <th>removal_event</th>\n",
       "    </tr>\n",
       "  </thead>\n",
       "  <tbody>\n",
       "    <tr>\n",
       "      <th>0</th>\n",
       "      <td>0.000000</td>\n",
       "      <td>999.0</td>\n",
       "      <td>1.0</td>\n",
       "      <td>0.0</td>\n",
       "      <td>NaN</td>\n",
       "      <td>False</td>\n",
       "      <td>False</td>\n",
       "    </tr>\n",
       "    <tr>\n",
       "      <th>1</th>\n",
       "      <td>0.873316</td>\n",
       "      <td>998.0</td>\n",
       "      <td>2.0</td>\n",
       "      <td>0.0</td>\n",
       "      <td>0.873316</td>\n",
       "      <td>True</td>\n",
       "      <td>False</td>\n",
       "    </tr>\n",
       "    <tr>\n",
       "      <th>2</th>\n",
       "      <td>2.435322</td>\n",
       "      <td>998.0</td>\n",
       "      <td>1.0</td>\n",
       "      <td>1.0</td>\n",
       "      <td>1.562006</td>\n",
       "      <td>False</td>\n",
       "      <td>True</td>\n",
       "    </tr>\n",
       "    <tr>\n",
       "      <th>3</th>\n",
       "      <td>8.415198</td>\n",
       "      <td>997.0</td>\n",
       "      <td>2.0</td>\n",
       "      <td>1.0</td>\n",
       "      <td>5.979876</td>\n",
       "      <td>True</td>\n",
       "      <td>False</td>\n",
       "    </tr>\n",
       "    <tr>\n",
       "      <th>4</th>\n",
       "      <td>8.454379</td>\n",
       "      <td>997.0</td>\n",
       "      <td>1.0</td>\n",
       "      <td>2.0</td>\n",
       "      <td>0.039181</td>\n",
       "      <td>False</td>\n",
       "      <td>True</td>\n",
       "    </tr>\n",
       "    <tr>\n",
       "      <th>...</th>\n",
       "      <td>...</td>\n",
       "      <td>...</td>\n",
       "      <td>...</td>\n",
       "      <td>...</td>\n",
       "      <td>...</td>\n",
       "      <td>...</td>\n",
       "      <td>...</td>\n",
       "    </tr>\n",
       "    <tr>\n",
       "      <th>1593</th>\n",
       "      <td>112.511052</td>\n",
       "      <td>201.0</td>\n",
       "      <td>4.0</td>\n",
       "      <td>795.0</td>\n",
       "      <td>2.720239</td>\n",
       "      <td>True</td>\n",
       "      <td>False</td>\n",
       "    </tr>\n",
       "    <tr>\n",
       "      <th>1594</th>\n",
       "      <td>114.051360</td>\n",
       "      <td>201.0</td>\n",
       "      <td>3.0</td>\n",
       "      <td>796.0</td>\n",
       "      <td>1.540308</td>\n",
       "      <td>False</td>\n",
       "      <td>True</td>\n",
       "    </tr>\n",
       "    <tr>\n",
       "      <th>1595</th>\n",
       "      <td>115.206224</td>\n",
       "      <td>201.0</td>\n",
       "      <td>2.0</td>\n",
       "      <td>797.0</td>\n",
       "      <td>1.154864</td>\n",
       "      <td>False</td>\n",
       "      <td>True</td>\n",
       "    </tr>\n",
       "    <tr>\n",
       "      <th>1596</th>\n",
       "      <td>121.726226</td>\n",
       "      <td>201.0</td>\n",
       "      <td>1.0</td>\n",
       "      <td>798.0</td>\n",
       "      <td>6.520002</td>\n",
       "      <td>False</td>\n",
       "      <td>True</td>\n",
       "    </tr>\n",
       "    <tr>\n",
       "      <th>1597</th>\n",
       "      <td>126.302963</td>\n",
       "      <td>201.0</td>\n",
       "      <td>0.0</td>\n",
       "      <td>799.0</td>\n",
       "      <td>4.576736</td>\n",
       "      <td>False</td>\n",
       "      <td>True</td>\n",
       "    </tr>\n",
       "  </tbody>\n",
       "</table>\n",
       "<p>1598 rows × 7 columns</p>\n",
       "</div>"
      ],
      "text/plain": [
       "               t      S    I      R   delta_t  infection_event  removal_event\n",
       "0       0.000000  999.0  1.0    0.0       NaN            False          False\n",
       "1       0.873316  998.0  2.0    0.0  0.873316             True          False\n",
       "2       2.435322  998.0  1.0    1.0  1.562006            False           True\n",
       "3       8.415198  997.0  2.0    1.0  5.979876             True          False\n",
       "4       8.454379  997.0  1.0    2.0  0.039181            False           True\n",
       "...          ...    ...  ...    ...       ...              ...            ...\n",
       "1593  112.511052  201.0  4.0  795.0  2.720239             True          False\n",
       "1594  114.051360  201.0  3.0  796.0  1.540308            False           True\n",
       "1595  115.206224  201.0  2.0  797.0  1.154864            False           True\n",
       "1596  121.726226  201.0  1.0  798.0  6.520002            False           True\n",
       "1597  126.302963  201.0  0.0  799.0  4.576736            False           True\n",
       "\n",
       "[1598 rows x 7 columns]"
      ]
     },
     "execution_count": 33,
     "metadata": {},
     "output_type": "execute_result"
    }
   ],
   "source": [
    "# try to compute the likelihood \n",
    "epi_augment"
   ]
  },
  {
   "cell_type": "code",
   "execution_count": 1,
   "id": "f892ec02",
   "metadata": {
    "ExecuteTime": {
     "end_time": "2022-03-31T22:57:10.678850Z",
     "start_time": "2022-03-31T22:57:10.541487Z"
    }
   },
   "outputs": [
    {
     "ename": "NameError",
     "evalue": "name 'epi_augment' is not defined",
     "output_type": "error",
     "traceback": [
      "\u001b[0;31m---------------------------------------------------------------------------\u001b[0m",
      "\u001b[0;31mNameError\u001b[0m                                 Traceback (most recent call last)",
      "\u001b[0;32m/var/folders/_q/07k1y14x087brt3tmd2bs1740000gn/T/ipykernel_8885/3138399963.py\u001b[0m in \u001b[0;36m<module>\u001b[0;34m\u001b[0m\n\u001b[1;32m     60\u001b[0m \u001b[0;34m\u001b[0m\u001b[0m\n\u001b[1;32m     61\u001b[0m \u001b[0;34m\u001b[0m\u001b[0m\n\u001b[0;32m---> 62\u001b[0;31m \u001b[0mMCMC_results\u001b[0m \u001b[0;34m=\u001b[0m \u001b[0mexp_MCMC\u001b[0m\u001b[0;34m(\u001b[0m\u001b[0mdata\u001b[0m\u001b[0;34m=\u001b[0m\u001b[0mepi_augment\u001b[0m\u001b[0;34m,\u001b[0m \u001b[0minit\u001b[0m\u001b[0;34m=\u001b[0m\u001b[0;34m[\u001b[0m\u001b[0;36m1.\u001b[0m\u001b[0;34m]\u001b[0m\u001b[0;34m)\u001b[0m\u001b[0;34m\u001b[0m\u001b[0;34m\u001b[0m\u001b[0m\n\u001b[0m",
      "\u001b[0;31mNameError\u001b[0m: name 'epi_augment' is not defined"
     ]
    }
   ],
   "source": [
    "# try to back out the overall event rate in the population: i.e. run MCMC for an exponential distribution\n",
    "def exp_MCMC(data, init):\n",
    "    def metropolisHastings(init, logLik, rprop, dprior, iters=101):\n",
    "        # initialize matrix to store results\n",
    "        mat = np.zeros(shape=(iters, len(init)))\n",
    "        mat[0, :] = init\n",
    "\n",
    "        theta = init\n",
    "\n",
    "        # compute initial logLik\n",
    "        ll_main = logLik(epi_augment, mat[0, :])\n",
    "\n",
    "        # run the MCMC for iters many iterations\n",
    "\n",
    "        for ii in range(iters):\n",
    "            # propose new parameters\n",
    "            theta_proposed = rprop(mat[ii, ])\n",
    "            # check if proposal is a valid one\n",
    "            if (dprior(theta_proposed) > -np.inf):\n",
    "\n",
    "                ll_proposed = logLik(data, theta_proposed)\n",
    "\n",
    "                # compute the (log) acceptance probability\n",
    "\n",
    "                a = ll_proposed-ll_main + \\\n",
    "                    dprior(theta_proposed) - dprior(theta)\n",
    "                print(f\"proposal, {theta_proposed}. alpha {a}.\")\n",
    "\n",
    "                if (np.log(stats.uniform(0, 1).rvs()) < a):\n",
    "                    print('accept')\n",
    "                    # it never accepts anything!\n",
    "                    theta = theta_proposed\n",
    "                    ll_main = ll_proposed\n",
    "\n",
    "                    # store the result\n",
    "                    mat[ii, :] = theta_proposed\n",
    "                else: \n",
    "                    print('reject')\n",
    "                    mat[ii, :] = mat[ii-1,:]\n",
    "                    \n",
    "        print('MCMC done!')\n",
    "\n",
    "        return mat\n",
    "\n",
    "    def proposal_denisty(parameters):\n",
    "        return stats.norm(parameters, 0.5).rvs()\n",
    "\n",
    "    def prior_density(parameters):\n",
    "        return stats.gamma.logpdf(parameters, 1, loc=0, scale=1)\n",
    "\n",
    "    def logLik(data, parameters):\n",
    "        # this is the only model specific function!\n",
    "        # rest will adapt to the size of the parameters but this one has to be specified manually\n",
    "        return len(data.delta_t)*np.log(parameters) - parameters * np.sum(data.delta_t)\n",
    "\n",
    "    return metropolisHastings(init=init,\n",
    "                              logLik=logLik,\n",
    "                              rprop=proposal_denisty,\n",
    "                              dprior=prior_density)\n",
    "\n",
    "\n",
    "MCMC_results = exp_MCMC(data=epi_augment, init=[1.])"
   ]
  },
  {
   "cell_type": "code",
   "execution_count": 217,
   "id": "adf82c94",
   "metadata": {
    "ExecuteTime": {
     "end_time": "2022-03-31T14:32:18.526148Z",
     "start_time": "2022-03-31T14:32:18.364024Z"
    }
   },
   "outputs": [
    {
     "data": {
      "text/plain": [
       "<AxesSubplot:>"
      ]
     },
     "execution_count": 217,
     "metadata": {},
     "output_type": "execute_result"
    },
    {
     "data": {
      "image/png": "[encoded data removed]",
      "text/plain": [
       "<Figure size 432x288 with 1 Axes>"
      ]
     },
     "metadata": {},
     "output_type": "display_data"
    }
   ],
   "source": [
    "pd.DataFrame(MCMC_results).plot()"
   ]
  },
  {
   "cell_type": "code",
   "execution_count": null,
   "id": "aa6ab460",
   "metadata": {},
   "outputs": [],
   "source": []
  },
  {
   "cell_type": "markdown",
   "id": "fc265df6",
   "metadata": {},
   "source": [
    "# Individual Level Models "
   ]
  },
  {
   "cell_type": "code",
   "execution_count": 23,
   "id": "275b39c6",
   "metadata": {
    "ExecuteTime": {
     "end_time": "2022-03-30T20:56:56.147544Z",
     "start_time": "2022-03-30T20:56:56.135769Z"
    }
   },
   "outputs": [],
   "source": [
    "measles = pd.read_csv('measles_hagelloch_1861.csv')"
   ]
  },
  {
   "cell_type": "code",
   "execution_count": 24,
   "id": "c3a943c3",
   "metadata": {
    "ExecuteTime": {
     "end_time": "2022-03-30T20:56:56.159393Z",
     "start_time": "2022-03-30T20:56:56.148768Z"
    }
   },
   "outputs": [
    {
     "data": {
      "text/html": [
       "<div>\n",
       "<style scoped>\n",
       "    .dataframe tbody tr th:only-of-type {\n",
       "        vertical-align: middle;\n",
       "    }\n",
       "\n",
       "    .dataframe tbody tr th {\n",
       "        vertical-align: top;\n",
       "    }\n",
       "\n",
       "    .dataframe thead th {\n",
       "        text-align: right;\n",
       "    }\n",
       "</style>\n",
       "<table border=\"1\" class=\"dataframe\">\n",
       "  <thead>\n",
       "    <tr style=\"text-align: right;\">\n",
       "      <th></th>\n",
       "      <th>case_ID</th>\n",
       "      <th>infector</th>\n",
       "      <th>date_of_prodrome</th>\n",
       "      <th>date_of_rash</th>\n",
       "      <th>date_of_death</th>\n",
       "      <th>age</th>\n",
       "      <th>gender</th>\n",
       "      <th>family_ID</th>\n",
       "      <th>class</th>\n",
       "      <th>complications</th>\n",
       "      <th>x_loc</th>\n",
       "      <th>y_loc</th>\n",
       "    </tr>\n",
       "  </thead>\n",
       "  <tbody>\n",
       "    <tr>\n",
       "      <th>0</th>\n",
       "      <td>1</td>\n",
       "      <td>45.0</td>\n",
       "      <td>1861-11-21</td>\n",
       "      <td>1861-11-25</td>\n",
       "      <td>NaN</td>\n",
       "      <td>7</td>\n",
       "      <td>f</td>\n",
       "      <td>41</td>\n",
       "      <td>1</td>\n",
       "      <td>yes</td>\n",
       "      <td>142.5</td>\n",
       "      <td>100.0</td>\n",
       "    </tr>\n",
       "    <tr>\n",
       "      <th>1</th>\n",
       "      <td>2</td>\n",
       "      <td>45.0</td>\n",
       "      <td>1861-11-23</td>\n",
       "      <td>1861-11-27</td>\n",
       "      <td>NaN</td>\n",
       "      <td>6</td>\n",
       "      <td>f</td>\n",
       "      <td>41</td>\n",
       "      <td>1</td>\n",
       "      <td>yes</td>\n",
       "      <td>142.5</td>\n",
       "      <td>100.0</td>\n",
       "    </tr>\n",
       "    <tr>\n",
       "      <th>2</th>\n",
       "      <td>3</td>\n",
       "      <td>172.0</td>\n",
       "      <td>1861-11-28</td>\n",
       "      <td>1861-12-02</td>\n",
       "      <td>NaN</td>\n",
       "      <td>4</td>\n",
       "      <td>f</td>\n",
       "      <td>41</td>\n",
       "      <td>0</td>\n",
       "      <td>yes</td>\n",
       "      <td>142.5</td>\n",
       "      <td>100.0</td>\n",
       "    </tr>\n",
       "    <tr>\n",
       "      <th>3</th>\n",
       "      <td>4</td>\n",
       "      <td>180.0</td>\n",
       "      <td>1861-11-27</td>\n",
       "      <td>1861-11-28</td>\n",
       "      <td>NaN</td>\n",
       "      <td>13</td>\n",
       "      <td>m</td>\n",
       "      <td>61</td>\n",
       "      <td>2</td>\n",
       "      <td>yes</td>\n",
       "      <td>165.0</td>\n",
       "      <td>102.5</td>\n",
       "    </tr>\n",
       "    <tr>\n",
       "      <th>4</th>\n",
       "      <td>5</td>\n",
       "      <td>45.0</td>\n",
       "      <td>1861-11-22</td>\n",
       "      <td>1861-11-27</td>\n",
       "      <td>NaN</td>\n",
       "      <td>8</td>\n",
       "      <td>f</td>\n",
       "      <td>42</td>\n",
       "      <td>1</td>\n",
       "      <td>yes</td>\n",
       "      <td>145.0</td>\n",
       "      <td>120.0</td>\n",
       "    </tr>\n",
       "  </tbody>\n",
       "</table>\n",
       "</div>"
      ],
      "text/plain": [
       "   case_ID  infector date_of_prodrome date_of_rash date_of_death  age gender  \\\n",
       "0        1      45.0       1861-11-21   1861-11-25           NaN    7      f   \n",
       "1        2      45.0       1861-11-23   1861-11-27           NaN    6      f   \n",
       "2        3     172.0       1861-11-28   1861-12-02           NaN    4      f   \n",
       "3        4     180.0       1861-11-27   1861-11-28           NaN   13      m   \n",
       "4        5      45.0       1861-11-22   1861-11-27           NaN    8      f   \n",
       "\n",
       "   family_ID  class complications  x_loc  y_loc  \n",
       "0         41      1           yes  142.5  100.0  \n",
       "1         41      1           yes  142.5  100.0  \n",
       "2         41      0           yes  142.5  100.0  \n",
       "3         61      2           yes  165.0  102.5  \n",
       "4         42      1           yes  145.0  120.0  "
      ]
     },
     "execution_count": 24,
     "metadata": {},
     "output_type": "execute_result"
    }
   ],
   "source": [
    "measles.head()"
   ]
  },
  {
   "cell_type": "code",
   "execution_count": 25,
   "id": "beec80ae",
   "metadata": {
    "ExecuteTime": {
     "end_time": "2022-03-30T20:56:56.163735Z",
     "start_time": "2022-03-30T20:56:56.160671Z"
    }
   },
   "outputs": [
    {
     "data": {
      "text/plain": [
       "(188, 12)"
      ]
     },
     "execution_count": 25,
     "metadata": {},
     "output_type": "execute_result"
    }
   ],
   "source": [
    "measles.shape"
   ]
  },
  {
   "cell_type": "code",
   "execution_count": 26,
   "id": "47b247e3",
   "metadata": {
    "ExecuteTime": {
     "end_time": "2022-03-30T20:56:56.173327Z",
     "start_time": "2022-03-30T20:56:56.164938Z"
    }
   },
   "outputs": [],
   "source": [
    "pairwise_distances = euclidean_distances(X=measles[['x_loc', 'y_loc']])"
   ]
  },
  {
   "cell_type": "code",
   "execution_count": 27,
   "id": "7ea26e15",
   "metadata": {
    "ExecuteTime": {
     "end_time": "2022-03-30T20:56:56.185727Z",
     "start_time": "2022-03-30T20:56:56.174890Z"
    }
   },
   "outputs": [],
   "source": [
    "measles['date_of_prodrome'] = pd.to_datetime(measles['date_of_prodrome'], format='%Y-%m-%d')\n",
    "measles['date_of_rash'] = pd.to_datetime(measles['date_of_rash'], format='%Y-%m-%d')\n",
    "measles['date_of_death'] = pd.to_datetime(measles['date_of_death'], format='%Y-%m-%d')"
   ]
  },
  {
   "cell_type": "code",
   "execution_count": 28,
   "id": "84be59dc",
   "metadata": {
    "ExecuteTime": {
     "end_time": "2022-03-30T20:56:56.192693Z",
     "start_time": "2022-03-30T20:56:56.187406Z"
    }
   },
   "outputs": [],
   "source": [
    "measles['date_of_death'] = measles['date_of_death'].fillna(pd.to_datetime('1/1/2000'))"
   ]
  },
  {
   "cell_type": "code",
   "execution_count": 29,
   "id": "5e9e1938",
   "metadata": {
    "ExecuteTime": {
     "end_time": "2022-03-30T20:56:56.206684Z",
     "start_time": "2022-03-30T20:56:56.194397Z"
    }
   },
   "outputs": [
    {
     "data": {
      "text/html": [
       "<div>\n",
       "<style scoped>\n",
       "    .dataframe tbody tr th:only-of-type {\n",
       "        vertical-align: middle;\n",
       "    }\n",
       "\n",
       "    .dataframe tbody tr th {\n",
       "        vertical-align: top;\n",
       "    }\n",
       "\n",
       "    .dataframe thead th {\n",
       "        text-align: right;\n",
       "    }\n",
       "</style>\n",
       "<table border=\"1\" class=\"dataframe\">\n",
       "  <thead>\n",
       "    <tr style=\"text-align: right;\">\n",
       "      <th></th>\n",
       "      <th>case_ID</th>\n",
       "      <th>infector</th>\n",
       "      <th>date_of_prodrome</th>\n",
       "      <th>date_of_rash</th>\n",
       "      <th>date_of_death</th>\n",
       "      <th>age</th>\n",
       "      <th>gender</th>\n",
       "      <th>family_ID</th>\n",
       "      <th>class</th>\n",
       "      <th>complications</th>\n",
       "      <th>x_loc</th>\n",
       "      <th>y_loc</th>\n",
       "    </tr>\n",
       "  </thead>\n",
       "  <tbody>\n",
       "    <tr>\n",
       "      <th>0</th>\n",
       "      <td>1</td>\n",
       "      <td>45.0</td>\n",
       "      <td>1861-11-21</td>\n",
       "      <td>1861-11-25</td>\n",
       "      <td>2000-01-01</td>\n",
       "      <td>7</td>\n",
       "      <td>f</td>\n",
       "      <td>41</td>\n",
       "      <td>1</td>\n",
       "      <td>yes</td>\n",
       "      <td>142.5</td>\n",
       "      <td>100.0</td>\n",
       "    </tr>\n",
       "    <tr>\n",
       "      <th>1</th>\n",
       "      <td>2</td>\n",
       "      <td>45.0</td>\n",
       "      <td>1861-11-23</td>\n",
       "      <td>1861-11-27</td>\n",
       "      <td>2000-01-01</td>\n",
       "      <td>6</td>\n",
       "      <td>f</td>\n",
       "      <td>41</td>\n",
       "      <td>1</td>\n",
       "      <td>yes</td>\n",
       "      <td>142.5</td>\n",
       "      <td>100.0</td>\n",
       "    </tr>\n",
       "    <tr>\n",
       "      <th>2</th>\n",
       "      <td>3</td>\n",
       "      <td>172.0</td>\n",
       "      <td>1861-11-28</td>\n",
       "      <td>1861-12-02</td>\n",
       "      <td>2000-01-01</td>\n",
       "      <td>4</td>\n",
       "      <td>f</td>\n",
       "      <td>41</td>\n",
       "      <td>0</td>\n",
       "      <td>yes</td>\n",
       "      <td>142.5</td>\n",
       "      <td>100.0</td>\n",
       "    </tr>\n",
       "    <tr>\n",
       "      <th>3</th>\n",
       "      <td>4</td>\n",
       "      <td>180.0</td>\n",
       "      <td>1861-11-27</td>\n",
       "      <td>1861-11-28</td>\n",
       "      <td>2000-01-01</td>\n",
       "      <td>13</td>\n",
       "      <td>m</td>\n",
       "      <td>61</td>\n",
       "      <td>2</td>\n",
       "      <td>yes</td>\n",
       "      <td>165.0</td>\n",
       "      <td>102.5</td>\n",
       "    </tr>\n",
       "    <tr>\n",
       "      <th>4</th>\n",
       "      <td>5</td>\n",
       "      <td>45.0</td>\n",
       "      <td>1861-11-22</td>\n",
       "      <td>1861-11-27</td>\n",
       "      <td>2000-01-01</td>\n",
       "      <td>8</td>\n",
       "      <td>f</td>\n",
       "      <td>42</td>\n",
       "      <td>1</td>\n",
       "      <td>yes</td>\n",
       "      <td>145.0</td>\n",
       "      <td>120.0</td>\n",
       "    </tr>\n",
       "  </tbody>\n",
       "</table>\n",
       "</div>"
      ],
      "text/plain": [
       "   case_ID  infector date_of_prodrome date_of_rash date_of_death  age gender  \\\n",
       "0        1      45.0       1861-11-21   1861-11-25    2000-01-01    7      f   \n",
       "1        2      45.0       1861-11-23   1861-11-27    2000-01-01    6      f   \n",
       "2        3     172.0       1861-11-28   1861-12-02    2000-01-01    4      f   \n",
       "3        4     180.0       1861-11-27   1861-11-28    2000-01-01   13      m   \n",
       "4        5      45.0       1861-11-22   1861-11-27    2000-01-01    8      f   \n",
       "\n",
       "   family_ID  class complications  x_loc  y_loc  \n",
       "0         41      1           yes  142.5  100.0  \n",
       "1         41      1           yes  142.5  100.0  \n",
       "2         41      0           yes  142.5  100.0  \n",
       "3         61      2           yes  165.0  102.5  \n",
       "4         42      1           yes  145.0  120.0  "
      ]
     },
     "execution_count": 29,
     "metadata": {},
     "output_type": "execute_result"
    }
   ],
   "source": [
    "measles.head()"
   ]
  },
  {
   "cell_type": "markdown",
   "id": "26256a37",
   "metadata": {},
   "source": [
    "## Data augmentation \n",
    "\n",
    "The above dataset is a complete epidemic dataset since the dates for each individuals transition through the S-I-R model are recorded. With the model propsed by Neal & Roberts, some data augmentation is needed. The full likelihood of the model is as follows: \n",
    "\n",
    "$$f(I,R | \\beta, \\theta, Z, P, I_k) = \\prod_{j \\neq k} \\left\\{ \\sum_{i \\in I_j} \\beta \\exp \\{ -\\theta \\kappa(i,j) \\} \\right\\} \\exp \\left\\{ \\sum_{j=1}^m \\sum_{k=1}^n \\lambda_{jk} \\{ \\min(R_j, I_k) - \\min(I_j, I_k ) \\} \\right\\} \\prod_{i=1}^m g(S_i - I_i) $$ \n",
    "\n",
    "\\begin{equation}\n",
    "    \\log f(I,R | \\beta, \\theta, Z, P, I_k) = \\sum_{j \\neq k} \\log \\left( \\sum_{i:I_i \\leq I_j \\leq R_i } \\lambda_{ij}(I_j) \\right) - \\sum_{j=1}^m \\sum_{k=1}^n \\lambda_{jk} \\{ \\min(R_j, I_k) - \\min(I_j, I_k ) \\} + \\sum_{i=1}^m \\log f(D_i|\\delta)\n",
    "\\end{equation} "
   ]
  },
  {
   "cell_type": "code",
   "execution_count": 30,
   "id": "4bc64194",
   "metadata": {
    "ExecuteTime": {
     "end_time": "2022-03-30T20:56:56.212486Z",
     "start_time": "2022-03-30T20:56:56.208214Z"
    }
   },
   "outputs": [
    {
     "name": "stderr",
     "output_type": "stream",
     "text": [
      "/var/folders/_q/07k1y14x087brt3tmd2bs1740000gn/T/ipykernel_2802/2838994450.py:2: FutureWarning: Support for multi-dimensional indexing (e.g. `obj[:, None]`) is deprecated and will be removed in a future version.  Convert to a numpy array before indexing instead.\n",
      "  pairwise_infections = np.fmin(measles.date_of_prodrome[:,np.newaxis], measles.date_of_prodrome[np.newaxis,:])\n",
      "/var/folders/_q/07k1y14x087brt3tmd2bs1740000gn/T/ipykernel_2802/2838994450.py:4: FutureWarning: Support for multi-dimensional indexing (e.g. `obj[:, None]`) is deprecated and will be removed in a future version.  Convert to a numpy array before indexing instead.\n",
      "  pairwise_infection_recovery = np.fmin(measles.date_of_prodrome[:,np.newaxis], measles.date_of_death[np.newaxis,:])\n"
     ]
    }
   ],
   "source": [
    "# this is the matrix of min pairwise dates \n",
    "pairwise_infections = np.fmin(measles.date_of_prodrome[:,np.newaxis], measles.date_of_prodrome[np.newaxis,:])\n",
    "\n",
    "pairwise_infection_recovery = np.fmin(measles.date_of_prodrome[:,np.newaxis], measles.date_of_death[np.newaxis,:])"
   ]
  },
  {
   "cell_type": "code",
   "execution_count": 31,
   "id": "6468e23c",
   "metadata": {
    "ExecuteTime": {
     "end_time": "2022-03-30T20:56:56.222452Z",
     "start_time": "2022-03-30T20:56:56.214148Z"
    }
   },
   "outputs": [
    {
     "name": "stderr",
     "output_type": "stream",
     "text": [
      "/var/folders/_q/07k1y14x087brt3tmd2bs1740000gn/T/ipykernel_2802/1084514439.py:2: FutureWarning: Treating datetime data as categorical rather than numeric in `.describe` is deprecated and will be removed in a future version of pandas. Specify `datetime_is_numeric=True` to silence this warning and adopt the future behavior now.\n",
      "  measles.date_of_death.describe()\n"
     ]
    },
    {
     "data": {
      "text/plain": [
       "count                     188\n",
       "unique                      9\n",
       "top       2000-01-01 00:00:00\n",
       "freq                      176\n",
       "first     1861-11-18 00:00:00\n",
       "last      2000-01-01 00:00:00\n",
       "Name: date_of_death, dtype: object"
      ]
     },
     "execution_count": 31,
     "metadata": {},
     "output_type": "execute_result"
    }
   ],
   "source": [
    "# create a matrix I_{ij} to show the overlapping infectivity \n",
    "measles.date_of_death.describe()"
   ]
  }
 ],
 "metadata": {
  "kernelspec": {
   "display_name": "Python 3 (ipykernel)",
   "language": "python",
   "name": "python3"
  },
  "language_info": {
   "codemirror_mode": {
    "name": "ipython",
    "version": 3
   },
   "file_extension": ".py",
   "mimetype": "text/x-python",
   "name": "python",
   "nbconvert_exporter": "python",
   "pygments_lexer": "ipython3",
   "version": "3.9.7"
  },
  "toc": {
   "base_numbering": 1,
   "nav_menu": {},
   "number_sections": true,
   "sideBar": true,
   "skip_h1_title": false,
   "title_cell": "Table of Contents",
   "title_sidebar": "Contents",
   "toc_cell": false,
   "toc_position": {
    "height": "calc(100% - 180px)",
    "left": "10px",
    "top": "150px",
    "width": "165px"
   },
   "toc_section_display": true,
   "toc_window_display": false
  },
  "varInspector": {
   "cols": {
    "lenName": 16,
    "lenType": 16,
    "lenVar": 40
   },
   "kernels_config": {
    "python": {
     "delete_cmd_postfix": "",
     "delete_cmd_prefix": "del ",
     "library": "var_list.py",
     "varRefreshCmd": "print(var_dic_list())"
    },
    "r": {
     "delete_cmd_postfix": ") ",
     "delete_cmd_prefix": "rm(",
     "library": "var_list.r",
     "varRefreshCmd": "cat(var_dic_list()) "
    }
   },
   "position": {
    "height": "455px",
    "left": "1784.997314453125px",
    "right": "20px",
    "top": "133.99456787109375px",
    "width": "367.9891357421875px"
   },
   "types_to_exclude": [
    "module",
    "function",
    "builtin_function_or_method",
    "instance",
    "_Feature"
   ],
   "window_display": true
  }
 },
 "nbformat": 4,
 "nbformat_minor": 5
}
