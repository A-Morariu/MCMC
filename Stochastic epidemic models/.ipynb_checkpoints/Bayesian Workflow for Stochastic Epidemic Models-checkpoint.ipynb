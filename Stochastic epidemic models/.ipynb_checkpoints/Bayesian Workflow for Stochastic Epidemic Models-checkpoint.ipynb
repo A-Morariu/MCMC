{
 "cells": [
  {
   "cell_type": "code",
   "execution_count": 425,
   "id": "071636da",
   "metadata": {
    "ExecuteTime": {
     "end_time": "2022-03-30T15:45:48.908786Z",
     "start_time": "2022-03-30T15:45:48.904682Z"
    }
   },
   "outputs": [],
   "source": [
    "# preamble - load all packages \n",
    "\n",
    "import pandas as pd \n",
    "import numpy as np \n",
    "import matplotlib.pyplot as plt \n",
    "import seaborn as sns\n",
    "import datetime as dt\n",
    "import plotly.express as px \n",
    "\n",
    "import tensorflow_probability as tfp\n",
    "\n",
    "# import specific tools \n",
    "from sklearn.metrics.pairwise import euclidean_distances\n",
    "from scipy import stats\n",
    "\n",
    "sns.set()"
   ]
  },
  {
   "cell_type": "markdown",
   "id": "76409042",
   "metadata": {},
   "source": [
    "# Population Level Models \n",
    "\n",
    "*based on simulated data*\n"
   ]
  },
  {
   "cell_type": "code",
   "execution_count": 426,
   "id": "f611ee67",
   "metadata": {
    "ExecuteTime": {
     "end_time": "2022-03-30T15:45:48.937849Z",
     "start_time": "2022-03-30T15:45:48.929570Z"
    }
   },
   "outputs": [],
   "source": [
    "def sir1(beta, gamma, S0, I0, R0):\n",
    "    # initial values\n",
    "    S = S0\n",
    "    I = I0\n",
    "    R = R0\n",
    "    N = S0 + I0 + R0\n",
    "    t = 0\n",
    "\n",
    "    # keep track of time epidemic state\n",
    "    accum = [(t, S, I, R)]\n",
    "\n",
    "    # simulate until epidemic ends\n",
    "    while True:\n",
    "\n",
    "        # 1. calculate rates\n",
    "        si_rate = beta * S * I \n",
    "        ir_rate = gamma * I\n",
    "        total_rate = si_rate + ir_rate\n",
    "\n",
    "        # exit condition\n",
    "        if total_rate == 0.0:\n",
    "            break\n",
    "\n",
    "        # 2. sample next event (event is a transition from S -> I or I -> R)\n",
    "        tstar = np.random.exponential(1 / total_rate)\n",
    "\n",
    "        t += tstar\n",
    "\n",
    "        # 3. sample type of even (here we choose between S -> I or I -> R - exclusive\n",
    "        if np.random.uniform() < si_rate / total_rate:\n",
    "            S -= 1\n",
    "            I += 1\n",
    "            R = R  # add 0\n",
    "        else:\n",
    "            S = S  # add 0\n",
    "            I -= 1\n",
    "            R += 1\n",
    "\n",
    "        # 4. Keep track of progress\n",
    "        accum.append((t, S, I, R))\n",
    "\n",
    "    # format for output\n",
    "    results = np.array(accum)\n",
    "    return dict(t=results[:, 0],\n",
    "                S=results[:, 1],\n",
    "                I=results[:, 2],\n",
    "                R=results[:, 3])"
   ]
  },
  {
   "cell_type": "code",
   "execution_count": 456,
   "id": "70201526",
   "metadata": {
    "ExecuteTime": {
     "end_time": "2022-03-30T15:56:01.181694Z",
     "start_time": "2022-03-30T15:56:01.167638Z"
    }
   },
   "outputs": [],
   "source": [
    "epi = pd.DataFrame(sir1(beta=0.3, gamma=0.01, S0=999, I0=1, R0=0))"
   ]
  },
  {
   "cell_type": "code",
   "execution_count": 457,
   "id": "d178cac8",
   "metadata": {
    "ExecuteTime": {
     "end_time": "2022-03-30T15:56:03.055337Z",
     "start_time": "2022-03-30T15:56:03.047194Z"
    }
   },
   "outputs": [
    {
     "data": {
      "text/html": [
       "<div>\n",
       "<style scoped>\n",
       "    .dataframe tbody tr th:only-of-type {\n",
       "        vertical-align: middle;\n",
       "    }\n",
       "\n",
       "    .dataframe tbody tr th {\n",
       "        vertical-align: top;\n",
       "    }\n",
       "\n",
       "    .dataframe thead th {\n",
       "        text-align: right;\n",
       "    }\n",
       "</style>\n",
       "<table border=\"1\" class=\"dataframe\">\n",
       "  <thead>\n",
       "    <tr style=\"text-align: right;\">\n",
       "      <th></th>\n",
       "      <th>t</th>\n",
       "      <th>S</th>\n",
       "      <th>I</th>\n",
       "      <th>R</th>\n",
       "    </tr>\n",
       "  </thead>\n",
       "  <tbody>\n",
       "    <tr>\n",
       "      <th>1995</th>\n",
       "      <td>632.988423</td>\n",
       "      <td>0.0</td>\n",
       "      <td>4.0</td>\n",
       "      <td>996.0</td>\n",
       "    </tr>\n",
       "    <tr>\n",
       "      <th>1996</th>\n",
       "      <td>647.781062</td>\n",
       "      <td>0.0</td>\n",
       "      <td>3.0</td>\n",
       "      <td>997.0</td>\n",
       "    </tr>\n",
       "    <tr>\n",
       "      <th>1997</th>\n",
       "      <td>660.157869</td>\n",
       "      <td>0.0</td>\n",
       "      <td>2.0</td>\n",
       "      <td>998.0</td>\n",
       "    </tr>\n",
       "    <tr>\n",
       "      <th>1998</th>\n",
       "      <td>698.258050</td>\n",
       "      <td>0.0</td>\n",
       "      <td>1.0</td>\n",
       "      <td>999.0</td>\n",
       "    </tr>\n",
       "    <tr>\n",
       "      <th>1999</th>\n",
       "      <td>798.799532</td>\n",
       "      <td>0.0</td>\n",
       "      <td>0.0</td>\n",
       "      <td>1000.0</td>\n",
       "    </tr>\n",
       "  </tbody>\n",
       "</table>\n",
       "</div>"
      ],
      "text/plain": [
       "               t    S    I       R\n",
       "1995  632.988423  0.0  4.0   996.0\n",
       "1996  647.781062  0.0  3.0   997.0\n",
       "1997  660.157869  0.0  2.0   998.0\n",
       "1998  698.258050  0.0  1.0   999.0\n",
       "1999  798.799532  0.0  0.0  1000.0"
      ]
     },
     "execution_count": 457,
     "metadata": {},
     "output_type": "execute_result"
    }
   ],
   "source": [
    "epi.tail()"
   ]
  },
  {
   "cell_type": "code",
   "execution_count": 458,
   "id": "4e420ce9",
   "metadata": {
    "ExecuteTime": {
     "end_time": "2022-03-30T15:56:05.638465Z",
     "start_time": "2022-03-30T15:56:05.447344Z"
    }
   },
   "outputs": [
    {
     "data": {
      "text/plain": [
       "<AxesSubplot:>"
      ]
     },
     "execution_count": 458,
     "metadata": {},
     "output_type": "execute_result"
    },
    {
     "data": {
      "image/png": "[encoded data removed]",
      "text/plain": [
       "<Figure size 720x360 with 1 Axes>"
      ]
     },
     "metadata": {},
     "output_type": "display_data"
    }
   ],
   "source": [
    "epi.loc[:,'S':'R'].plot(figsize = (10,5))"
   ]
  },
  {
   "cell_type": "markdown",
   "id": "dc417e50",
   "metadata": {},
   "source": [
    "From the above function we can see that the data is generated from an exponential distribution. Specifically, the infectious times come from an exponential distribution with rate $\\beta$ and the removals from an exponential distribution with rate $\\gamma$. Further, our data tells us the times of infections (denote them $I = \\{i_1,\\ldots, i_m\\}$) and the removal times (denote $R = \\{ r_1, \\ldots, r_m\\})$\n",
    "\n",
    "\\begin{align}\n",
    "&\\prod_{j=1}^m \\beta I(i_j)R(i_j) \\exp \\{ - \\sum_{k=1}^m \\beta I(i_j)R(i_j) \\triangle t \\} \\\\\n",
    "&\\prod_{j=1}^n \\gamma R(r_j) \\exp \\{ - \\sum_{k=1}^n \\gamma R(r_j) \\triangle t \\} \\\\\n",
    "\\Rightarrow  L(I,R|\\beta, \\gamma) &=  \\prod_{j=1}^m \\beta I(i_j)R(i_j) \\prod_{j=1}^n \\gamma R(r_j) \\exp \\{ - \\sum_{j=1}^T [ \\beta I(i_j)R(i_j) + \\gamma R(r_j) ] \\triangle t_j \\}\n",
    "\\end{align}\n",
    "\n",
    "To make the products easier to deal with, we use the log-likelihood and get some additional simplifications. \n",
    "\n",
    "\\begin{align}\n",
    "l(I,R|\\beta, \\gamma) &= \\sum_{j=2}^m \\log [\\beta I(i_j)R(i_j)] + \\sum_{j=1}^n \\log [\\gamma R(r_j)] - \\sum_{j=1}^T [\\beta I(i_j)R(i_j) + \\gamma R(r_j)]\\triangle t_j \\\\\n",
    "&=(m-1) \\log \\beta +  \\sum_{j=2}^m \\log [I(i_j)R(i_j)] + n \\log \\gamma  +\\sum_{j=1}^n \\log [ R(r_j)]  - \\sum_{j=1}^T [\\beta I(i_j)R(i_j) + \\gamma R(r_j)]\\triangle t_j \\\\\n",
    "&\\propto (m-1) \\log \\beta + n \\log \\gamma - \\sum_{j=1}^T [\\beta I(i_j)R(i_j) + \\gamma R(r_j)]\\triangle t_j\n",
    "\\end{align}\n",
    "Where $m$ is the number of infection events, and $n$ is the number of removal events. "
   ]
  },
  {
   "cell_type": "code",
   "execution_count": 430,
   "id": "6382da4e",
   "metadata": {
    "ExecuteTime": {
     "end_time": "2022-03-30T15:45:49.164874Z",
     "start_time": "2022-03-30T15:45:49.152792Z"
    }
   },
   "outputs": [
    {
     "data": {
      "text/html": [
       "<div>\n",
       "<style scoped>\n",
       "    .dataframe tbody tr th:only-of-type {\n",
       "        vertical-align: middle;\n",
       "    }\n",
       "\n",
       "    .dataframe tbody tr th {\n",
       "        vertical-align: top;\n",
       "    }\n",
       "\n",
       "    .dataframe thead th {\n",
       "        text-align: right;\n",
       "    }\n",
       "</style>\n",
       "<table border=\"1\" class=\"dataframe\">\n",
       "  <thead>\n",
       "    <tr style=\"text-align: right;\">\n",
       "      <th></th>\n",
       "      <th>t</th>\n",
       "      <th>S</th>\n",
       "      <th>I</th>\n",
       "      <th>R</th>\n",
       "      <th>delta_t</th>\n",
       "      <th>infection_event</th>\n",
       "      <th>removal_event</th>\n",
       "    </tr>\n",
       "  </thead>\n",
       "  <tbody>\n",
       "    <tr>\n",
       "      <th>1995</th>\n",
       "      <td>48.718486</td>\n",
       "      <td>0.0</td>\n",
       "      <td>4.0</td>\n",
       "      <td>996.0</td>\n",
       "      <td>1.441809</td>\n",
       "      <td>False</td>\n",
       "      <td>True</td>\n",
       "    </tr>\n",
       "    <tr>\n",
       "      <th>1996</th>\n",
       "      <td>56.152960</td>\n",
       "      <td>0.0</td>\n",
       "      <td>3.0</td>\n",
       "      <td>997.0</td>\n",
       "      <td>7.434474</td>\n",
       "      <td>False</td>\n",
       "      <td>True</td>\n",
       "    </tr>\n",
       "    <tr>\n",
       "      <th>1997</th>\n",
       "      <td>60.525428</td>\n",
       "      <td>0.0</td>\n",
       "      <td>2.0</td>\n",
       "      <td>998.0</td>\n",
       "      <td>4.372467</td>\n",
       "      <td>False</td>\n",
       "      <td>True</td>\n",
       "    </tr>\n",
       "    <tr>\n",
       "      <th>1998</th>\n",
       "      <td>61.587321</td>\n",
       "      <td>0.0</td>\n",
       "      <td>1.0</td>\n",
       "      <td>999.0</td>\n",
       "      <td>1.061893</td>\n",
       "      <td>False</td>\n",
       "      <td>True</td>\n",
       "    </tr>\n",
       "    <tr>\n",
       "      <th>1999</th>\n",
       "      <td>68.246582</td>\n",
       "      <td>0.0</td>\n",
       "      <td>0.0</td>\n",
       "      <td>1000.0</td>\n",
       "      <td>6.659261</td>\n",
       "      <td>False</td>\n",
       "      <td>True</td>\n",
       "    </tr>\n",
       "  </tbody>\n",
       "</table>\n",
       "</div>"
      ],
      "text/plain": [
       "              t    S    I       R   delta_t  infection_event  removal_event\n",
       "1995  48.718486  0.0  4.0   996.0  1.441809            False           True\n",
       "1996  56.152960  0.0  3.0   997.0  7.434474            False           True\n",
       "1997  60.525428  0.0  2.0   998.0  4.372467            False           True\n",
       "1998  61.587321  0.0  1.0   999.0  1.061893            False           True\n",
       "1999  68.246582  0.0  0.0  1000.0  6.659261            False           True"
      ]
     },
     "execution_count": 430,
     "metadata": {},
     "output_type": "execute_result"
    }
   ],
   "source": [
    "# data augmentation\n",
    "# 1. compute delta t's\n",
    "# 2. compute infection identifier\n",
    "# 3. compute removal identifier\n",
    "epi_augment = epi.assign(delta_t=lambda df: df.t.diff(1),\n",
    "                         infection_event=lambda df: df.I > df.I.shift(1),\n",
    "                         removal_event=lambda df: df.R > df.R.shift(1))\n",
    "epi_augment.tail()"
   ]
  },
  {
   "cell_type": "code",
   "execution_count": 431,
   "id": "760b67d7",
   "metadata": {
    "ExecuteTime": {
     "end_time": "2022-03-30T15:45:49.169625Z",
     "start_time": "2022-03-30T15:45:49.166589Z"
    }
   },
   "outputs": [],
   "source": [
    "# code the above function\n",
    "def log_like(df, beta, gamma):\n",
    "    return (df.infection_event.sum() - 1) * np.log(beta) + \\\n",
    "        df.removal_event.sum() * np.log(gamma) - \\\n",
    "        np.sum((beta * df.I * df.R + gamma * df.R)*df.delta_t)"
   ]
  },
  {
   "cell_type": "code",
   "execution_count": 432,
   "id": "51f9b98b",
   "metadata": {
    "ExecuteTime": {
     "end_time": "2022-03-30T15:45:49.174647Z",
     "start_time": "2022-03-30T15:45:49.171523Z"
    }
   },
   "outputs": [],
   "source": [
    "# define the priors\n",
    "def prior(beta, gamma):\n",
    "    return stats.gamma.logpdf(gamma,a = 3, loc=0, scale=10) + stats.gamma.logpdf(beta, a = 3, loc=0, scale=10)"
   ]
  },
  {
   "cell_type": "code",
   "execution_count": 433,
   "id": "080f7d8d",
   "metadata": {
    "ExecuteTime": {
     "end_time": "2022-03-30T15:45:49.179238Z",
     "start_time": "2022-03-30T15:45:49.176543Z"
    }
   },
   "outputs": [],
   "source": [
    "# define the proposal denisity for the MH algo\n",
    "def proposal(beta, gamma):\n",
    "    return stats.norm.rvs(loc=[beta, gamma], scale=0.01)"
   ]
  },
  {
   "cell_type": "code",
   "execution_count": 434,
   "id": "b516c322",
   "metadata": {
    "ExecuteTime": {
     "end_time": "2022-03-30T15:45:49.187744Z",
     "start_time": "2022-03-30T15:45:49.181256Z"
    }
   },
   "outputs": [],
   "source": [
    "# run MH-MCMC algo\n",
    "def metropolisHastings(starting_values, log_likelihood, prior_spec, proposal_density, data, iters=10000):\n",
    "    # storing variables\n",
    "    mat = np.zeros(shape=(iters, len(starting_values)))\n",
    "    mat[0, ] = starting_values\n",
    "\n",
    "    acceptances = [0]\n",
    "    ll = log_likelihood(data, beta=mat[0, 0], gamma=mat[0, 1])\n",
    "\n",
    "    # run the MH algo\n",
    "    for ii in range(iters-1):\n",
    "        # step 2: propose new step\n",
    "        new_theta = proposal_density(beta=mat[ii, 0], gamma=mat[ii, 1])\n",
    "\n",
    "        # step 3: compute acceptance prob\n",
    "        ll_proposed = log_likelihood(\n",
    "            data, beta=new_theta[0], gamma=new_theta[1])\n",
    "\n",
    "        alpha = (ll_proposed - ll) + \\\n",
    "            (prior_spec(new_theta[0], new_theta[1]) -\n",
    "             prior_spec(beta=mat[ii, 0], gamma=mat[ii, 1]))\n",
    "        # step 4: accept/reject\n",
    "        if (alpha > np.log(stats.uniform(0, 1).rvs())):\n",
    "            mat[ii+1, ] = new_theta\n",
    "            ll = ll_proposed\n",
    "            acceptances.append(1)\n",
    "        else:\n",
    "            mat[ii+1, ] = mat[ii, ]\n",
    "            acceptances.append(0)\n",
    "\n",
    "    return mat, acceptances"
   ]
  },
  {
   "cell_type": "code",
   "execution_count": 435,
   "id": "636b2656",
   "metadata": {
    "ExecuteTime": {
     "end_time": "2022-03-30T15:46:06.043863Z",
     "start_time": "2022-03-30T15:45:49.194104Z"
    }
   },
   "outputs": [
    {
     "name": "stderr",
     "output_type": "stream",
     "text": [
      "/var/folders/_q/07k1y14x087brt3tmd2bs1740000gn/T/ipykernel_3450/1921211778.py:3: RuntimeWarning: invalid value encountered in log\n",
      "  return (df.infection_event.sum() - 1) * np.log(beta) + \\\n",
      "/var/folders/_q/07k1y14x087brt3tmd2bs1740000gn/T/ipykernel_3450/1921211778.py:4: RuntimeWarning: invalid value encountered in log\n",
      "  df.removal_event.sum() * np.log(gamma) - \\\n"
     ]
    }
   ],
   "source": [
    "output, accept = metropolisHastings(starting_values=[0.1, 0.1],\n",
    "                                    log_likelihood=log_like,\n",
    "                                    prior_spec=prior,\n",
    "                                    proposal_density=proposal,\n",
    "                                    data=epi_augment,\n",
    "                                    iters=10001)"
   ]
  },
  {
   "cell_type": "code",
   "execution_count": 436,
   "id": "983a96dd",
   "metadata": {
    "ExecuteTime": {
     "end_time": "2022-03-30T15:46:06.344643Z",
     "start_time": "2022-03-30T15:46:06.045013Z"
    }
   },
   "outputs": [
    {
     "data": {
      "text/plain": [
       "array([[<AxesSubplot:>, <AxesSubplot:>]], dtype=object)"
      ]
     },
     "execution_count": 436,
     "metadata": {},
     "output_type": "execute_result"
    },
    {
     "data": {
      "image/png": "[encoded data removed]",
      "text/plain": [
       "<Figure size 864x288 with 2 Axes>"
      ]
     },
     "metadata": {},
     "output_type": "display_data"
    }
   ],
   "source": [
    "pd.DataFrame(output, columns=['beta', 'gamma']).loc[100:, ].plot(\n",
    "    figsize=(12, 4), subplots=True, layout=(1, 2))"
   ]
  },
  {
   "cell_type": "code",
   "execution_count": 437,
   "id": "678f33a4",
   "metadata": {
    "ExecuteTime": {
     "end_time": "2022-03-30T15:46:07.003474Z",
     "start_time": "2022-03-30T15:46:06.346722Z"
    }
   },
   "outputs": [
    {
     "data": {
      "text/plain": [
       "array([[<AxesSubplot:ylabel='Density'>, <AxesSubplot:ylabel='Density'>]],\n",
       "      dtype=object)"
      ]
     },
     "execution_count": 437,
     "metadata": {},
     "output_type": "execute_result"
    },
    {
     "data": {
      "image/png": "[encoded data removed]",
      "text/plain": [
       "<Figure size 864x288 with 2 Axes>"
      ]
     },
     "metadata": {},
     "output_type": "display_data"
    }
   ],
   "source": [
    "pd.DataFrame(output, columns=['beta', 'gamma']).loc[100:, ].plot(\n",
    "    kind = 'kde',figsize=(12, 4), subplots=True, layout=(1, 2))"
   ]
  },
  {
   "cell_type": "code",
   "execution_count": 438,
   "id": "52f11976",
   "metadata": {
    "ExecuteTime": {
     "end_time": "2022-03-30T15:46:07.031832Z",
     "start_time": "2022-03-30T15:46:07.006826Z"
    }
   },
   "outputs": [
    {
     "data": {
      "text/html": [
       "<div>\n",
       "<style scoped>\n",
       "    .dataframe tbody tr th:only-of-type {\n",
       "        vertical-align: middle;\n",
       "    }\n",
       "\n",
       "    .dataframe tbody tr th {\n",
       "        vertical-align: top;\n",
       "    }\n",
       "\n",
       "    .dataframe thead th {\n",
       "        text-align: right;\n",
       "    }\n",
       "</style>\n",
       "<table border=\"1\" class=\"dataframe\">\n",
       "  <thead>\n",
       "    <tr style=\"text-align: right;\">\n",
       "      <th></th>\n",
       "      <th>beta</th>\n",
       "      <th>gamma</th>\n",
       "    </tr>\n",
       "  </thead>\n",
       "  <tbody>\n",
       "    <tr>\n",
       "      <th>count</th>\n",
       "      <td>9901.000000</td>\n",
       "      <td>9901.000000</td>\n",
       "    </tr>\n",
       "    <tr>\n",
       "      <th>mean</th>\n",
       "      <td>0.000219</td>\n",
       "      <td>0.023056</td>\n",
       "    </tr>\n",
       "    <tr>\n",
       "      <th>std</th>\n",
       "      <td>0.000033</td>\n",
       "      <td>0.014399</td>\n",
       "    </tr>\n",
       "    <tr>\n",
       "      <th>min</th>\n",
       "      <td>0.000133</td>\n",
       "      <td>0.016989</td>\n",
       "    </tr>\n",
       "    <tr>\n",
       "      <th>25%</th>\n",
       "      <td>0.000204</td>\n",
       "      <td>0.018246</td>\n",
       "    </tr>\n",
       "    <tr>\n",
       "      <th>50%</th>\n",
       "      <td>0.000218</td>\n",
       "      <td>0.018534</td>\n",
       "    </tr>\n",
       "    <tr>\n",
       "      <th>75%</th>\n",
       "      <td>0.000218</td>\n",
       "      <td>0.018845</td>\n",
       "    </tr>\n",
       "    <tr>\n",
       "      <th>max</th>\n",
       "      <td>0.000393</td>\n",
       "      <td>0.080859</td>\n",
       "    </tr>\n",
       "  </tbody>\n",
       "</table>\n",
       "</div>"
      ],
      "text/plain": [
       "              beta        gamma\n",
       "count  9901.000000  9901.000000\n",
       "mean      0.000219     0.023056\n",
       "std       0.000033     0.014399\n",
       "min       0.000133     0.016989\n",
       "25%       0.000204     0.018246\n",
       "50%       0.000218     0.018534\n",
       "75%       0.000218     0.018845\n",
       "max       0.000393     0.080859"
      ]
     },
     "execution_count": 438,
     "metadata": {},
     "output_type": "execute_result"
    }
   ],
   "source": [
    "pd.DataFrame(output, columns=['beta','gamma']).loc[100:,].describe()"
   ]
  },
  {
   "cell_type": "code",
   "execution_count": 439,
   "id": "b7d34144",
   "metadata": {
    "ExecuteTime": {
     "end_time": "2022-03-30T15:46:07.048021Z",
     "start_time": "2022-03-30T15:46:07.041138Z"
    }
   },
   "outputs": [
    {
     "data": {
      "text/plain": [
       "0.0029997000299970002"
      ]
     },
     "execution_count": 439,
     "metadata": {},
     "output_type": "execute_result"
    }
   ],
   "source": [
    "np.sum(accept)/len(accept)"
   ]
  },
  {
   "cell_type": "markdown",
   "id": "fc265df6",
   "metadata": {},
   "source": [
    "# Individual Level Models "
   ]
  },
  {
   "cell_type": "code",
   "execution_count": 440,
   "id": "275b39c6",
   "metadata": {
    "ExecuteTime": {
     "end_time": "2022-03-30T15:46:07.065727Z",
     "start_time": "2022-03-30T15:46:07.056782Z"
    }
   },
   "outputs": [],
   "source": [
    "measles = pd.read_csv('measles_hagelloch_1861.csv')"
   ]
  },
  {
   "cell_type": "code",
   "execution_count": 441,
   "id": "c3a943c3",
   "metadata": {
    "ExecuteTime": {
     "end_time": "2022-03-30T15:46:07.094229Z",
     "start_time": "2022-03-30T15:46:07.073486Z"
    }
   },
   "outputs": [
    {
     "data": {
      "text/html": [
       "<div>\n",
       "<style scoped>\n",
       "    .dataframe tbody tr th:only-of-type {\n",
       "        vertical-align: middle;\n",
       "    }\n",
       "\n",
       "    .dataframe tbody tr th {\n",
       "        vertical-align: top;\n",
       "    }\n",
       "\n",
       "    .dataframe thead th {\n",
       "        text-align: right;\n",
       "    }\n",
       "</style>\n",
       "<table border=\"1\" class=\"dataframe\">\n",
       "  <thead>\n",
       "    <tr style=\"text-align: right;\">\n",
       "      <th></th>\n",
       "      <th>case_ID</th>\n",
       "      <th>infector</th>\n",
       "      <th>date_of_prodrome</th>\n",
       "      <th>date_of_rash</th>\n",
       "      <th>date_of_death</th>\n",
       "      <th>age</th>\n",
       "      <th>gender</th>\n",
       "      <th>family_ID</th>\n",
       "      <th>class</th>\n",
       "      <th>complications</th>\n",
       "      <th>x_loc</th>\n",
       "      <th>y_loc</th>\n",
       "    </tr>\n",
       "  </thead>\n",
       "  <tbody>\n",
       "    <tr>\n",
       "      <th>0</th>\n",
       "      <td>1</td>\n",
       "      <td>45.0</td>\n",
       "      <td>1861-11-21</td>\n",
       "      <td>1861-11-25</td>\n",
       "      <td>NaN</td>\n",
       "      <td>7</td>\n",
       "      <td>f</td>\n",
       "      <td>41</td>\n",
       "      <td>1</td>\n",
       "      <td>yes</td>\n",
       "      <td>142.5</td>\n",
       "      <td>100.0</td>\n",
       "    </tr>\n",
       "    <tr>\n",
       "      <th>1</th>\n",
       "      <td>2</td>\n",
       "      <td>45.0</td>\n",
       "      <td>1861-11-23</td>\n",
       "      <td>1861-11-27</td>\n",
       "      <td>NaN</td>\n",
       "      <td>6</td>\n",
       "      <td>f</td>\n",
       "      <td>41</td>\n",
       "      <td>1</td>\n",
       "      <td>yes</td>\n",
       "      <td>142.5</td>\n",
       "      <td>100.0</td>\n",
       "    </tr>\n",
       "    <tr>\n",
       "      <th>2</th>\n",
       "      <td>3</td>\n",
       "      <td>172.0</td>\n",
       "      <td>1861-11-28</td>\n",
       "      <td>1861-12-02</td>\n",
       "      <td>NaN</td>\n",
       "      <td>4</td>\n",
       "      <td>f</td>\n",
       "      <td>41</td>\n",
       "      <td>0</td>\n",
       "      <td>yes</td>\n",
       "      <td>142.5</td>\n",
       "      <td>100.0</td>\n",
       "    </tr>\n",
       "    <tr>\n",
       "      <th>3</th>\n",
       "      <td>4</td>\n",
       "      <td>180.0</td>\n",
       "      <td>1861-11-27</td>\n",
       "      <td>1861-11-28</td>\n",
       "      <td>NaN</td>\n",
       "      <td>13</td>\n",
       "      <td>m</td>\n",
       "      <td>61</td>\n",
       "      <td>2</td>\n",
       "      <td>yes</td>\n",
       "      <td>165.0</td>\n",
       "      <td>102.5</td>\n",
       "    </tr>\n",
       "    <tr>\n",
       "      <th>4</th>\n",
       "      <td>5</td>\n",
       "      <td>45.0</td>\n",
       "      <td>1861-11-22</td>\n",
       "      <td>1861-11-27</td>\n",
       "      <td>NaN</td>\n",
       "      <td>8</td>\n",
       "      <td>f</td>\n",
       "      <td>42</td>\n",
       "      <td>1</td>\n",
       "      <td>yes</td>\n",
       "      <td>145.0</td>\n",
       "      <td>120.0</td>\n",
       "    </tr>\n",
       "  </tbody>\n",
       "</table>\n",
       "</div>"
      ],
      "text/plain": [
       "   case_ID  infector date_of_prodrome date_of_rash date_of_death  age gender  \\\n",
       "0        1      45.0       1861-11-21   1861-11-25           NaN    7      f   \n",
       "1        2      45.0       1861-11-23   1861-11-27           NaN    6      f   \n",
       "2        3     172.0       1861-11-28   1861-12-02           NaN    4      f   \n",
       "3        4     180.0       1861-11-27   1861-11-28           NaN   13      m   \n",
       "4        5      45.0       1861-11-22   1861-11-27           NaN    8      f   \n",
       "\n",
       "   family_ID  class complications  x_loc  y_loc  \n",
       "0         41      1           yes  142.5  100.0  \n",
       "1         41      1           yes  142.5  100.0  \n",
       "2         41      0           yes  142.5  100.0  \n",
       "3         61      2           yes  165.0  102.5  \n",
       "4         42      1           yes  145.0  120.0  "
      ]
     },
     "execution_count": 441,
     "metadata": {},
     "output_type": "execute_result"
    }
   ],
   "source": [
    "measles.head()"
   ]
  },
  {
   "cell_type": "code",
   "execution_count": 442,
   "id": "beec80ae",
   "metadata": {
    "ExecuteTime": {
     "end_time": "2022-03-30T15:46:07.111503Z",
     "start_time": "2022-03-30T15:46:07.099257Z"
    }
   },
   "outputs": [
    {
     "data": {
      "text/plain": [
       "(188, 12)"
      ]
     },
     "execution_count": 442,
     "metadata": {},
     "output_type": "execute_result"
    }
   ],
   "source": [
    "measles.shape"
   ]
  },
  {
   "cell_type": "code",
   "execution_count": 443,
   "id": "47b247e3",
   "metadata": {
    "ExecuteTime": {
     "end_time": "2022-03-30T15:46:07.121176Z",
     "start_time": "2022-03-30T15:46:07.114135Z"
    }
   },
   "outputs": [],
   "source": [
    "pairwise_distances = euclidean_distances(X=measles[['x_loc', 'y_loc']])"
   ]
  },
  {
   "cell_type": "code",
   "execution_count": 444,
   "id": "7ea26e15",
   "metadata": {
    "ExecuteTime": {
     "end_time": "2022-03-30T15:46:07.137666Z",
     "start_time": "2022-03-30T15:46:07.124058Z"
    }
   },
   "outputs": [],
   "source": [
    "measles['date_of_prodrome'] = pd.to_datetime(measles['date_of_prodrome'], format='%Y-%m-%d')\n",
    "measles['date_of_rash'] = pd.to_datetime(measles['date_of_rash'], format='%Y-%m-%d')\n",
    "measles['date_of_death'] = pd.to_datetime(measles['date_of_death'], format='%Y-%m-%d')"
   ]
  },
  {
   "cell_type": "code",
   "execution_count": 445,
   "id": "84be59dc",
   "metadata": {
    "ExecuteTime": {
     "end_time": "2022-03-30T15:46:07.146506Z",
     "start_time": "2022-03-30T15:46:07.142055Z"
    }
   },
   "outputs": [],
   "source": [
    "measles['date_of_death'] = measles['date_of_death'].fillna(pd.to_datetime('1/1/2000'))"
   ]
  },
  {
   "cell_type": "code",
   "execution_count": 446,
   "id": "5e9e1938",
   "metadata": {
    "ExecuteTime": {
     "end_time": "2022-03-30T15:46:07.162299Z",
     "start_time": "2022-03-30T15:46:07.148423Z"
    }
   },
   "outputs": [
    {
     "data": {
      "text/html": [
       "<div>\n",
       "<style scoped>\n",
       "    .dataframe tbody tr th:only-of-type {\n",
       "        vertical-align: middle;\n",
       "    }\n",
       "\n",
       "    .dataframe tbody tr th {\n",
       "        vertical-align: top;\n",
       "    }\n",
       "\n",
       "    .dataframe thead th {\n",
       "        text-align: right;\n",
       "    }\n",
       "</style>\n",
       "<table border=\"1\" class=\"dataframe\">\n",
       "  <thead>\n",
       "    <tr style=\"text-align: right;\">\n",
       "      <th></th>\n",
       "      <th>case_ID</th>\n",
       "      <th>infector</th>\n",
       "      <th>date_of_prodrome</th>\n",
       "      <th>date_of_rash</th>\n",
       "      <th>date_of_death</th>\n",
       "      <th>age</th>\n",
       "      <th>gender</th>\n",
       "      <th>family_ID</th>\n",
       "      <th>class</th>\n",
       "      <th>complications</th>\n",
       "      <th>x_loc</th>\n",
       "      <th>y_loc</th>\n",
       "    </tr>\n",
       "  </thead>\n",
       "  <tbody>\n",
       "    <tr>\n",
       "      <th>0</th>\n",
       "      <td>1</td>\n",
       "      <td>45.0</td>\n",
       "      <td>1861-11-21</td>\n",
       "      <td>1861-11-25</td>\n",
       "      <td>2000-01-01</td>\n",
       "      <td>7</td>\n",
       "      <td>f</td>\n",
       "      <td>41</td>\n",
       "      <td>1</td>\n",
       "      <td>yes</td>\n",
       "      <td>142.5</td>\n",
       "      <td>100.0</td>\n",
       "    </tr>\n",
       "    <tr>\n",
       "      <th>1</th>\n",
       "      <td>2</td>\n",
       "      <td>45.0</td>\n",
       "      <td>1861-11-23</td>\n",
       "      <td>1861-11-27</td>\n",
       "      <td>2000-01-01</td>\n",
       "      <td>6</td>\n",
       "      <td>f</td>\n",
       "      <td>41</td>\n",
       "      <td>1</td>\n",
       "      <td>yes</td>\n",
       "      <td>142.5</td>\n",
       "      <td>100.0</td>\n",
       "    </tr>\n",
       "    <tr>\n",
       "      <th>2</th>\n",
       "      <td>3</td>\n",
       "      <td>172.0</td>\n",
       "      <td>1861-11-28</td>\n",
       "      <td>1861-12-02</td>\n",
       "      <td>2000-01-01</td>\n",
       "      <td>4</td>\n",
       "      <td>f</td>\n",
       "      <td>41</td>\n",
       "      <td>0</td>\n",
       "      <td>yes</td>\n",
       "      <td>142.5</td>\n",
       "      <td>100.0</td>\n",
       "    </tr>\n",
       "    <tr>\n",
       "      <th>3</th>\n",
       "      <td>4</td>\n",
       "      <td>180.0</td>\n",
       "      <td>1861-11-27</td>\n",
       "      <td>1861-11-28</td>\n",
       "      <td>2000-01-01</td>\n",
       "      <td>13</td>\n",
       "      <td>m</td>\n",
       "      <td>61</td>\n",
       "      <td>2</td>\n",
       "      <td>yes</td>\n",
       "      <td>165.0</td>\n",
       "      <td>102.5</td>\n",
       "    </tr>\n",
       "    <tr>\n",
       "      <th>4</th>\n",
       "      <td>5</td>\n",
       "      <td>45.0</td>\n",
       "      <td>1861-11-22</td>\n",
       "      <td>1861-11-27</td>\n",
       "      <td>2000-01-01</td>\n",
       "      <td>8</td>\n",
       "      <td>f</td>\n",
       "      <td>42</td>\n",
       "      <td>1</td>\n",
       "      <td>yes</td>\n",
       "      <td>145.0</td>\n",
       "      <td>120.0</td>\n",
       "    </tr>\n",
       "  </tbody>\n",
       "</table>\n",
       "</div>"
      ],
      "text/plain": [
       "   case_ID  infector date_of_prodrome date_of_rash date_of_death  age gender  \\\n",
       "0        1      45.0       1861-11-21   1861-11-25    2000-01-01    7      f   \n",
       "1        2      45.0       1861-11-23   1861-11-27    2000-01-01    6      f   \n",
       "2        3     172.0       1861-11-28   1861-12-02    2000-01-01    4      f   \n",
       "3        4     180.0       1861-11-27   1861-11-28    2000-01-01   13      m   \n",
       "4        5      45.0       1861-11-22   1861-11-27    2000-01-01    8      f   \n",
       "\n",
       "   family_ID  class complications  x_loc  y_loc  \n",
       "0         41      1           yes  142.5  100.0  \n",
       "1         41      1           yes  142.5  100.0  \n",
       "2         41      0           yes  142.5  100.0  \n",
       "3         61      2           yes  165.0  102.5  \n",
       "4         42      1           yes  145.0  120.0  "
      ]
     },
     "execution_count": 446,
     "metadata": {},
     "output_type": "execute_result"
    }
   ],
   "source": [
    "measles.head()"
   ]
  },
  {
   "cell_type": "markdown",
   "id": "26256a37",
   "metadata": {},
   "source": [
    "## Data augmentation \n",
    "\n",
    "The above dataset is a complete epidemic dataset since the dates for each individuals transition through the S-I-R model are recorded. With the model propsed by Neal & Roberts, some data augmentation is needed. The full likelihood of the model is as follows: \n",
    "\n",
    "$$f(I,R | \\beta, \\theta, Z, P, I_k) = \\prod_{j \\neq k} \\left\\{ \\sum_{i \\in I_j} \\beta \\exp \\{ -\\theta \\kappa(i,j) \\} \\right\\} \\exp \\left\\{ \\sum_{j=1}^m \\sum_{k=1}^n \\lambda_{jk} \\{ \\min(R_j, I_k) - \\min(I_j, I_k ) \\} \\right\\} \\prod_{i=1}^m g(S_i - I_i) $$ \n",
    "\n",
    "\\begin{equation}\n",
    "    \\log f(I,R | \\beta, \\theta, Z, P, I_k) = \\sum_{j \\neq k} \\log \\left( \\sum_{i:I_i \\leq I_j \\leq R_i } \\lambda_{ij}(I_j) \\right) - \\sum_{j=1}^m \\sum_{k=1}^n \\lambda_{jk} \\{ \\min(R_j, I_k) - \\min(I_j, I_k ) \\} + \\sum_{i=1}^m \\log f(D_i|\\delta)\n",
    "\\end{equation} "
   ]
  },
  {
   "cell_type": "code",
   "execution_count": 447,
   "id": "4bc64194",
   "metadata": {
    "ExecuteTime": {
     "end_time": "2022-03-30T15:46:07.169735Z",
     "start_time": "2022-03-30T15:46:07.164304Z"
    }
   },
   "outputs": [
    {
     "name": "stderr",
     "output_type": "stream",
     "text": [
      "/var/folders/_q/07k1y14x087brt3tmd2bs1740000gn/T/ipykernel_3450/2838994450.py:2: FutureWarning: Support for multi-dimensional indexing (e.g. `obj[:, None]`) is deprecated and will be removed in a future version.  Convert to a numpy array before indexing instead.\n",
      "  pairwise_infections = np.fmin(measles.date_of_prodrome[:,np.newaxis], measles.date_of_prodrome[np.newaxis,:])\n",
      "/var/folders/_q/07k1y14x087brt3tmd2bs1740000gn/T/ipykernel_3450/2838994450.py:4: FutureWarning: Support for multi-dimensional indexing (e.g. `obj[:, None]`) is deprecated and will be removed in a future version.  Convert to a numpy array before indexing instead.\n",
      "  pairwise_infection_recovery = np.fmin(measles.date_of_prodrome[:,np.newaxis], measles.date_of_death[np.newaxis,:])\n"
     ]
    }
   ],
   "source": [
    "# this is the matrix of min pairwise dates \n",
    "pairwise_infections = np.fmin(measles.date_of_prodrome[:,np.newaxis], measles.date_of_prodrome[np.newaxis,:])\n",
    "\n",
    "pairwise_infection_recovery = np.fmin(measles.date_of_prodrome[:,np.newaxis], measles.date_of_death[np.newaxis,:])"
   ]
  },
  {
   "cell_type": "code",
   "execution_count": 448,
   "id": "6468e23c",
   "metadata": {
    "ExecuteTime": {
     "end_time": "2022-03-30T15:46:07.178916Z",
     "start_time": "2022-03-30T15:46:07.171525Z"
    }
   },
   "outputs": [
    {
     "name": "stderr",
     "output_type": "stream",
     "text": [
      "/var/folders/_q/07k1y14x087brt3tmd2bs1740000gn/T/ipykernel_3450/1084514439.py:2: FutureWarning: Treating datetime data as categorical rather than numeric in `.describe` is deprecated and will be removed in a future version of pandas. Specify `datetime_is_numeric=True` to silence this warning and adopt the future behavior now.\n",
      "  measles.date_of_death.describe()\n"
     ]
    },
    {
     "data": {
      "text/plain": [
       "count                     188\n",
       "unique                      9\n",
       "top       2000-01-01 00:00:00\n",
       "freq                      176\n",
       "first     1861-11-18 00:00:00\n",
       "last      2000-01-01 00:00:00\n",
       "Name: date_of_death, dtype: object"
      ]
     },
     "execution_count": 448,
     "metadata": {},
     "output_type": "execute_result"
    }
   ],
   "source": [
    "# create a matrix I_{ij} to show the overlapping infectivity \n",
    "measles.date_of_death.describe()"
   ]
  }
 ],
 "metadata": {
  "kernelspec": {
   "display_name": "Python 3 (ipykernel)",
   "language": "python",
   "name": "python3"
  },
  "language_info": {
   "codemirror_mode": {
    "name": "ipython",
    "version": 3
   },
   "file_extension": ".py",
   "mimetype": "text/x-python",
   "name": "python",
   "nbconvert_exporter": "python",
   "pygments_lexer": "ipython3",
   "version": "3.9.7"
  },
  "toc": {
   "base_numbering": 1,
   "nav_menu": {},
   "number_sections": true,
   "sideBar": true,
   "skip_h1_title": false,
   "title_cell": "Table of Contents",
   "title_sidebar": "Contents",
   "toc_cell": false,
   "toc_position": {
    "height": "calc(100% - 180px)",
    "left": "10px",
    "top": "150px",
    "width": "166px"
   },
   "toc_section_display": true,
   "toc_window_display": true
  },
  "varInspector": {
   "cols": {
    "lenName": 16,
    "lenType": 16,
    "lenVar": 40
   },
   "kernels_config": {
    "python": {
     "delete_cmd_postfix": "",
     "delete_cmd_prefix": "del ",
     "library": "var_list.py",
     "varRefreshCmd": "print(var_dic_list())"
    },
    "r": {
     "delete_cmd_postfix": ") ",
     "delete_cmd_prefix": "rm(",
     "library": "var_list.r",
     "varRefreshCmd": "cat(var_dic_list()) "
    }
   },
   "position": {
    "height": "455px",
    "left": "1784.997314453125px",
    "right": "20px",
    "top": "133.99456787109375px",
    "width": "367.9891357421875px"
   },
   "types_to_exclude": [
    "module",
    "function",
    "builtin_function_or_method",
    "instance",
    "_Feature"
   ],
   "window_display": true
  }
 },
 "nbformat": 4,
 "nbformat_minor": 5
}
