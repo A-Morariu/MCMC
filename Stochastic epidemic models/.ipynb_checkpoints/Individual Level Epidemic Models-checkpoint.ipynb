{
 "cells": [
  {
   "cell_type": "markdown",
   "id": "af9e9893",
   "metadata": {},
   "source": [
    "# Individual Level Epidemic Models\n",
    "\n",
    "Susceptible-Infected-Removed (SIR) models make up the core of stochastic epidemic modeling. The simplest case of the model proposes that an population (of size $N$) transitions through three stages. Individuals start in the susceptible stage (unless they are part of the initial infected subset). As a result of interacting with the infected individuals in a population, a susceptible member transitions to the infected stage at a rate $\\beta(\\cdot)$ which is a function of some covariates. Once infected, these members of the population contribute to the total infectious pressure, infecting other susceptibles or they become removed (recovered - and assumed to be immune, or die) at a rate $\\gamma(\\cdot)$ which is a function of some covariates.\n",
    "\n",
    "In this document, we look at performing Bayesian inference on these models with the goal of *correctly* estimating the parameters of the rate functions $(\\beta(\\cdot), \\gamma(\\cdot))$. We will be using the 1861 Hagelloch measles data set for this exercise and augment it as necessary."
   ]
  },
  {
   "cell_type": "code",
   "execution_count": 1,
   "id": "a3eae98a",
   "metadata": {
    "ExecuteTime": {
     "end_time": "2022-04-08T12:46:11.689212Z",
     "start_time": "2022-04-08T12:46:09.421870Z"
    }
   },
   "outputs": [],
   "source": [
    "# preamble - load all packages \n",
    "\n",
    "import pandas as pd \n",
    "import numpy as np \n",
    "import matplotlib.pyplot as plt \n",
    "import seaborn as sns\n",
    "import datetime\n",
    "\n",
    "from scipy import stats\n",
    "from sklearn.metrics.pairwise import euclidean_distances\n",
    "\n",
    "sns.set()"
   ]
  },
  {
   "cell_type": "code",
   "execution_count": 2,
   "id": "ce468c56",
   "metadata": {
    "ExecuteTime": {
     "end_time": "2022-04-08T12:46:11.700002Z",
     "start_time": "2022-04-08T12:46:11.690843Z"
    }
   },
   "outputs": [],
   "source": [
    "measles = pd.read_csv('measles_hagelloch_1861.csv')"
   ]
  },
  {
   "cell_type": "code",
   "execution_count": 3,
   "id": "c4c7c697",
   "metadata": {
    "ExecuteTime": {
     "end_time": "2022-04-08T12:46:11.710580Z",
     "start_time": "2022-04-08T12:46:11.701235Z"
    }
   },
   "outputs": [],
   "source": [
    "pairwise_distances = euclidean_distances(X=measles[['x_loc', 'y_loc']])"
   ]
  },
  {
   "cell_type": "code",
   "execution_count": 4,
   "id": "ae5646ab",
   "metadata": {
    "ExecuteTime": {
     "end_time": "2022-04-08T12:46:11.724581Z",
     "start_time": "2022-04-08T12:46:11.714353Z"
    }
   },
   "outputs": [],
   "source": [
    "# formating the dates \n",
    "measles['date_of_prodrome'] = pd.to_datetime(measles['date_of_prodrome'], format='%Y-%m-%d')\n",
    "measles['date_of_rash'] = pd.to_datetime(measles['date_of_rash'], format='%Y-%m-%d')\n",
    "measles['date_of_death'] = pd.to_datetime(measles['date_of_death'], format='%Y-%m-%d')"
   ]
  },
  {
   "cell_type": "code",
   "execution_count": 5,
   "id": "9f2fe2b6",
   "metadata": {
    "ExecuteTime": {
     "end_time": "2022-04-08T12:46:11.732121Z",
     "start_time": "2022-04-08T12:46:11.726695Z"
    }
   },
   "outputs": [],
   "source": [
    "# fill death time - death is NaN in many cases \n",
    "measles['date_of_death'] = measles['date_of_death'].fillna(pd.to_datetime('1/1/2000'))"
   ]
  },
  {
   "cell_type": "code",
   "execution_count": 6,
   "id": "5045bf20",
   "metadata": {
    "ExecuteTime": {
     "end_time": "2022-04-08T12:46:11.742813Z",
     "start_time": "2022-04-08T12:46:11.733997Z"
    }
   },
   "outputs": [],
   "source": [
    "# to avoid imputing removal time, assume rash + 5 days\n",
    "measles = measles.assign(\n",
    "    date_of_removal=lambda df: df.date_of_rash + datetime.timedelta(days=5))\n",
    "measles = measles.assign(date_of_removal=measles[['date_of_removal', 'date_of_death']].min(axis=1))"
   ]
  },
  {
   "cell_type": "code",
   "execution_count": 104,
   "id": "2ac502ce",
   "metadata": {
    "ExecuteTime": {
     "end_time": "2022-04-09T07:58:46.905558Z",
     "start_time": "2022-04-09T07:58:46.888436Z"
    },
    "scrolled": true
   },
   "outputs": [
    {
     "data": {
      "text/html": [
       "<div>\n",
       "<style scoped>\n",
       "    .dataframe tbody tr th:only-of-type {\n",
       "        vertical-align: middle;\n",
       "    }\n",
       "\n",
       "    .dataframe tbody tr th {\n",
       "        vertical-align: top;\n",
       "    }\n",
       "\n",
       "    .dataframe thead th {\n",
       "        text-align: right;\n",
       "    }\n",
       "</style>\n",
       "<table border=\"1\" class=\"dataframe\">\n",
       "  <thead>\n",
       "    <tr style=\"text-align: right;\">\n",
       "      <th></th>\n",
       "      <th>case_ID</th>\n",
       "      <th>infector</th>\n",
       "      <th>date_of_prodrome</th>\n",
       "      <th>date_of_rash</th>\n",
       "      <th>date_of_death</th>\n",
       "      <th>age</th>\n",
       "      <th>gender</th>\n",
       "      <th>family_ID</th>\n",
       "      <th>class</th>\n",
       "      <th>complications</th>\n",
       "      <th>x_loc</th>\n",
       "      <th>y_loc</th>\n",
       "      <th>date_of_removal</th>\n",
       "    </tr>\n",
       "  </thead>\n",
       "  <tbody>\n",
       "    <tr>\n",
       "      <th>0</th>\n",
       "      <td>1</td>\n",
       "      <td>45.0</td>\n",
       "      <td>1861-11-21</td>\n",
       "      <td>1861-11-25</td>\n",
       "      <td>2000-01-01</td>\n",
       "      <td>7</td>\n",
       "      <td>f</td>\n",
       "      <td>41</td>\n",
       "      <td>1</td>\n",
       "      <td>yes</td>\n",
       "      <td>142.5</td>\n",
       "      <td>100.0</td>\n",
       "      <td>1861-11-30</td>\n",
       "    </tr>\n",
       "    <tr>\n",
       "      <th>1</th>\n",
       "      <td>2</td>\n",
       "      <td>45.0</td>\n",
       "      <td>1861-11-23</td>\n",
       "      <td>1861-11-27</td>\n",
       "      <td>2000-01-01</td>\n",
       "      <td>6</td>\n",
       "      <td>f</td>\n",
       "      <td>41</td>\n",
       "      <td>1</td>\n",
       "      <td>yes</td>\n",
       "      <td>142.5</td>\n",
       "      <td>100.0</td>\n",
       "      <td>1861-12-02</td>\n",
       "    </tr>\n",
       "    <tr>\n",
       "      <th>2</th>\n",
       "      <td>3</td>\n",
       "      <td>172.0</td>\n",
       "      <td>1861-11-28</td>\n",
       "      <td>1861-12-02</td>\n",
       "      <td>2000-01-01</td>\n",
       "      <td>4</td>\n",
       "      <td>f</td>\n",
       "      <td>41</td>\n",
       "      <td>0</td>\n",
       "      <td>yes</td>\n",
       "      <td>142.5</td>\n",
       "      <td>100.0</td>\n",
       "      <td>1861-12-07</td>\n",
       "    </tr>\n",
       "    <tr>\n",
       "      <th>3</th>\n",
       "      <td>4</td>\n",
       "      <td>180.0</td>\n",
       "      <td>1861-11-27</td>\n",
       "      <td>1861-11-28</td>\n",
       "      <td>2000-01-01</td>\n",
       "      <td>13</td>\n",
       "      <td>m</td>\n",
       "      <td>61</td>\n",
       "      <td>2</td>\n",
       "      <td>yes</td>\n",
       "      <td>165.0</td>\n",
       "      <td>102.5</td>\n",
       "      <td>1861-12-03</td>\n",
       "    </tr>\n",
       "    <tr>\n",
       "      <th>4</th>\n",
       "      <td>5</td>\n",
       "      <td>45.0</td>\n",
       "      <td>1861-11-22</td>\n",
       "      <td>1861-11-27</td>\n",
       "      <td>2000-01-01</td>\n",
       "      <td>8</td>\n",
       "      <td>f</td>\n",
       "      <td>42</td>\n",
       "      <td>1</td>\n",
       "      <td>yes</td>\n",
       "      <td>145.0</td>\n",
       "      <td>120.0</td>\n",
       "      <td>1861-12-02</td>\n",
       "    </tr>\n",
       "  </tbody>\n",
       "</table>\n",
       "</div>"
      ],
      "text/plain": [
       "   case_ID  infector date_of_prodrome date_of_rash date_of_death  age gender  \\\n",
       "0        1      45.0       1861-11-21   1861-11-25    2000-01-01    7      f   \n",
       "1        2      45.0       1861-11-23   1861-11-27    2000-01-01    6      f   \n",
       "2        3     172.0       1861-11-28   1861-12-02    2000-01-01    4      f   \n",
       "3        4     180.0       1861-11-27   1861-11-28    2000-01-01   13      m   \n",
       "4        5      45.0       1861-11-22   1861-11-27    2000-01-01    8      f   \n",
       "\n",
       "   family_ID  class complications  x_loc  y_loc date_of_removal  \n",
       "0         41      1           yes  142.5  100.0      1861-11-30  \n",
       "1         41      1           yes  142.5  100.0      1861-12-02  \n",
       "2         41      0           yes  142.5  100.0      1861-12-07  \n",
       "3         61      2           yes  165.0  102.5      1861-12-03  \n",
       "4         42      1           yes  145.0  120.0      1861-12-02  "
      ]
     },
     "execution_count": 104,
     "metadata": {},
     "output_type": "execute_result"
    }
   ],
   "source": [
    "# preview the data\n",
    "measles.head()"
   ]
  },
  {
   "cell_type": "code",
   "execution_count": 185,
   "id": "d8ad6e96",
   "metadata": {
    "ExecuteTime": {
     "end_time": "2022-04-09T08:38:58.328093Z",
     "start_time": "2022-04-09T08:38:58.300156Z"
    }
   },
   "outputs": [
    {
     "data": {
      "text/html": [
       "<div>\n",
       "<style scoped>\n",
       "    .dataframe tbody tr th:only-of-type {\n",
       "        vertical-align: middle;\n",
       "    }\n",
       "\n",
       "    .dataframe tbody tr th {\n",
       "        vertical-align: top;\n",
       "    }\n",
       "\n",
       "    .dataframe thead th {\n",
       "        text-align: right;\n",
       "    }\n",
       "</style>\n",
       "<table border=\"1\" class=\"dataframe\">\n",
       "  <thead>\n",
       "    <tr style=\"text-align: right;\">\n",
       "      <th></th>\n",
       "      <th>case_ID</th>\n",
       "      <th>infector</th>\n",
       "      <th>date_of_prodrome</th>\n",
       "      <th>date_of_rash</th>\n",
       "      <th>date_of_death</th>\n",
       "      <th>age</th>\n",
       "      <th>gender</th>\n",
       "      <th>family_ID</th>\n",
       "      <th>class</th>\n",
       "      <th>complications</th>\n",
       "      <th>x_loc</th>\n",
       "      <th>y_loc</th>\n",
       "      <th>date_of_removal</th>\n",
       "    </tr>\n",
       "  </thead>\n",
       "  <tbody>\n",
       "    <tr>\n",
       "      <th>183</th>\n",
       "      <td>184</td>\n",
       "      <td>NaN</td>\n",
       "      <td>1861-10-30</td>\n",
       "      <td>1861-11-06</td>\n",
       "      <td>2000-01-01</td>\n",
       "      <td>13</td>\n",
       "      <td>NaN</td>\n",
       "      <td>51</td>\n",
       "      <td>2</td>\n",
       "      <td>yes</td>\n",
       "      <td>182.5</td>\n",
       "      <td>200.0</td>\n",
       "      <td>1861-11-11</td>\n",
       "    </tr>\n",
       "    <tr>\n",
       "      <th>172</th>\n",
       "      <td>173</td>\n",
       "      <td>NaN</td>\n",
       "      <td>1861-11-01</td>\n",
       "      <td>1861-11-03</td>\n",
       "      <td>2000-01-01</td>\n",
       "      <td>6</td>\n",
       "      <td>m</td>\n",
       "      <td>9</td>\n",
       "      <td>0</td>\n",
       "      <td>yes</td>\n",
       "      <td>212.5</td>\n",
       "      <td>107.5</td>\n",
       "      <td>1861-11-08</td>\n",
       "    </tr>\n",
       "    <tr>\n",
       "      <th>177</th>\n",
       "      <td>178</td>\n",
       "      <td>184.0</td>\n",
       "      <td>1861-11-07</td>\n",
       "      <td>1861-11-11</td>\n",
       "      <td>2000-01-01</td>\n",
       "      <td>4</td>\n",
       "      <td>m</td>\n",
       "      <td>17</td>\n",
       "      <td>0</td>\n",
       "      <td>yes</td>\n",
       "      <td>182.5</td>\n",
       "      <td>200.0</td>\n",
       "      <td>1861-11-16</td>\n",
       "    </tr>\n",
       "    <tr>\n",
       "      <th>176</th>\n",
       "      <td>177</td>\n",
       "      <td>184.0</td>\n",
       "      <td>1861-11-07</td>\n",
       "      <td>1861-11-11</td>\n",
       "      <td>2000-01-01</td>\n",
       "      <td>8</td>\n",
       "      <td>f</td>\n",
       "      <td>17</td>\n",
       "      <td>1</td>\n",
       "      <td>yes</td>\n",
       "      <td>182.5</td>\n",
       "      <td>200.0</td>\n",
       "      <td>1861-11-16</td>\n",
       "    </tr>\n",
       "    <tr>\n",
       "      <th>173</th>\n",
       "      <td>174</td>\n",
       "      <td>NaN</td>\n",
       "      <td>1861-11-08</td>\n",
       "      <td>1861-11-08</td>\n",
       "      <td>2000-01-01</td>\n",
       "      <td>3</td>\n",
       "      <td>f</td>\n",
       "      <td>9</td>\n",
       "      <td>0</td>\n",
       "      <td>yes</td>\n",
       "      <td>212.5</td>\n",
       "      <td>107.5</td>\n",
       "      <td>1861-11-13</td>\n",
       "    </tr>\n",
       "    <tr>\n",
       "      <th>182</th>\n",
       "      <td>183</td>\n",
       "      <td>184.0</td>\n",
       "      <td>1861-11-11</td>\n",
       "      <td>1861-11-15</td>\n",
       "      <td>2000-01-01</td>\n",
       "      <td>4</td>\n",
       "      <td>m</td>\n",
       "      <td>4</td>\n",
       "      <td>0</td>\n",
       "      <td>yes</td>\n",
       "      <td>182.5</td>\n",
       "      <td>200.0</td>\n",
       "      <td>1861-11-20</td>\n",
       "    </tr>\n",
       "    <tr>\n",
       "      <th>44</th>\n",
       "      <td>45</td>\n",
       "      <td>184.0</td>\n",
       "      <td>1861-11-11</td>\n",
       "      <td>1861-11-13</td>\n",
       "      <td>2000-01-01</td>\n",
       "      <td>7</td>\n",
       "      <td>m</td>\n",
       "      <td>48</td>\n",
       "      <td>1</td>\n",
       "      <td>yes</td>\n",
       "      <td>75.0</td>\n",
       "      <td>55.0</td>\n",
       "      <td>1861-11-18</td>\n",
       "    </tr>\n",
       "    <tr>\n",
       "      <th>174</th>\n",
       "      <td>175</td>\n",
       "      <td>173.0</td>\n",
       "      <td>1861-11-12</td>\n",
       "      <td>1861-11-15</td>\n",
       "      <td>2000-01-01</td>\n",
       "      <td>2</td>\n",
       "      <td>m</td>\n",
       "      <td>9</td>\n",
       "      <td>0</td>\n",
       "      <td>yes</td>\n",
       "      <td>212.5</td>\n",
       "      <td>107.5</td>\n",
       "      <td>1861-11-20</td>\n",
       "    </tr>\n",
       "    <tr>\n",
       "      <th>180</th>\n",
       "      <td>181</td>\n",
       "      <td>184.0</td>\n",
       "      <td>1861-11-13</td>\n",
       "      <td>1861-11-17</td>\n",
       "      <td>2000-01-01</td>\n",
       "      <td>10</td>\n",
       "      <td>f</td>\n",
       "      <td>4</td>\n",
       "      <td>2</td>\n",
       "      <td>yes</td>\n",
       "      <td>182.5</td>\n",
       "      <td>200.0</td>\n",
       "      <td>1861-11-22</td>\n",
       "    </tr>\n",
       "    <tr>\n",
       "      <th>181</th>\n",
       "      <td>182</td>\n",
       "      <td>184.0</td>\n",
       "      <td>1861-11-15</td>\n",
       "      <td>1861-11-18</td>\n",
       "      <td>1861-11-18</td>\n",
       "      <td>13</td>\n",
       "      <td>m</td>\n",
       "      <td>4</td>\n",
       "      <td>2</td>\n",
       "      <td>yes</td>\n",
       "      <td>182.5</td>\n",
       "      <td>200.0</td>\n",
       "      <td>1861-11-18</td>\n",
       "    </tr>\n",
       "  </tbody>\n",
       "</table>\n",
       "</div>"
      ],
      "text/plain": [
       "     case_ID  infector date_of_prodrome date_of_rash date_of_death  age  \\\n",
       "183      184       NaN       1861-10-30   1861-11-06    2000-01-01   13   \n",
       "172      173       NaN       1861-11-01   1861-11-03    2000-01-01    6   \n",
       "177      178     184.0       1861-11-07   1861-11-11    2000-01-01    4   \n",
       "176      177     184.0       1861-11-07   1861-11-11    2000-01-01    8   \n",
       "173      174       NaN       1861-11-08   1861-11-08    2000-01-01    3   \n",
       "182      183     184.0       1861-11-11   1861-11-15    2000-01-01    4   \n",
       "44        45     184.0       1861-11-11   1861-11-13    2000-01-01    7   \n",
       "174      175     173.0       1861-11-12   1861-11-15    2000-01-01    2   \n",
       "180      181     184.0       1861-11-13   1861-11-17    2000-01-01   10   \n",
       "181      182     184.0       1861-11-15   1861-11-18    1861-11-18   13   \n",
       "\n",
       "    gender  family_ID  class complications  x_loc  y_loc date_of_removal  \n",
       "183    NaN         51      2           yes  182.5  200.0      1861-11-11  \n",
       "172      m          9      0           yes  212.5  107.5      1861-11-08  \n",
       "177      m         17      0           yes  182.5  200.0      1861-11-16  \n",
       "176      f         17      1           yes  182.5  200.0      1861-11-16  \n",
       "173      f          9      0           yes  212.5  107.5      1861-11-13  \n",
       "182      m          4      0           yes  182.5  200.0      1861-11-20  \n",
       "44       m         48      1           yes   75.0   55.0      1861-11-18  \n",
       "174      m          9      0           yes  212.5  107.5      1861-11-20  \n",
       "180      f          4      2           yes  182.5  200.0      1861-11-22  \n",
       "181      m          4      2           yes  182.5  200.0      1861-11-18  "
      ]
     },
     "execution_count": 185,
     "metadata": {},
     "output_type": "execute_result"
    }
   ],
   "source": [
    "# order data so initial infective is first row\n",
    "measles = measles.sort_values('date_of_prodrome')\n",
    "measles.head(10)"
   ]
  },
  {
   "cell_type": "markdown",
   "id": "3d8497fe",
   "metadata": {},
   "source": [
    "The above dataset is a complete epidemic dataset since the dates for each individuals transition through the S-I-R model are recorded. With the model propsed by Neal & Roberts, some data augmentation is needed. The full likelihood of the model is as follows: \n",
    "\n",
    "$$f(I,R | \\beta, \\theta, Z, P, I_k) = \\prod_{j \\neq k} \\left\\{ \\sum_{i \\in I_j} \\beta \\exp \\{ -\\theta \\kappa(i,j) \\} \\right\\} \\exp \\left\\{ \\sum_{j=1}^m \\sum_{k=1}^n \\lambda_{jk} \\{ \\min(R_j, I_k) - \\min(I_j, I_k ) \\} \\right\\} \\prod_{i=1}^m g(S_i - I_i) $$ \n",
    "For simplicty, the infectious pressure will be restricted to a spatial component such that $ \\lambda_{ij} =  \\beta \\exp \\{ -\\theta \\kappa(i,j) \\} $.\n",
    "$$ $$\n",
    "\\begin{equation}\n",
    "    \\log f(I,R | \\beta, \\theta, Z, P, I_k) = \\sum_{j \\neq k} \\log \\left( \\sum_{i:I_i \\leq I_j \\leq R_i }   \\beta \\exp \\{ -\\theta \\kappa(i,j) \\right) - \\sum_{j=1}^m \\sum_{k=1}^n  \\beta \\exp \\{ -\\theta \\kappa(j,k)\\} \\{ \\min(R_j, I_k) - \\min(I_j, I_k ) \\} + \\sum_{i=1}^m \\log f(D_i|\\delta)\n",
    "\\end{equation} \n",
    "\n",
    "However, since we set the recovery to 5 days, we not longer need to assume those days come from a gamma distribution. The last term in the log-likelihood $\\sum_{i=1}^m \\log f(D_i|\\delta)$ is now just $\\sum_{i=1}^m \\min \\{\\text{recovery}_i, \\text{death}_i \\}$ (regardless of the resulting min, it is a constant w.r.t the parameters and can be dropped).\n",
    "\n",
    "\\begin{equation}\n",
    "    \\log f(I,R | \\beta, \\theta, Z, P, I_k) \\propto \\sum_{j \\neq k} \\log \\left( \\beta \\sum_{i:I_i \\leq I_j \\leq R_i }  \\exp \\{ -\\theta \\kappa(i,j)\\} \\right) - \\sum_{j=1}^m \\sum_{k=1}^n  \\beta \\exp \\{ -\\theta \\kappa(j,k)\\} \\left[ \\min(R_j, I_k) - \\min(I_j, I_k ) \\right]\n",
    "\\end{equation}"
   ]
  },
  {
   "cell_type": "code",
   "execution_count": 159,
   "id": "e558bb29",
   "metadata": {
    "ExecuteTime": {
     "end_time": "2022-04-09T08:32:34.254178Z",
     "start_time": "2022-04-09T08:32:34.242715Z"
    }
   },
   "outputs": [],
   "source": [
    "# compute min(I_j, I_k )\n",
    "pairwise_infections = np.fmin(np.array(measles.date_of_prodrome)[\n",
    "                              :, None], np.array(measles.date_of_prodrome)[None, :])\n",
    "\n",
    "# compute min(R_j, I_k)\n",
    "pairwise_infection_removal = np.fmin(np.array(measles.date_of_prodrome)[\n",
    "    :, None], np.array(measles.date_of_death)[None, :])\n",
    "\n",
    "# compute infectious overlap period\n",
    "pairwise_infectious_overlap = (\n",
    "    pairwise_infection_removal - pairwise_infections) / np.timedelta64(1, \"D\")\n",
    "# compute the WAIFW matrix <----- FIX THIS!!!\n",
    "WAIFW = np.float64((np.array(measles.date_of_prodrome)[:, None] >= np.array(measles.date_of_prodrome)[\n",
    "                   None, :]) & (np.array(measles.date_of_prodrome)[None, :] <= np.array(measles.date_of_removal)[:, None]))"
   ]
  },
  {
   "cell_type": "markdown",
   "id": "87af53c9",
   "metadata": {
    "ExecuteTime": {
     "end_time": "2022-04-07T14:57:50.844852Z",
     "start_time": "2022-04-07T14:57:50.841182Z"
    }
   },
   "source": [
    "## MCMC Algorithm "
   ]
  },
  {
   "cell_type": "code",
   "execution_count": 170,
   "id": "7d91b3bd",
   "metadata": {
    "ExecuteTime": {
     "end_time": "2022-04-09T08:34:13.958210Z",
     "start_time": "2022-04-09T08:34:11.864490Z"
    }
   },
   "outputs": [
    {
     "name": "stderr",
     "output_type": "stream",
     "text": [
      "/var/folders/_q/07k1y14x087brt3tmd2bs1740000gn/T/ipykernel_32172/1443691684.py:58: RuntimeWarning: invalid value encountered in log\n",
      "  part1 = np.log(np.sum((parameters[0] * WAIFW[1:,:] * np.exp(- parameters[1] * pairwise_distances[1:,:]))))\n"
     ]
    },
    {
     "name": "stdout",
     "output_type": "stream",
     "text": [
      "MCMC done!\n"
     ]
    }
   ],
   "source": [
    "# try to back out the overall event rate in the population: i.e. run MCMC for an exponential distribution\n",
    "def ILMepidemic_MCMC(data, init, iters=1001):\n",
    "\n",
    "    def metropolisHastings(init, logLik, rprop, dprior, iters=iters):\n",
    "        # initialize matrix to store results\n",
    "        mat = np.zeros(shape=(iters, len(init)))\n",
    "        mat[0, :] = init\n",
    "\n",
    "        theta = init\n",
    "\n",
    "        # compute initial logLik\n",
    "        ll_main = logLik(mat[0, :])\n",
    "\n",
    "        # run the MCMC for iters many iterations\n",
    "\n",
    "        for ii in range(iters):\n",
    "            # propose new parameters\n",
    "            theta_proposed = rprop(theta)\n",
    "            # check if proposal is a valid one\n",
    "\n",
    "            ll_proposed = logLik(theta_proposed)\n",
    "\n",
    "            # compute the (log) acceptance probability\n",
    "\n",
    "            a = ll_proposed-ll_main + \\\n",
    "                dprior(theta_proposed) - dprior(theta)\n",
    "            # print(f\"proposal, {theta_proposed}. alpha {a}.\")\n",
    "\n",
    "            if (np.log(stats.uniform(0, 1).rvs()) < a):\n",
    "                # print('accept')\n",
    "                theta = theta_proposed\n",
    "                ll_main = ll_proposed\n",
    "\n",
    "                # store the result\n",
    "                mat[ii, :] = theta\n",
    "            else:\n",
    "                # print('reject')\n",
    "                mat[ii, :] = mat[ii-1, :]\n",
    "\n",
    "        print('MCMC done!')\n",
    "\n",
    "        return mat\n",
    "\n",
    "    # parameters are [beta, theta]\n",
    "    def proposal_denisty(parameters):\n",
    "        return stats.norm(parameters, [0.001,0.01]).rvs()\n",
    "\n",
    "    def prior_density(parameters):\n",
    "        # np.sum(stats.gamma.logpdf(parameters, 3, loc=0, scale=1))\n",
    "        return stats.expon.logpdf(x=parameters[0], scale=10) + stats.expon.logpdf(x=parameters[1], scale=10001)\n",
    "\n",
    "    def logLik(parameters):\n",
    "        ## attempt 1\n",
    "        #part1 = (parameters[0] * WAIFW *np.exp(- parameters[1] * pairwise_distances))\n",
    "        #part1 = np.susm(np.log(part1, where=(part1 > 0))) <--- caused by first infected, reorder data and drop first row \n",
    "        \n",
    "        ## attempt 2\n",
    "        part1 = np.log(np.sum((parameters[0] * WAIFW[1:,:] * np.exp(- parameters[1] * pairwise_distances[1:,:]))))\n",
    "        part2 = np.sum(parameters[0] * np.exp(- parameters[1]\n",
    "                       * pairwise_distances) * pairwise_infectious_overlap)\n",
    "        return part1 - part2\n",
    "    \n",
    "    def identify_initial_infected():\n",
    "        return data.date_of_prodrome.argmin()\n",
    "    \n",
    "    ####################################################################################\n",
    "    return metropolisHastings(init=init,\n",
    "                              logLik=logLik,\n",
    "                              rprop=proposal_denisty,\n",
    "                              dprior=prior_density)\n",
    "\n",
    "\n",
    "MCMC_results = ILMepidemic_MCMC(data=measles, init=[0.1, 0.1])"
   ]
  },
  {
   "cell_type": "code",
   "execution_count": 171,
   "id": "da9d7dba",
   "metadata": {
    "ExecuteTime": {
     "end_time": "2022-04-09T08:34:15.596673Z",
     "start_time": "2022-04-09T08:34:15.337460Z"
    }
   },
   "outputs": [
    {
     "data": {
      "text/plain": [
       "array([[<AxesSubplot:>, <AxesSubplot:>]], dtype=object)"
      ]
     },
     "execution_count": 171,
     "metadata": {},
     "output_type": "execute_result"
    },
    {
     "data": {
      "image/png": "[encoded data removed]",
      "text/plain": [
       "<Figure size 864x288 with 2 Axes>"
      ]
     },
     "metadata": {},
     "output_type": "display_data"
    }
   ],
   "source": [
    "pd.DataFrame(MCMC_results, columns=['beta', 'theta']).loc[100:,:].plot(\n",
    "    title='MCMC Results',\n",
    "    figsize=(12, 4),\n",
    "    subplots=True,\n",
    "    layout=(1, 2))"
   ]
  },
  {
   "cell_type": "code",
   "execution_count": 172,
   "id": "9168f901",
   "metadata": {
    "ExecuteTime": {
     "end_time": "2022-04-09T08:34:19.771710Z",
     "start_time": "2022-04-09T08:34:19.482996Z"
    }
   },
   "outputs": [
    {
     "data": {
      "text/plain": [
       "array([[<AxesSubplot:ylabel='Density'>, <AxesSubplot:ylabel='Density'>]],\n",
       "      dtype=object)"
      ]
     },
     "execution_count": 172,
     "metadata": {},
     "output_type": "execute_result"
    },
    {
     "data": {
      "image/png": "[encoded data removed]",
      "text/plain": [
       "<Figure size 864x288 with 2 Axes>"
      ]
     },
     "metadata": {},
     "output_type": "display_data"
    }
   ],
   "source": [
    "pd.DataFrame(MCMC_results, columns=['beta', 'theta']).loc[100:,:].plot(\n",
    "    title='MCMC Results: beta ~ 0.3, theta ~ 1.8',\n",
    "    kind = 'kde',\n",
    "    figsize=(12, 4),\n",
    "    subplots=True,\n",
    "    layout=(1, 2))"
   ]
  },
  {
   "cell_type": "code",
   "execution_count": 163,
   "id": "84c1dc0c",
   "metadata": {
    "ExecuteTime": {
     "end_time": "2022-04-09T08:32:37.036744Z",
     "start_time": "2022-04-09T08:32:37.025954Z"
    }
   },
   "outputs": [
    {
     "data": {
      "text/html": [
       "<div>\n",
       "<style scoped>\n",
       "    .dataframe tbody tr th:only-of-type {\n",
       "        vertical-align: middle;\n",
       "    }\n",
       "\n",
       "    .dataframe tbody tr th {\n",
       "        vertical-align: top;\n",
       "    }\n",
       "\n",
       "    .dataframe thead th {\n",
       "        text-align: right;\n",
       "    }\n",
       "</style>\n",
       "<table border=\"1\" class=\"dataframe\">\n",
       "  <thead>\n",
       "    <tr style=\"text-align: right;\">\n",
       "      <th></th>\n",
       "      <th>beta</th>\n",
       "      <th>theta</th>\n",
       "    </tr>\n",
       "  </thead>\n",
       "  <tbody>\n",
       "    <tr>\n",
       "      <th>count</th>\n",
       "      <td>701.000000</td>\n",
       "      <td>701.000000</td>\n",
       "    </tr>\n",
       "    <tr>\n",
       "      <th>mean</th>\n",
       "      <td>0.001722</td>\n",
       "      <td>0.516980</td>\n",
       "    </tr>\n",
       "    <tr>\n",
       "      <th>std</th>\n",
       "      <td>0.001820</td>\n",
       "      <td>0.065969</td>\n",
       "    </tr>\n",
       "    <tr>\n",
       "      <th>min</th>\n",
       "      <td>0.000123</td>\n",
       "      <td>0.388324</td>\n",
       "    </tr>\n",
       "    <tr>\n",
       "      <th>25%</th>\n",
       "      <td>0.000747</td>\n",
       "      <td>0.461762</td>\n",
       "    </tr>\n",
       "    <tr>\n",
       "      <th>50%</th>\n",
       "      <td>0.001297</td>\n",
       "      <td>0.522215</td>\n",
       "    </tr>\n",
       "    <tr>\n",
       "      <th>75%</th>\n",
       "      <td>0.002055</td>\n",
       "      <td>0.573351</td>\n",
       "    </tr>\n",
       "    <tr>\n",
       "      <th>max</th>\n",
       "      <td>0.011948</td>\n",
       "      <td>0.639203</td>\n",
       "    </tr>\n",
       "  </tbody>\n",
       "</table>\n",
       "</div>"
      ],
      "text/plain": [
       "             beta       theta\n",
       "count  701.000000  701.000000\n",
       "mean     0.001722    0.516980\n",
       "std      0.001820    0.065969\n",
       "min      0.000123    0.388324\n",
       "25%      0.000747    0.461762\n",
       "50%      0.001297    0.522215\n",
       "75%      0.002055    0.573351\n",
       "max      0.011948    0.639203"
      ]
     },
     "execution_count": 163,
     "metadata": {},
     "output_type": "execute_result"
    }
   ],
   "source": [
    "pd.DataFrame(MCMC_results, columns=['beta', 'theta']).loc[300:,:].describe()"
   ]
  },
  {
   "cell_type": "code",
   "execution_count": 164,
   "id": "a4fc7019",
   "metadata": {
    "ExecuteTime": {
     "end_time": "2022-04-09T08:32:37.043442Z",
     "start_time": "2022-04-09T08:32:37.038199Z"
    }
   },
   "outputs": [
    {
     "data": {
      "text/plain": [
       "-2701628.04685612"
      ]
     },
     "execution_count": 164,
     "metadata": {},
     "output_type": "execute_result"
    }
   ],
   "source": [
    "thing1 = (0.4 * WAIFW * np.exp(- 1.3 * pairwise_distances))\n",
    "np.sum(np.log(thing1, where = (thing1 > 0)))"
   ]
  },
  {
   "cell_type": "code",
   "execution_count": 165,
   "id": "070d9dbe",
   "metadata": {
    "ExecuteTime": {
     "end_time": "2022-04-09T08:32:37.074332Z",
     "start_time": "2022-04-09T08:32:37.044662Z"
    }
   },
   "outputs": [
    {
     "data": {
      "text/html": [
       "<div>\n",
       "<style scoped>\n",
       "    .dataframe tbody tr th:only-of-type {\n",
       "        vertical-align: middle;\n",
       "    }\n",
       "\n",
       "    .dataframe tbody tr th {\n",
       "        vertical-align: top;\n",
       "    }\n",
       "\n",
       "    .dataframe thead th {\n",
       "        text-align: right;\n",
       "    }\n",
       "</style>\n",
       "<table border=\"1\" class=\"dataframe\">\n",
       "  <thead>\n",
       "    <tr style=\"text-align: right;\">\n",
       "      <th></th>\n",
       "      <th>0</th>\n",
       "      <th>1</th>\n",
       "      <th>2</th>\n",
       "      <th>3</th>\n",
       "      <th>4</th>\n",
       "      <th>5</th>\n",
       "      <th>6</th>\n",
       "      <th>7</th>\n",
       "      <th>8</th>\n",
       "      <th>9</th>\n",
       "      <th>...</th>\n",
       "      <th>178</th>\n",
       "      <th>179</th>\n",
       "      <th>180</th>\n",
       "      <th>181</th>\n",
       "      <th>182</th>\n",
       "      <th>183</th>\n",
       "      <th>184</th>\n",
       "      <th>185</th>\n",
       "      <th>186</th>\n",
       "      <th>187</th>\n",
       "    </tr>\n",
       "  </thead>\n",
       "  <tbody>\n",
       "    <tr>\n",
       "      <th>0</th>\n",
       "      <td>1.000000e+00</td>\n",
       "      <td>0.000000e+00</td>\n",
       "      <td>0.000000e+00</td>\n",
       "      <td>0.000000e+00</td>\n",
       "      <td>0.000000e+00</td>\n",
       "      <td>0.000000e+00</td>\n",
       "      <td>0.000000e+00</td>\n",
       "      <td>0.000000e+00</td>\n",
       "      <td>0.000000e+00</td>\n",
       "      <td>0.000000e+00</td>\n",
       "      <td>...</td>\n",
       "      <td>0.000000e+00</td>\n",
       "      <td>0.000000e+00</td>\n",
       "      <td>0.000000e+00</td>\n",
       "      <td>0.000000e+00</td>\n",
       "      <td>0.000000e+00</td>\n",
       "      <td>0.000000e+00</td>\n",
       "      <td>0.000000e+00</td>\n",
       "      <td>0.000000e+00</td>\n",
       "      <td>0.000000e+00</td>\n",
       "      <td>0.0</td>\n",
       "    </tr>\n",
       "    <tr>\n",
       "      <th>1</th>\n",
       "      <td>1.000000e+00</td>\n",
       "      <td>1.000000e+00</td>\n",
       "      <td>0.000000e+00</td>\n",
       "      <td>0.000000e+00</td>\n",
       "      <td>0.000000e+00</td>\n",
       "      <td>0.000000e+00</td>\n",
       "      <td>0.000000e+00</td>\n",
       "      <td>0.000000e+00</td>\n",
       "      <td>0.000000e+00</td>\n",
       "      <td>0.000000e+00</td>\n",
       "      <td>...</td>\n",
       "      <td>0.000000e+00</td>\n",
       "      <td>0.000000e+00</td>\n",
       "      <td>0.000000e+00</td>\n",
       "      <td>0.000000e+00</td>\n",
       "      <td>0.000000e+00</td>\n",
       "      <td>0.000000e+00</td>\n",
       "      <td>0.000000e+00</td>\n",
       "      <td>0.000000e+00</td>\n",
       "      <td>0.000000e+00</td>\n",
       "      <td>0.0</td>\n",
       "    </tr>\n",
       "    <tr>\n",
       "      <th>2</th>\n",
       "      <td>1.000000e+00</td>\n",
       "      <td>1.000000e+00</td>\n",
       "      <td>1.000000e+00</td>\n",
       "      <td>1.654675e-13</td>\n",
       "      <td>0.000000e+00</td>\n",
       "      <td>0.000000e+00</td>\n",
       "      <td>0.000000e+00</td>\n",
       "      <td>0.000000e+00</td>\n",
       "      <td>0.000000e+00</td>\n",
       "      <td>0.000000e+00</td>\n",
       "      <td>...</td>\n",
       "      <td>0.000000e+00</td>\n",
       "      <td>0.000000e+00</td>\n",
       "      <td>0.000000e+00</td>\n",
       "      <td>0.000000e+00</td>\n",
       "      <td>0.000000e+00</td>\n",
       "      <td>0.000000e+00</td>\n",
       "      <td>0.000000e+00</td>\n",
       "      <td>0.000000e+00</td>\n",
       "      <td>0.000000e+00</td>\n",
       "      <td>0.0</td>\n",
       "    </tr>\n",
       "    <tr>\n",
       "      <th>3</th>\n",
       "      <td>1.654675e-13</td>\n",
       "      <td>1.654675e-13</td>\n",
       "      <td>1.654675e-13</td>\n",
       "      <td>1.000000e+00</td>\n",
       "      <td>0.000000e+00</td>\n",
       "      <td>0.000000e+00</td>\n",
       "      <td>0.000000e+00</td>\n",
       "      <td>0.000000e+00</td>\n",
       "      <td>0.000000e+00</td>\n",
       "      <td>0.000000e+00</td>\n",
       "      <td>...</td>\n",
       "      <td>0.000000e+00</td>\n",
       "      <td>0.000000e+00</td>\n",
       "      <td>0.000000e+00</td>\n",
       "      <td>0.000000e+00</td>\n",
       "      <td>0.000000e+00</td>\n",
       "      <td>0.000000e+00</td>\n",
       "      <td>0.000000e+00</td>\n",
       "      <td>0.000000e+00</td>\n",
       "      <td>0.000000e+00</td>\n",
       "      <td>0.0</td>\n",
       "    </tr>\n",
       "    <tr>\n",
       "      <th>4</th>\n",
       "      <td>4.173201e-12</td>\n",
       "      <td>4.173201e-12</td>\n",
       "      <td>4.173201e-12</td>\n",
       "      <td>9.908447e-16</td>\n",
       "      <td>1.000000e+00</td>\n",
       "      <td>0.000000e+00</td>\n",
       "      <td>0.000000e+00</td>\n",
       "      <td>0.000000e+00</td>\n",
       "      <td>0.000000e+00</td>\n",
       "      <td>0.000000e+00</td>\n",
       "      <td>...</td>\n",
       "      <td>0.000000e+00</td>\n",
       "      <td>0.000000e+00</td>\n",
       "      <td>0.000000e+00</td>\n",
       "      <td>0.000000e+00</td>\n",
       "      <td>0.000000e+00</td>\n",
       "      <td>0.000000e+00</td>\n",
       "      <td>0.000000e+00</td>\n",
       "      <td>0.000000e+00</td>\n",
       "      <td>0.000000e+00</td>\n",
       "      <td>0.0</td>\n",
       "    </tr>\n",
       "    <tr>\n",
       "      <th>...</th>\n",
       "      <td>...</td>\n",
       "      <td>...</td>\n",
       "      <td>...</td>\n",
       "      <td>...</td>\n",
       "      <td>...</td>\n",
       "      <td>...</td>\n",
       "      <td>...</td>\n",
       "      <td>...</td>\n",
       "      <td>...</td>\n",
       "      <td>...</td>\n",
       "      <td>...</td>\n",
       "      <td>...</td>\n",
       "      <td>...</td>\n",
       "      <td>...</td>\n",
       "      <td>...</td>\n",
       "      <td>...</td>\n",
       "      <td>...</td>\n",
       "      <td>...</td>\n",
       "      <td>...</td>\n",
       "      <td>...</td>\n",
       "      <td>...</td>\n",
       "    </tr>\n",
       "    <tr>\n",
       "      <th>183</th>\n",
       "      <td>1.558004e-61</td>\n",
       "      <td>1.558004e-61</td>\n",
       "      <td>1.558004e-61</td>\n",
       "      <td>1.184454e-56</td>\n",
       "      <td>1.310454e-50</td>\n",
       "      <td>1.310454e-50</td>\n",
       "      <td>1.493603e-59</td>\n",
       "      <td>5.013748e-55</td>\n",
       "      <td>5.013748e-55</td>\n",
       "      <td>2.082345e-78</td>\n",
       "      <td>...</td>\n",
       "      <td>1.000000e+00</td>\n",
       "      <td>1.000000e+00</td>\n",
       "      <td>1.000000e+00</td>\n",
       "      <td>1.000000e+00</td>\n",
       "      <td>1.000000e+00</td>\n",
       "      <td>1.000000e+00</td>\n",
       "      <td>0.000000e+00</td>\n",
       "      <td>0.000000e+00</td>\n",
       "      <td>0.000000e+00</td>\n",
       "      <td>0.0</td>\n",
       "    </tr>\n",
       "    <tr>\n",
       "      <th>184</th>\n",
       "      <td>3.672786e-59</td>\n",
       "      <td>3.672786e-59</td>\n",
       "      <td>3.672786e-59</td>\n",
       "      <td>3.178168e-51</td>\n",
       "      <td>1.217095e-49</td>\n",
       "      <td>1.217095e-49</td>\n",
       "      <td>1.180889e-43</td>\n",
       "      <td>2.253860e-63</td>\n",
       "      <td>2.253860e-63</td>\n",
       "      <td>1.484382e-64</td>\n",
       "      <td>...</td>\n",
       "      <td>8.070741e-17</td>\n",
       "      <td>8.070741e-17</td>\n",
       "      <td>8.070741e-17</td>\n",
       "      <td>8.070741e-17</td>\n",
       "      <td>8.070741e-17</td>\n",
       "      <td>8.070741e-17</td>\n",
       "      <td>1.000000e+00</td>\n",
       "      <td>0.000000e+00</td>\n",
       "      <td>0.000000e+00</td>\n",
       "      <td>0.0</td>\n",
       "    </tr>\n",
       "    <tr>\n",
       "      <th>185</th>\n",
       "      <td>1.196645e-40</td>\n",
       "      <td>1.196645e-40</td>\n",
       "      <td>1.196645e-40</td>\n",
       "      <td>1.858954e-28</td>\n",
       "      <td>1.978245e-42</td>\n",
       "      <td>1.978245e-42</td>\n",
       "      <td>1.205017e-47</td>\n",
       "      <td>2.627149e-75</td>\n",
       "      <td>2.627149e-75</td>\n",
       "      <td>2.062974e-18</td>\n",
       "      <td>...</td>\n",
       "      <td>4.242810e-65</td>\n",
       "      <td>4.242810e-65</td>\n",
       "      <td>4.242810e-65</td>\n",
       "      <td>4.242810e-65</td>\n",
       "      <td>4.242810e-65</td>\n",
       "      <td>4.242810e-65</td>\n",
       "      <td>4.024446e-53</td>\n",
       "      <td>1.000000e+00</td>\n",
       "      <td>4.024446e-53</td>\n",
       "      <td>0.0</td>\n",
       "    </tr>\n",
       "    <tr>\n",
       "      <th>186</th>\n",
       "      <td>3.672786e-59</td>\n",
       "      <td>3.672786e-59</td>\n",
       "      <td>3.672786e-59</td>\n",
       "      <td>3.178168e-51</td>\n",
       "      <td>1.217095e-49</td>\n",
       "      <td>1.217095e-49</td>\n",
       "      <td>1.180889e-43</td>\n",
       "      <td>2.253860e-63</td>\n",
       "      <td>2.253860e-63</td>\n",
       "      <td>1.484382e-64</td>\n",
       "      <td>...</td>\n",
       "      <td>8.070741e-17</td>\n",
       "      <td>8.070741e-17</td>\n",
       "      <td>8.070741e-17</td>\n",
       "      <td>8.070741e-17</td>\n",
       "      <td>8.070741e-17</td>\n",
       "      <td>8.070741e-17</td>\n",
       "      <td>1.000000e+00</td>\n",
       "      <td>4.024446e-53</td>\n",
       "      <td>1.000000e+00</td>\n",
       "      <td>0.0</td>\n",
       "    </tr>\n",
       "    <tr>\n",
       "      <th>187</th>\n",
       "      <td>1.196645e-40</td>\n",
       "      <td>1.196645e-40</td>\n",
       "      <td>1.196645e-40</td>\n",
       "      <td>1.858954e-28</td>\n",
       "      <td>1.978245e-42</td>\n",
       "      <td>1.978245e-42</td>\n",
       "      <td>1.205017e-47</td>\n",
       "      <td>2.627149e-75</td>\n",
       "      <td>2.627149e-75</td>\n",
       "      <td>2.062974e-18</td>\n",
       "      <td>...</td>\n",
       "      <td>4.242810e-65</td>\n",
       "      <td>4.242810e-65</td>\n",
       "      <td>4.242810e-65</td>\n",
       "      <td>4.242810e-65</td>\n",
       "      <td>4.242810e-65</td>\n",
       "      <td>4.242810e-65</td>\n",
       "      <td>4.024446e-53</td>\n",
       "      <td>1.000000e+00</td>\n",
       "      <td>4.024446e-53</td>\n",
       "      <td>1.0</td>\n",
       "    </tr>\n",
       "  </tbody>\n",
       "</table>\n",
       "<p>188 rows × 188 columns</p>\n",
       "</div>"
      ],
      "text/plain": [
       "              0             1             2             3             4    \\\n",
       "0    1.000000e+00  0.000000e+00  0.000000e+00  0.000000e+00  0.000000e+00   \n",
       "1    1.000000e+00  1.000000e+00  0.000000e+00  0.000000e+00  0.000000e+00   \n",
       "2    1.000000e+00  1.000000e+00  1.000000e+00  1.654675e-13  0.000000e+00   \n",
       "3    1.654675e-13  1.654675e-13  1.654675e-13  1.000000e+00  0.000000e+00   \n",
       "4    4.173201e-12  4.173201e-12  4.173201e-12  9.908447e-16  1.000000e+00   \n",
       "..            ...           ...           ...           ...           ...   \n",
       "183  1.558004e-61  1.558004e-61  1.558004e-61  1.184454e-56  1.310454e-50   \n",
       "184  3.672786e-59  3.672786e-59  3.672786e-59  3.178168e-51  1.217095e-49   \n",
       "185  1.196645e-40  1.196645e-40  1.196645e-40  1.858954e-28  1.978245e-42   \n",
       "186  3.672786e-59  3.672786e-59  3.672786e-59  3.178168e-51  1.217095e-49   \n",
       "187  1.196645e-40  1.196645e-40  1.196645e-40  1.858954e-28  1.978245e-42   \n",
       "\n",
       "              5             6             7             8             9    \\\n",
       "0    0.000000e+00  0.000000e+00  0.000000e+00  0.000000e+00  0.000000e+00   \n",
       "1    0.000000e+00  0.000000e+00  0.000000e+00  0.000000e+00  0.000000e+00   \n",
       "2    0.000000e+00  0.000000e+00  0.000000e+00  0.000000e+00  0.000000e+00   \n",
       "3    0.000000e+00  0.000000e+00  0.000000e+00  0.000000e+00  0.000000e+00   \n",
       "4    0.000000e+00  0.000000e+00  0.000000e+00  0.000000e+00  0.000000e+00   \n",
       "..            ...           ...           ...           ...           ...   \n",
       "183  1.310454e-50  1.493603e-59  5.013748e-55  5.013748e-55  2.082345e-78   \n",
       "184  1.217095e-49  1.180889e-43  2.253860e-63  2.253860e-63  1.484382e-64   \n",
       "185  1.978245e-42  1.205017e-47  2.627149e-75  2.627149e-75  2.062974e-18   \n",
       "186  1.217095e-49  1.180889e-43  2.253860e-63  2.253860e-63  1.484382e-64   \n",
       "187  1.978245e-42  1.205017e-47  2.627149e-75  2.627149e-75  2.062974e-18   \n",
       "\n",
       "     ...           178           179           180           181  \\\n",
       "0    ...  0.000000e+00  0.000000e+00  0.000000e+00  0.000000e+00   \n",
       "1    ...  0.000000e+00  0.000000e+00  0.000000e+00  0.000000e+00   \n",
       "2    ...  0.000000e+00  0.000000e+00  0.000000e+00  0.000000e+00   \n",
       "3    ...  0.000000e+00  0.000000e+00  0.000000e+00  0.000000e+00   \n",
       "4    ...  0.000000e+00  0.000000e+00  0.000000e+00  0.000000e+00   \n",
       "..   ...           ...           ...           ...           ...   \n",
       "183  ...  1.000000e+00  1.000000e+00  1.000000e+00  1.000000e+00   \n",
       "184  ...  8.070741e-17  8.070741e-17  8.070741e-17  8.070741e-17   \n",
       "185  ...  4.242810e-65  4.242810e-65  4.242810e-65  4.242810e-65   \n",
       "186  ...  8.070741e-17  8.070741e-17  8.070741e-17  8.070741e-17   \n",
       "187  ...  4.242810e-65  4.242810e-65  4.242810e-65  4.242810e-65   \n",
       "\n",
       "              182           183           184           185           186  187  \n",
       "0    0.000000e+00  0.000000e+00  0.000000e+00  0.000000e+00  0.000000e+00  0.0  \n",
       "1    0.000000e+00  0.000000e+00  0.000000e+00  0.000000e+00  0.000000e+00  0.0  \n",
       "2    0.000000e+00  0.000000e+00  0.000000e+00  0.000000e+00  0.000000e+00  0.0  \n",
       "3    0.000000e+00  0.000000e+00  0.000000e+00  0.000000e+00  0.000000e+00  0.0  \n",
       "4    0.000000e+00  0.000000e+00  0.000000e+00  0.000000e+00  0.000000e+00  0.0  \n",
       "..            ...           ...           ...           ...           ...  ...  \n",
       "183  1.000000e+00  1.000000e+00  0.000000e+00  0.000000e+00  0.000000e+00  0.0  \n",
       "184  8.070741e-17  8.070741e-17  1.000000e+00  0.000000e+00  0.000000e+00  0.0  \n",
       "185  4.242810e-65  4.242810e-65  4.024446e-53  1.000000e+00  4.024446e-53  0.0  \n",
       "186  8.070741e-17  8.070741e-17  1.000000e+00  4.024446e-53  1.000000e+00  0.0  \n",
       "187  4.242810e-65  4.242810e-65  4.024446e-53  1.000000e+00  4.024446e-53  1.0  \n",
       "\n",
       "[188 rows x 188 columns]"
      ]
     },
     "execution_count": 165,
     "metadata": {},
     "output_type": "execute_result"
    }
   ],
   "source": [
    "pd.DataFrame(WAIFW * np.exp(- 1.3 * pairwise_distances))"
   ]
  },
  {
   "cell_type": "code",
   "execution_count": 166,
   "id": "4769930a",
   "metadata": {
    "ExecuteTime": {
     "end_time": "2022-04-09T08:32:37.080301Z",
     "start_time": "2022-04-09T08:32:37.075645Z"
    }
   },
   "outputs": [
    {
     "data": {
      "text/plain": [
       "array([[ True,  True,  True, ..., False, False, False],\n",
       "       [False,  True,  True, ..., False, False, False],\n",
       "       [False, False,  True, ..., False, False, False],\n",
       "       ...,\n",
       "       [False, False, False, ...,  True,  True, False],\n",
       "       [False, False, False, ...,  True,  True, False],\n",
       "       [False, False, False, ..., False, False,  True]])"
      ]
     },
     "execution_count": 166,
     "metadata": {},
     "output_type": "execute_result"
    }
   ],
   "source": [
    "(np.array(measles.date_of_prodrome)[:, None] <= np.array(measles.date_of_prodrome)[None, :]) & (\n",
    "    np.array(measles.date_of_prodrome)[None, :] <= np.array(measles.date_of_removal)[:, None])"
   ]
  },
  {
   "cell_type": "code",
   "execution_count": 167,
   "id": "7a54c204",
   "metadata": {
    "ExecuteTime": {
     "end_time": "2022-04-09T08:32:37.085606Z",
     "start_time": "2022-04-09T08:32:37.081555Z"
    }
   },
   "outputs": [
    {
     "data": {
      "text/plain": [
       "array([[ True, False, False, ..., False, False, False],\n",
       "       [ True,  True, False, ..., False, False, False],\n",
       "       [ True,  True,  True, ..., False, False, False],\n",
       "       ...,\n",
       "       [ True,  True,  True, ...,  True,  True, False],\n",
       "       [ True,  True,  True, ...,  True,  True, False],\n",
       "       [ True,  True,  True, ...,  True,  True,  True]])"
      ]
     },
     "execution_count": 167,
     "metadata": {},
     "output_type": "execute_result"
    }
   ],
   "source": [
    "# I_j <= I_i\n",
    "(np.array(measles.date_of_prodrome)[:, None] >= np.array(measles.date_of_prodrome)[None, :])"
   ]
  },
  {
   "cell_type": "code",
   "execution_count": 199,
   "id": "2d89364e",
   "metadata": {
    "ExecuteTime": {
     "end_time": "2022-04-09T08:45:57.462287Z",
     "start_time": "2022-04-09T08:45:57.456923Z"
    }
   },
   "outputs": [
    {
     "data": {
      "text/plain": [
       "array([[ True,  True,  True, ..., False, False, False],\n",
       "       [ True,  True,  True, ..., False, False, False],\n",
       "       [ True,  True,  True, ..., False, False, False],\n",
       "       ...,\n",
       "       [ True,  True,  True, ...,  True,  True, False],\n",
       "       [ True,  True,  True, ...,  True,  True, False],\n",
       "       [ True,  True,  True, ...,  True,  True,  True]])"
      ]
     },
     "execution_count": 199,
     "metadata": {},
     "output_type": "execute_result"
    }
   ],
   "source": [
    "# I_i <= R_j\n",
    "np.array(measles.date_of_prodrome)[None, :] <= np.array(measles.date_of_removal)[:, None]"
   ]
  },
  {
   "cell_type": "code",
   "execution_count": 198,
   "id": "a479a591",
   "metadata": {
    "ExecuteTime": {
     "end_time": "2022-04-09T08:45:29.565916Z",
     "start_time": "2022-04-09T08:45:29.558018Z"
    }
   },
   "outputs": [
    {
     "data": {
      "text/plain": [
       "array([[0., 0., 0., ..., 0., 0., 0.],\n",
       "       [0., 0., 0., ..., 0., 0., 0.],\n",
       "       [0., 0., 0., ..., 0., 0., 0.],\n",
       "       ...,\n",
       "       [0., 0., 0., ..., 1., 1., 0.],\n",
       "       [0., 0., 0., ..., 1., 1., 0.],\n",
       "       [0., 0., 0., ..., 1., 1., 1.]])"
      ]
     },
     "execution_count": 198,
     "metadata": {},
     "output_type": "execute_result"
    }
   ],
   "source": [
    "np.float64((np.array(measles.date_of_prodrome)[:, None] >= np.array(measles.date_of_prodrome)[None, :])) * np.float64(np.array(measles.date_of_prodrome)[None, :] >= np.array(measles.date_of_removal)[:, None][8,])"
   ]
  },
  {
   "cell_type": "code",
   "execution_count": 189,
   "id": "39af177b",
   "metadata": {
    "ExecuteTime": {
     "end_time": "2022-04-09T08:41:41.771975Z",
     "start_time": "2022-04-09T08:41:41.765911Z"
    }
   },
   "outputs": [
    {
     "data": {
      "text/plain": [
       "array([1., 1., 1., 1., 1., 1., 1., 1., 1., 1., 1., 0., 0., 0., 0., 0., 0.,\n",
       "       0., 0., 0., 0., 0., 0., 0., 0., 0., 0., 0., 0., 0., 0., 0., 0., 0.,\n",
       "       0., 0., 0., 0., 0., 0., 0., 0., 0., 0., 0., 0., 0., 0., 0., 0., 0.,\n",
       "       0., 0., 0., 0., 0., 0., 0., 0., 0., 0., 0., 0., 0., 0., 0., 0., 0.,\n",
       "       0., 0., 0., 0., 0., 0., 0., 0., 0., 0., 0., 0., 0., 0., 0., 0., 0.,\n",
       "       0., 0., 0., 0., 0., 0., 0., 0., 0., 0., 0., 0., 0., 0., 0., 0., 0.,\n",
       "       0., 0., 0., 0., 0., 0., 0., 0., 0., 0., 0., 0., 0., 0., 0., 0., 0.,\n",
       "       0., 0., 0., 0., 0., 0., 0., 0., 0., 0., 0., 0., 0., 0., 0., 0., 0.,\n",
       "       0., 0., 0., 0., 0., 0., 0., 0., 0., 0., 0., 0., 0., 0., 0., 0., 0.,\n",
       "       0., 0., 0., 0., 0., 0., 0., 0., 0., 0., 0., 0., 0., 0., 0., 0., 0.,\n",
       "       0., 0., 0., 0., 0., 0., 0., 0., 0., 0., 0., 0., 0., 0., 0., 0., 0.,\n",
       "       0.])"
      ]
     },
     "execution_count": 189,
     "metadata": {},
     "output_type": "execute_result"
    }
   ],
   "source": [
    "WAIFW[9,:]"
   ]
  }
 ],
 "metadata": {
  "kernelspec": {
   "display_name": "Python 3 (ipykernel)",
   "language": "python",
   "name": "python3"
  },
  "language_info": {
   "codemirror_mode": {
    "name": "ipython",
    "version": 3
   },
   "file_extension": ".py",
   "mimetype": "text/x-python",
   "name": "python",
   "nbconvert_exporter": "python",
   "pygments_lexer": "ipython3",
   "version": "3.9.7"
  },
  "toc": {
   "base_numbering": 1,
   "nav_menu": {},
   "number_sections": true,
   "sideBar": true,
   "skip_h1_title": false,
   "title_cell": "Table of Contents",
   "title_sidebar": "Contents",
   "toc_cell": false,
   "toc_position": {},
   "toc_section_display": true,
   "toc_window_display": false
  },
  "varInspector": {
   "cols": {
    "lenName": 16,
    "lenType": 16,
    "lenVar": 40
   },
   "kernels_config": {
    "python": {
     "delete_cmd_postfix": "",
     "delete_cmd_prefix": "del ",
     "library": "var_list.py",
     "varRefreshCmd": "print(var_dic_list())"
    },
    "r": {
     "delete_cmd_postfix": ") ",
     "delete_cmd_prefix": "rm(",
     "library": "var_list.r",
     "varRefreshCmd": "cat(var_dic_list()) "
    }
   },
   "types_to_exclude": [
    "module",
    "function",
    "builtin_function_or_method",
    "instance",
    "_Feature"
   ],
   "window_display": false
  }
 },
 "nbformat": 4,
 "nbformat_minor": 5
}
