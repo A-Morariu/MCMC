{
 "cells": [
  {
   "cell_type": "markdown",
   "id": "af9e9893",
   "metadata": {},
   "source": [
    "# Individual Level Epidemic Models\n",
    "\n",
    "Susceptible-Infected-Removed (SIR) models make up the core of stochastic epidemic modeling. The simplest case of the model proposes that an population (of size $N$) transitions through three stages. Individuals start in the susceptible stage (unless they are part of the initial infected subset). As a result of interacting with the infected individuals in a population, a susceptible member transitions to the infected stage at a rate $\\beta(\\cdot)$ which is a function of some covariates. Once infected, these members of the population contribute to the total infectious pressure, infecting other susceptibles or they become removed (recovered - and assumed to be immune, or die) at a rate $\\gamma(\\cdot)$ which is a function of some covariates.\n",
    "\n",
    "In this document, we look at performing Bayesian inference on these models with the goal of *correctly* estimating the parameters of the rate functions $(\\beta(\\cdot), \\gamma(\\cdot))$. We will be using the 1861 Hagelloch measles data set for this exercise and augment it as necessary."
   ]
  },
  {
   "cell_type": "code",
   "execution_count": 1,
   "id": "a3eae98a",
   "metadata": {
    "ExecuteTime": {
     "end_time": "2022-04-22T13:49:22.729839Z",
     "start_time": "2022-04-22T13:49:20.490800Z"
    }
   },
   "outputs": [],
   "source": [
    "# preamble - load all packages \n",
    "\n",
    "import pandas as pd \n",
    "import numpy as np \n",
    "import matplotlib.pyplot as plt \n",
    "import seaborn as sns\n",
    "import datetime\n",
    "\n",
    "from scipy import stats\n",
    "from sklearn.metrics.pairwise import euclidean_distances\n",
    "\n",
    "sns.set(rc = {'figure.figsize':(15,8)})"
   ]
  },
  {
   "cell_type": "code",
   "execution_count": 2,
   "id": "ce468c56",
   "metadata": {
    "ExecuteTime": {
     "end_time": "2022-04-22T13:49:22.742173Z",
     "start_time": "2022-04-22T13:49:22.731406Z"
    }
   },
   "outputs": [],
   "source": [
    "measles = pd.read_csv('measles_hagelloch_1861.csv')"
   ]
  },
  {
   "cell_type": "code",
   "execution_count": 3,
   "id": "c4c7c697",
   "metadata": {
    "ExecuteTime": {
     "end_time": "2022-04-22T13:49:22.753212Z",
     "start_time": "2022-04-22T13:49:22.743304Z"
    }
   },
   "outputs": [],
   "source": [
    "pairwise_distances = euclidean_distances(X=measles[['x_loc', 'y_loc']])"
   ]
  },
  {
   "cell_type": "code",
   "execution_count": 4,
   "id": "ae5646ab",
   "metadata": {
    "ExecuteTime": {
     "end_time": "2022-04-22T13:49:22.764756Z",
     "start_time": "2022-04-22T13:49:22.756014Z"
    }
   },
   "outputs": [],
   "source": [
    "# formating the dates \n",
    "measles['date_of_prodrome'] = pd.to_datetime(measles['date_of_prodrome'], format='%Y-%m-%d')\n",
    "measles['date_of_rash'] = pd.to_datetime(measles['date_of_rash'], format='%Y-%m-%d')\n",
    "measles['date_of_death'] = pd.to_datetime(measles['date_of_death'], format='%Y-%m-%d')"
   ]
  },
  {
   "cell_type": "code",
   "execution_count": 5,
   "id": "9f2fe2b6",
   "metadata": {
    "ExecuteTime": {
     "end_time": "2022-04-22T13:49:22.772626Z",
     "start_time": "2022-04-22T13:49:22.766740Z"
    }
   },
   "outputs": [],
   "source": [
    "# fill death time - death is NaN in many cases \n",
    "measles['date_of_death'] = measles['date_of_death'].fillna(pd.to_datetime('1/1/2000'))"
   ]
  },
  {
   "cell_type": "code",
   "execution_count": 6,
   "id": "5045bf20",
   "metadata": {
    "ExecuteTime": {
     "end_time": "2022-04-22T13:49:22.782303Z",
     "start_time": "2022-04-22T13:49:22.774578Z"
    }
   },
   "outputs": [],
   "source": [
    "# to avoid imputing removal time, assume rash + 5 days\n",
    "measles = measles.assign(\n",
    "    date_of_removal=lambda df: df.date_of_rash + datetime.timedelta(days=5))\n",
    "measles = measles.assign(date_of_removal=measles[['date_of_removal', 'date_of_death']].min(axis=1))"
   ]
  },
  {
   "cell_type": "code",
   "execution_count": 7,
   "id": "2ac502ce",
   "metadata": {
    "ExecuteTime": {
     "end_time": "2022-04-22T13:49:22.800772Z",
     "start_time": "2022-04-22T13:49:22.783977Z"
    },
    "scrolled": true
   },
   "outputs": [
    {
     "data": {
      "text/html": [
       "<div>\n",
       "<style scoped>\n",
       "    .dataframe tbody tr th:only-of-type {\n",
       "        vertical-align: middle;\n",
       "    }\n",
       "\n",
       "    .dataframe tbody tr th {\n",
       "        vertical-align: top;\n",
       "    }\n",
       "\n",
       "    .dataframe thead th {\n",
       "        text-align: right;\n",
       "    }\n",
       "</style>\n",
       "<table border=\"1\" class=\"dataframe\">\n",
       "  <thead>\n",
       "    <tr style=\"text-align: right;\">\n",
       "      <th></th>\n",
       "      <th>case_ID</th>\n",
       "      <th>infector</th>\n",
       "      <th>date_of_prodrome</th>\n",
       "      <th>date_of_rash</th>\n",
       "      <th>date_of_death</th>\n",
       "      <th>age</th>\n",
       "      <th>gender</th>\n",
       "      <th>family_ID</th>\n",
       "      <th>class</th>\n",
       "      <th>complications</th>\n",
       "      <th>x_loc</th>\n",
       "      <th>y_loc</th>\n",
       "      <th>date_of_removal</th>\n",
       "    </tr>\n",
       "  </thead>\n",
       "  <tbody>\n",
       "    <tr>\n",
       "      <th>0</th>\n",
       "      <td>1</td>\n",
       "      <td>45.0</td>\n",
       "      <td>1861-11-21</td>\n",
       "      <td>1861-11-25</td>\n",
       "      <td>2000-01-01</td>\n",
       "      <td>7</td>\n",
       "      <td>f</td>\n",
       "      <td>41</td>\n",
       "      <td>1</td>\n",
       "      <td>yes</td>\n",
       "      <td>142.5</td>\n",
       "      <td>100.0</td>\n",
       "      <td>1861-11-30</td>\n",
       "    </tr>\n",
       "    <tr>\n",
       "      <th>1</th>\n",
       "      <td>2</td>\n",
       "      <td>45.0</td>\n",
       "      <td>1861-11-23</td>\n",
       "      <td>1861-11-27</td>\n",
       "      <td>2000-01-01</td>\n",
       "      <td>6</td>\n",
       "      <td>f</td>\n",
       "      <td>41</td>\n",
       "      <td>1</td>\n",
       "      <td>yes</td>\n",
       "      <td>142.5</td>\n",
       "      <td>100.0</td>\n",
       "      <td>1861-12-02</td>\n",
       "    </tr>\n",
       "    <tr>\n",
       "      <th>2</th>\n",
       "      <td>3</td>\n",
       "      <td>172.0</td>\n",
       "      <td>1861-11-28</td>\n",
       "      <td>1861-12-02</td>\n",
       "      <td>2000-01-01</td>\n",
       "      <td>4</td>\n",
       "      <td>f</td>\n",
       "      <td>41</td>\n",
       "      <td>0</td>\n",
       "      <td>yes</td>\n",
       "      <td>142.5</td>\n",
       "      <td>100.0</td>\n",
       "      <td>1861-12-07</td>\n",
       "    </tr>\n",
       "    <tr>\n",
       "      <th>3</th>\n",
       "      <td>4</td>\n",
       "      <td>180.0</td>\n",
       "      <td>1861-11-27</td>\n",
       "      <td>1861-11-28</td>\n",
       "      <td>2000-01-01</td>\n",
       "      <td>13</td>\n",
       "      <td>m</td>\n",
       "      <td>61</td>\n",
       "      <td>2</td>\n",
       "      <td>yes</td>\n",
       "      <td>165.0</td>\n",
       "      <td>102.5</td>\n",
       "      <td>1861-12-03</td>\n",
       "    </tr>\n",
       "    <tr>\n",
       "      <th>4</th>\n",
       "      <td>5</td>\n",
       "      <td>45.0</td>\n",
       "      <td>1861-11-22</td>\n",
       "      <td>1861-11-27</td>\n",
       "      <td>2000-01-01</td>\n",
       "      <td>8</td>\n",
       "      <td>f</td>\n",
       "      <td>42</td>\n",
       "      <td>1</td>\n",
       "      <td>yes</td>\n",
       "      <td>145.0</td>\n",
       "      <td>120.0</td>\n",
       "      <td>1861-12-02</td>\n",
       "    </tr>\n",
       "  </tbody>\n",
       "</table>\n",
       "</div>"
      ],
      "text/plain": [
       "   case_ID  infector date_of_prodrome date_of_rash date_of_death  age gender  \\\n",
       "0        1      45.0       1861-11-21   1861-11-25    2000-01-01    7      f   \n",
       "1        2      45.0       1861-11-23   1861-11-27    2000-01-01    6      f   \n",
       "2        3     172.0       1861-11-28   1861-12-02    2000-01-01    4      f   \n",
       "3        4     180.0       1861-11-27   1861-11-28    2000-01-01   13      m   \n",
       "4        5      45.0       1861-11-22   1861-11-27    2000-01-01    8      f   \n",
       "\n",
       "   family_ID  class complications  x_loc  y_loc date_of_removal  \n",
       "0         41      1           yes  142.5  100.0      1861-11-30  \n",
       "1         41      1           yes  142.5  100.0      1861-12-02  \n",
       "2         41      0           yes  142.5  100.0      1861-12-07  \n",
       "3         61      2           yes  165.0  102.5      1861-12-03  \n",
       "4         42      1           yes  145.0  120.0      1861-12-02  "
      ]
     },
     "execution_count": 7,
     "metadata": {},
     "output_type": "execute_result"
    }
   ],
   "source": [
    "# preview the data\n",
    "measles.head()"
   ]
  },
  {
   "cell_type": "code",
   "execution_count": 8,
   "id": "fe3ddf34",
   "metadata": {
    "ExecuteTime": {
     "end_time": "2022-04-22T13:49:22.817022Z",
     "start_time": "2022-04-22T13:49:22.802578Z"
    }
   },
   "outputs": [
    {
     "data": {
      "text/html": [
       "<div>\n",
       "<style scoped>\n",
       "    .dataframe tbody tr th:only-of-type {\n",
       "        vertical-align: middle;\n",
       "    }\n",
       "\n",
       "    .dataframe tbody tr th {\n",
       "        vertical-align: top;\n",
       "    }\n",
       "\n",
       "    .dataframe thead th {\n",
       "        text-align: right;\n",
       "    }\n",
       "</style>\n",
       "<table border=\"1\" class=\"dataframe\">\n",
       "  <thead>\n",
       "    <tr style=\"text-align: right;\">\n",
       "      <th></th>\n",
       "      <th>case_ID</th>\n",
       "      <th>infector</th>\n",
       "      <th>date_of_prodrome</th>\n",
       "      <th>date_of_rash</th>\n",
       "      <th>date_of_death</th>\n",
       "      <th>age</th>\n",
       "      <th>gender</th>\n",
       "      <th>family_ID</th>\n",
       "      <th>class</th>\n",
       "      <th>complications</th>\n",
       "      <th>x_loc</th>\n",
       "      <th>y_loc</th>\n",
       "      <th>date_of_removal</th>\n",
       "    </tr>\n",
       "  </thead>\n",
       "  <tbody>\n",
       "    <tr>\n",
       "      <th>0</th>\n",
       "      <td>1</td>\n",
       "      <td>45.0</td>\n",
       "      <td>1861-11-21</td>\n",
       "      <td>1861-11-25</td>\n",
       "      <td>2000-01-01</td>\n",
       "      <td>7</td>\n",
       "      <td>f</td>\n",
       "      <td>41</td>\n",
       "      <td>1</td>\n",
       "      <td>yes</td>\n",
       "      <td>142.5</td>\n",
       "      <td>100.0</td>\n",
       "      <td>1861-11-30</td>\n",
       "    </tr>\n",
       "    <tr>\n",
       "      <th>1</th>\n",
       "      <td>2</td>\n",
       "      <td>45.0</td>\n",
       "      <td>1861-11-23</td>\n",
       "      <td>1861-11-27</td>\n",
       "      <td>2000-01-01</td>\n",
       "      <td>6</td>\n",
       "      <td>f</td>\n",
       "      <td>41</td>\n",
       "      <td>1</td>\n",
       "      <td>yes</td>\n",
       "      <td>142.5</td>\n",
       "      <td>100.0</td>\n",
       "      <td>1861-12-02</td>\n",
       "    </tr>\n",
       "    <tr>\n",
       "      <th>2</th>\n",
       "      <td>3</td>\n",
       "      <td>172.0</td>\n",
       "      <td>1861-11-28</td>\n",
       "      <td>1861-12-02</td>\n",
       "      <td>2000-01-01</td>\n",
       "      <td>4</td>\n",
       "      <td>f</td>\n",
       "      <td>41</td>\n",
       "      <td>0</td>\n",
       "      <td>yes</td>\n",
       "      <td>142.5</td>\n",
       "      <td>100.0</td>\n",
       "      <td>1861-12-07</td>\n",
       "    </tr>\n",
       "    <tr>\n",
       "      <th>3</th>\n",
       "      <td>4</td>\n",
       "      <td>180.0</td>\n",
       "      <td>1861-11-27</td>\n",
       "      <td>1861-11-28</td>\n",
       "      <td>2000-01-01</td>\n",
       "      <td>13</td>\n",
       "      <td>m</td>\n",
       "      <td>61</td>\n",
       "      <td>2</td>\n",
       "      <td>yes</td>\n",
       "      <td>165.0</td>\n",
       "      <td>102.5</td>\n",
       "      <td>1861-12-03</td>\n",
       "    </tr>\n",
       "    <tr>\n",
       "      <th>4</th>\n",
       "      <td>5</td>\n",
       "      <td>45.0</td>\n",
       "      <td>1861-11-22</td>\n",
       "      <td>1861-11-27</td>\n",
       "      <td>2000-01-01</td>\n",
       "      <td>8</td>\n",
       "      <td>f</td>\n",
       "      <td>42</td>\n",
       "      <td>1</td>\n",
       "      <td>yes</td>\n",
       "      <td>145.0</td>\n",
       "      <td>120.0</td>\n",
       "      <td>1861-12-02</td>\n",
       "    </tr>\n",
       "    <tr>\n",
       "      <th>5</th>\n",
       "      <td>6</td>\n",
       "      <td>180.0</td>\n",
       "      <td>1861-11-26</td>\n",
       "      <td>1861-11-29</td>\n",
       "      <td>2000-01-01</td>\n",
       "      <td>12</td>\n",
       "      <td>m</td>\n",
       "      <td>42</td>\n",
       "      <td>2</td>\n",
       "      <td>yes</td>\n",
       "      <td>145.0</td>\n",
       "      <td>120.0</td>\n",
       "      <td>1861-12-04</td>\n",
       "    </tr>\n",
       "    <tr>\n",
       "      <th>6</th>\n",
       "      <td>7</td>\n",
       "      <td>42.0</td>\n",
       "      <td>1861-11-24</td>\n",
       "      <td>1861-11-28</td>\n",
       "      <td>2000-01-01</td>\n",
       "      <td>6</td>\n",
       "      <td>m</td>\n",
       "      <td>26</td>\n",
       "      <td>0</td>\n",
       "      <td>yes</td>\n",
       "      <td>272.5</td>\n",
       "      <td>147.5</td>\n",
       "      <td>1861-12-03</td>\n",
       "    </tr>\n",
       "    <tr>\n",
       "      <th>7</th>\n",
       "      <td>8</td>\n",
       "      <td>45.0</td>\n",
       "      <td>1861-11-21</td>\n",
       "      <td>1861-11-26</td>\n",
       "      <td>2000-01-01</td>\n",
       "      <td>10</td>\n",
       "      <td>m</td>\n",
       "      <td>44</td>\n",
       "      <td>1</td>\n",
       "      <td>yes</td>\n",
       "      <td>97.5</td>\n",
       "      <td>155.0</td>\n",
       "      <td>1861-12-01</td>\n",
       "    </tr>\n",
       "    <tr>\n",
       "      <th>8</th>\n",
       "      <td>9</td>\n",
       "      <td>182.0</td>\n",
       "      <td>1861-11-26</td>\n",
       "      <td>1861-11-30</td>\n",
       "      <td>2000-01-01</td>\n",
       "      <td>13</td>\n",
       "      <td>m</td>\n",
       "      <td>44</td>\n",
       "      <td>2</td>\n",
       "      <td>yes</td>\n",
       "      <td>97.5</td>\n",
       "      <td>155.0</td>\n",
       "      <td>1861-12-05</td>\n",
       "    </tr>\n",
       "    <tr>\n",
       "      <th>9</th>\n",
       "      <td>10</td>\n",
       "      <td>45.0</td>\n",
       "      <td>1861-11-21</td>\n",
       "      <td>1861-11-25</td>\n",
       "      <td>2000-01-01</td>\n",
       "      <td>7</td>\n",
       "      <td>f</td>\n",
       "      <td>29</td>\n",
       "      <td>1</td>\n",
       "      <td>yes</td>\n",
       "      <td>240.0</td>\n",
       "      <td>75.0</td>\n",
       "      <td>1861-11-30</td>\n",
       "    </tr>\n",
       "  </tbody>\n",
       "</table>\n",
       "</div>"
      ],
      "text/plain": [
       "   case_ID  infector date_of_prodrome date_of_rash date_of_death  age gender  \\\n",
       "0        1      45.0       1861-11-21   1861-11-25    2000-01-01    7      f   \n",
       "1        2      45.0       1861-11-23   1861-11-27    2000-01-01    6      f   \n",
       "2        3     172.0       1861-11-28   1861-12-02    2000-01-01    4      f   \n",
       "3        4     180.0       1861-11-27   1861-11-28    2000-01-01   13      m   \n",
       "4        5      45.0       1861-11-22   1861-11-27    2000-01-01    8      f   \n",
       "5        6     180.0       1861-11-26   1861-11-29    2000-01-01   12      m   \n",
       "6        7      42.0       1861-11-24   1861-11-28    2000-01-01    6      m   \n",
       "7        8      45.0       1861-11-21   1861-11-26    2000-01-01   10      m   \n",
       "8        9     182.0       1861-11-26   1861-11-30    2000-01-01   13      m   \n",
       "9       10      45.0       1861-11-21   1861-11-25    2000-01-01    7      f   \n",
       "\n",
       "   family_ID  class complications  x_loc  y_loc date_of_removal  \n",
       "0         41      1           yes  142.5  100.0      1861-11-30  \n",
       "1         41      1           yes  142.5  100.0      1861-12-02  \n",
       "2         41      0           yes  142.5  100.0      1861-12-07  \n",
       "3         61      2           yes  165.0  102.5      1861-12-03  \n",
       "4         42      1           yes  145.0  120.0      1861-12-02  \n",
       "5         42      2           yes  145.0  120.0      1861-12-04  \n",
       "6         26      0           yes  272.5  147.5      1861-12-03  \n",
       "7         44      1           yes   97.5  155.0      1861-12-01  \n",
       "8         44      2           yes   97.5  155.0      1861-12-05  \n",
       "9         29      1           yes  240.0   75.0      1861-11-30  "
      ]
     },
     "execution_count": 8,
     "metadata": {},
     "output_type": "execute_result"
    }
   ],
   "source": [
    "# order data so initial infective is first row\n",
    "#measles = measles.sort_values('date_of_prodrome')\n",
    "measles.head(10)"
   ]
  },
  {
   "cell_type": "markdown",
   "id": "3d8497fe",
   "metadata": {},
   "source": [
    "The above dataset is a complete epidemic dataset since the dates for each individuals transition through the S-I-R model are recorded. With the model propsed by Neal & Roberts, some data augmentation is needed. The full likelihood of the model is as follows: \n",
    "\n",
    "$$f(I,R | \\beta, \\theta, Z, P, I_k) = \\prod_{j \\neq k} \\left\\{ \\sum_{i \\in I_j} \\beta \\exp \\{ -\\theta \\kappa(i,j) \\} \\right\\} \\exp \\left\\{ \\sum_{j=1}^m \\sum_{k=1}^n \\lambda_{jk} \\{ \\min(R_j, I_k) - \\min(I_j, I_k ) \\} \\right\\} \\prod_{i=1}^m g(S_i - I_i) $$ \n",
    "For simplicty, the infectious pressure will be restricted to a spatial component such that $ \\lambda_{ij} =  \\beta \\exp \\{ -\\theta \\kappa(i,j) \\} $.\n",
    "$$ $$\n",
    "\\begin{equation}\n",
    "    \\log f(I,R | \\beta, \\theta, Z, P, I_k) = \\sum_{j \\neq k} \\log \\left( \\sum_{i:I_i \\leq I_j \\leq R_i }   \\beta \\exp \\{ -\\theta \\kappa(i,j) \\right) - \\sum_{j=1}^m \\sum_{k=1}^n  \\beta \\exp \\{ -\\theta \\kappa(j,k)\\} \\{ \\min(R_j, I_k) - \\min(I_j, I_k ) \\} + \\sum_{i=1}^m \\log f(D_i|\\delta)\n",
    "\\end{equation} \n",
    "\n",
    "However, since we set the recovery to 5 days, we not longer need to assume those days come from a gamma distribution. The last term in the log-likelihood $\\sum_{i=1}^m \\log f(D_i|\\delta)$ is now just $\\sum_{i=1}^m \\min \\{\\text{recovery}_i, \\text{death}_i \\}$ (regardless of the resulting min, it is a constant w.r.t the parameters and can be dropped).\n",
    "\n",
    "\\begin{equation}\n",
    "    \\log f(I,R | \\beta, \\theta, Z, P, I_k) \\propto \\sum_{j \\neq k} \\log \\left( \\beta \\sum_{i:I_i \\leq I_j \\leq R_i }  \\exp \\{ -\\theta \\kappa(i,j)\\} \\right) - \\sum_{j=1}^m \\sum_{k=1}^n  \\beta \\exp \\{ -\\theta \\kappa(j,k)\\} \\left[ \\min(R_j, I_k) - \\min(I_j, I_k ) \\right]\n",
    "\\end{equation}"
   ]
  },
  {
   "cell_type": "code",
   "execution_count": 9,
   "id": "e558bb29",
   "metadata": {
    "ExecuteTime": {
     "end_time": "2022-04-22T13:49:24.441579Z",
     "start_time": "2022-04-22T13:49:22.818641Z"
    }
   },
   "outputs": [
    {
     "data": {
      "text/plain": [
       "array([[1., 0., 0., ..., 0., 0., 0.],\n",
       "       [1., 1., 0., ..., 1., 0., 1.],\n",
       "       [1., 1., 1., ..., 1., 0., 1.],\n",
       "       ...,\n",
       "       [1., 0., 0., ..., 1., 0., 0.],\n",
       "       [0., 0., 1., ..., 0., 1., 0.],\n",
       "       [1., 1., 0., ..., 1., 0., 1.]])"
      ]
     },
     "execution_count": 9,
     "metadata": {},
     "output_type": "execute_result"
    }
   ],
   "source": [
    "# compute min(I_j, I_k )\n",
    "pairwise_infections = np.fmin(np.array(measles.date_of_prodrome)[\n",
    "                              :, None], np.array(measles.date_of_prodrome)[None, :])\n",
    "\n",
    "# compute min(R_j, I_k)\n",
    "pairwise_infection_removal = np.fmin(np.array(measles.date_of_prodrome)[\n",
    "    :, None], np.array(measles.date_of_death)[None, :])\n",
    "\n",
    "# compute infectious overlap period\n",
    "pairwise_infectious_overlap = (\n",
    "    pairwise_infection_removal - pairwise_infections) / np.timedelta64(1, \"D\")\n",
    "\n",
    "# A. compute the WAIFW matrix <----- FIX THIS!!! \n",
    "WAIFW_mat1 = np.zeros(shape = (len(measles.date_of_prodrome), len(measles.date_of_prodrome)))\n",
    "\n",
    "for ii in range(len(measles.date_of_prodrome)):\n",
    "    for jj in range(len(measles.date_of_prodrome)):\n",
    "        WAIFW_mat1[ii,jj] = (measles.date_of_prodrome[jj] <= measles.date_of_prodrome[ii] <= measles.date_of_removal[jj])\n",
    "\n",
    "# B. compute the WAIFW matrix <----- FIX THIS!!! \n",
    "WAIFW_mat2 = np.zeros(shape = (len(measles.date_of_prodrome), len(measles.date_of_prodrome)))\n",
    "\n",
    "for ii in range(len(measles.date_of_prodrome)):\n",
    "    for jj in range(len(measles.date_of_prodrome)):\n",
    "        WAIFW_mat2[jj,ii] = (measles.date_of_prodrome[ii] <= measles.date_of_prodrome[jj] <= measles.date_of_removal[ii])\n",
    "        \n",
    "np.float64(WAIFW_mat2)        "
   ]
  },
  {
   "cell_type": "markdown",
   "id": "87af53c9",
   "metadata": {
    "ExecuteTime": {
     "end_time": "2022-04-07T14:57:50.844852Z",
     "start_time": "2022-04-07T14:57:50.841182Z"
    }
   },
   "source": [
    "## MCMC Algorithm "
   ]
  },
  {
   "cell_type": "code",
   "execution_count": 10,
   "id": "7d91b3bd",
   "metadata": {
    "ExecuteTime": {
     "end_time": "2022-04-22T13:49:41.298075Z",
     "start_time": "2022-04-22T13:49:24.445654Z"
    }
   },
   "outputs": [
    {
     "name": "stdout",
     "output_type": "stream",
     "text": [
      "MCMC done! Accept prob = 0.8422157784221578\n"
     ]
    }
   ],
   "source": [
    "# try to back out the overall event rate in the population: i.e. run MCMC for an exponential distribution\n",
    "def ILMepidemic_MCMC(data, init, iters=10001):\n",
    "\n",
    "    # reorder data\n",
    "    data = data.sort_values('date_of_prodrome')\n",
    "\n",
    "    def metropolisHastings(init, logLik, rprop, dprior, iters=iters):\n",
    "        # initialize matrix to store results\n",
    "        mat = np.zeros(shape=(iters, len(init)))\n",
    "        mat[0, :] = init\n",
    "        accept_counter = 0\n",
    "        theta = init\n",
    "\n",
    "        # compute initial logLik\n",
    "        ll_main = logLik(mat[0, :])\n",
    "\n",
    "        # run the MCMC for iters many iterations\n",
    "\n",
    "        for ii in range(iters):\n",
    "            # propose new parameters\n",
    "            theta_proposed = rprop(theta)\n",
    "            # check if proposal is a valid one\n",
    "\n",
    "            ll_proposed = logLik(theta_proposed)\n",
    "\n",
    "            # compute the (log) acceptance probability\n",
    "\n",
    "            a = ll_proposed-ll_main + \\\n",
    "                dprior(theta_proposed) - dprior(theta)\n",
    "            # print(f\"proposal, {theta_proposed}. alpha {a}.\")\n",
    "\n",
    "            if (np.log(stats.uniform(0, 1).rvs()) < a):\n",
    "                # print('accept')\n",
    "                theta = theta_proposed\n",
    "                ll_main = ll_proposed\n",
    "                accept_counter += 1\n",
    "                # store the result\n",
    "                mat[ii, :] = theta\n",
    "            else:\n",
    "                # print('reject')\n",
    "                mat[ii, :] = mat[ii-1, :]\n",
    "\n",
    "        print(f'MCMC done! Accept prob = {accept_counter/iters}')\n",
    "\n",
    "        return mat\n",
    "\n",
    "    # parameters are [beta, theta]\n",
    "    def proposal_denisty(parameters):\n",
    "        return stats.norm(parameters, [0.0028322, 0.020008753]).rvs()\n",
    "\n",
    "    def prior_density(parameters):\n",
    "        # np.sum(stats.gamma.logpdf(parameters, 3, loc=0, scale=1))\n",
    "        return np.sum(stats.gamma.logpdf(parameters, 3, loc=0, scale=0.1))\n",
    "\n",
    "    def logLik(parameters):\n",
    "        # attempt 2\n",
    "        part1 = np.sum(np.delete(parameters[0] * WAIFW_mat2 * np.exp(- parameters[1]\n",
    "                       * pairwise_distances), identify_initial_infected(), axis=0), axis=1)\n",
    "        part1 = np.sum(np.log(part1))\n",
    "        \n",
    "        part2 = np.sum(parameters[0] * np.exp(- parameters[1]\n",
    "                       * pairwise_distances) * pairwise_infectious_overlap)\n",
    "        return part1 - part2\n",
    "\n",
    "    def identify_initial_infected():\n",
    "        return data.date_of_prodrome.argmin()\n",
    "\n",
    "    ####################################################################################\n",
    "    return metropolisHastings(init=init,\n",
    "                              logLik=logLik,\n",
    "                              rprop=proposal_denisty,\n",
    "                              dprior=prior_density)\n",
    "\n",
    "\n",
    "MCMC_results = ILMepidemic_MCMC(data=measles, init=[0.1, 0.1])"
   ]
  },
  {
   "cell_type": "code",
   "execution_count": 11,
   "id": "da9d7dba",
   "metadata": {
    "ExecuteTime": {
     "end_time": "2022-04-22T13:49:41.657808Z",
     "start_time": "2022-04-22T13:49:41.300013Z"
    }
   },
   "outputs": [
    {
     "data": {
      "text/plain": [
       "array([[<AxesSubplot:>, <AxesSubplot:>]], dtype=object)"
      ]
     },
     "execution_count": 11,
     "metadata": {},
     "output_type": "execute_result"
    },
    {
     "data": {
      "image/png": "[encoded data removed]",
      "text/plain": [
       "<Figure size 864x288 with 2 Axes>"
      ]
     },
     "metadata": {},
     "output_type": "display_data"
    }
   ],
   "source": [
    "pd.DataFrame(MCMC_results, columns=['beta', 'theta']).loc[100:,:].plot(\n",
    "    title='MCMC Results',\n",
    "    figsize=(12, 4),\n",
    "    subplots=True,\n",
    "    layout=(1, 2))"
   ]
  },
  {
   "cell_type": "code",
   "execution_count": 12,
   "id": "9168f901",
   "metadata": {
    "ExecuteTime": {
     "end_time": "2022-04-22T13:49:42.228145Z",
     "start_time": "2022-04-22T13:49:41.659721Z"
    }
   },
   "outputs": [
    {
     "data": {
      "text/plain": [
       "array([[<AxesSubplot:ylabel='Density'>, <AxesSubplot:ylabel='Density'>]],\n",
       "      dtype=object)"
      ]
     },
     "execution_count": 12,
     "metadata": {},
     "output_type": "execute_result"
    },
    {
     "data": {
      "image/png": "[encoded data removed]",
      "text/plain": [
       "<Figure size 864x288 with 2 Axes>"
      ]
     },
     "metadata": {},
     "output_type": "display_data"
    }
   ],
   "source": [
    "pd.DataFrame(MCMC_results, columns=['beta', 'theta']).loc[100:,:].plot(\n",
    "    title='MCMC Results: beta ~ 0.3, theta ~ 1.8',\n",
    "    kind = 'kde',\n",
    "    figsize=(12, 4),\n",
    "    subplots=True,\n",
    "    layout=(1, 2))"
   ]
  },
  {
   "cell_type": "markdown",
   "id": "c87b8b70",
   "metadata": {},
   "source": [
    "In the Neal & Roberts paper, theta has mean of 1.8 but the distances are scaled by 2.5m. Our estimate of 0.34 can be scaled by 1:2.5 (i.e by 5) to get a reasonable close match. "
   ]
  },
  {
   "cell_type": "code",
   "execution_count": 13,
   "id": "84c1dc0c",
   "metadata": {
    "ExecuteTime": {
     "end_time": "2022-04-22T13:49:42.242546Z",
     "start_time": "2022-04-22T13:49:42.229995Z"
    }
   },
   "outputs": [
    {
     "data": {
      "text/html": [
       "<div>\n",
       "<style scoped>\n",
       "    .dataframe tbody tr th:only-of-type {\n",
       "        vertical-align: middle;\n",
       "    }\n",
       "\n",
       "    .dataframe tbody tr th {\n",
       "        vertical-align: top;\n",
       "    }\n",
       "\n",
       "    .dataframe thead th {\n",
       "        text-align: right;\n",
       "    }\n",
       "</style>\n",
       "<table border=\"1\" class=\"dataframe\">\n",
       "  <thead>\n",
       "    <tr style=\"text-align: right;\">\n",
       "      <th></th>\n",
       "      <th>beta</th>\n",
       "      <th>theta</th>\n",
       "    </tr>\n",
       "  </thead>\n",
       "  <tbody>\n",
       "    <tr>\n",
       "      <th>count</th>\n",
       "      <td>9001.000000</td>\n",
       "      <td>9001.000000</td>\n",
       "    </tr>\n",
       "    <tr>\n",
       "      <th>mean</th>\n",
       "      <td>0.084136</td>\n",
       "      <td>0.488568</td>\n",
       "    </tr>\n",
       "    <tr>\n",
       "      <th>std</th>\n",
       "      <td>0.005888</td>\n",
       "      <td>0.144781</td>\n",
       "    </tr>\n",
       "    <tr>\n",
       "      <th>min</th>\n",
       "      <td>0.065776</td>\n",
       "      <td>0.221507</td>\n",
       "    </tr>\n",
       "    <tr>\n",
       "      <th>25%</th>\n",
       "      <td>0.080167</td>\n",
       "      <td>0.378601</td>\n",
       "    </tr>\n",
       "    <tr>\n",
       "      <th>50%</th>\n",
       "      <td>0.084145</td>\n",
       "      <td>0.461780</td>\n",
       "    </tr>\n",
       "    <tr>\n",
       "      <th>75%</th>\n",
       "      <td>0.088123</td>\n",
       "      <td>0.572345</td>\n",
       "    </tr>\n",
       "    <tr>\n",
       "      <th>max</th>\n",
       "      <td>0.106079</td>\n",
       "      <td>0.988225</td>\n",
       "    </tr>\n",
       "  </tbody>\n",
       "</table>\n",
       "</div>"
      ],
      "text/plain": [
       "              beta        theta\n",
       "count  9001.000000  9001.000000\n",
       "mean      0.084136     0.488568\n",
       "std       0.005888     0.144781\n",
       "min       0.065776     0.221507\n",
       "25%       0.080167     0.378601\n",
       "50%       0.084145     0.461780\n",
       "75%       0.088123     0.572345\n",
       "max       0.106079     0.988225"
      ]
     },
     "execution_count": 13,
     "metadata": {},
     "output_type": "execute_result"
    }
   ],
   "source": [
    "pd.DataFrame(MCMC_results, columns=['beta', 'theta']).loc[1000:,:].describe()"
   ]
  },
  {
   "cell_type": "markdown",
   "id": "fdfe7a6a",
   "metadata": {
    "ExecuteTime": {
     "end_time": "2022-04-16T14:04:39.524927Z",
     "start_time": "2022-04-16T14:04:39.520293Z"
    }
   },
   "source": [
    "## Expanding the Model \n",
    "\n",
    "Given the rich nature of the data set, additional covariates such as the gender, class, and age  can be introduced into the model. These additional covariates show up in the likelihood and the only modification to the above code that the parameter vector expands (and likelihood formula changes). "
   ]
  },
  {
   "cell_type": "markdown",
   "id": "12f94b36",
   "metadata": {},
   "source": [
    "# To TensorFlow\n",
    "\n"
   ]
  },
  {
   "cell_type": "code",
   "execution_count": 14,
   "id": "2915f434",
   "metadata": {
    "ExecuteTime": {
     "end_time": "2022-04-22T13:49:48.395966Z",
     "start_time": "2022-04-22T13:49:42.244531Z"
    }
   },
   "outputs": [],
   "source": [
    "import tensorflow.compat.v2 as tf\n",
    "tf.enable_v2_behavior()\n",
    "\n",
    "import tensorflow_probability as tfp\n",
    "\n",
    "sns.reset_defaults()\n",
    "sns.set_context(context='talk',font_scale=0.7)\n",
    "plt.rcParams['image.cmap'] = 'viridis'\n",
    "\n",
    "tfd = tfp.distributions"
   ]
  },
  {
   "cell_type": "code",
   "execution_count": 15,
   "id": "fb098e31",
   "metadata": {
    "ExecuteTime": {
     "end_time": "2022-04-22T13:49:48.415374Z",
     "start_time": "2022-04-22T13:49:48.397081Z"
    }
   },
   "outputs": [
    {
     "name": "stderr",
     "output_type": "stream",
     "text": [
      "2022-04-22 14:49:48.403639: I tensorflow/core/platform/cpu_feature_guard.cc:151] This TensorFlow binary is optimized with oneAPI Deep Neural Network Library (oneDNN) to use the following CPU instructions in performance-critical operations:  AVX2 FMA\n",
      "To enable them in other operations, rebuild TensorFlow with the appropriate compiler flags.\n"
     ]
    }
   ],
   "source": [
    "# some tfp objects \n",
    "normal = tfd.Normal(loc = 3, scale = 1.5)"
   ]
  },
  {
   "cell_type": "code",
   "execution_count": 16,
   "id": "5ed214ca",
   "metadata": {
    "ExecuteTime": {
     "end_time": "2022-04-22T13:49:48.589215Z",
     "start_time": "2022-04-22T13:49:48.417219Z"
    }
   },
   "outputs": [
    {
     "name": "stderr",
     "output_type": "stream",
     "text": [
      "/Users/alinmorariu/opt/anaconda3/lib/python3.9/site-packages/seaborn/distributions.py:2619: FutureWarning: `distplot` is a deprecated function and will be removed in a future version. Please adapt your code to use either `displot` (a figure-level function with similar flexibility) or `histplot` (an axes-level function for histograms).\n",
      "  warnings.warn(msg, FutureWarning)\n"
     ]
    },
    {
     "data": {
      "image/png": "[encoded data removed]",
      "text/plain": [
       "<Figure size 640x480 with 1 Axes>"
      ]
     },
     "metadata": {},
     "output_type": "display_data"
    }
   ],
   "source": [
    "samples = normal.sample(1000)\n",
    "sns.distplot(samples)\n",
    "plt.title(\"Samples from a standard Normal\")\n",
    "plt.show()"
   ]
  },
  {
   "cell_type": "code",
   "execution_count": 17,
   "id": "8e159509",
   "metadata": {
    "ExecuteTime": {
     "end_time": "2022-04-22T13:49:48.807152Z",
     "start_time": "2022-04-22T13:49:48.591443Z"
    }
   },
   "outputs": [
    {
     "name": "stderr",
     "output_type": "stream",
     "text": [
      "/Users/alinmorariu/opt/anaconda3/lib/python3.9/site-packages/seaborn/distributions.py:2619: FutureWarning: `distplot` is a deprecated function and will be removed in a future version. Please adapt your code to use either `displot` (a figure-level function with similar flexibility) or `histplot` (an axes-level function for histograms).\n",
      "  warnings.warn(msg, FutureWarning)\n",
      "/Users/alinmorariu/opt/anaconda3/lib/python3.9/site-packages/seaborn/distributions.py:2619: FutureWarning: `distplot` is a deprecated function and will be removed in a future version. Please adapt your code to use either `displot` (a figure-level function with similar flexibility) or `histplot` (an axes-level function for histograms).\n",
      "  warnings.warn(msg, FutureWarning)\n",
      "/Users/alinmorariu/opt/anaconda3/lib/python3.9/site-packages/seaborn/distributions.py:2619: FutureWarning: `distplot` is a deprecated function and will be removed in a future version. Please adapt your code to use either `displot` (a figure-level function with similar flexibility) or `histplot` (an axes-level function for histograms).\n",
      "  warnings.warn(msg, FutureWarning)\n"
     ]
    },
    {
     "data": {
      "image/png": "[encoded data removed]",
      "text/plain": [
       "<Figure size 640x480 with 1 Axes>"
      ]
     },
     "metadata": {},
     "output_type": "display_data"
    }
   ],
   "source": [
    "# can also put vectors into the location to get samples from different mean'd distributions \n",
    "many_normals = tfd.Normal(loc = [1, 3, 10], scale = 1)\n",
    "\n",
    "many_samples = many_normals.sample(1000)\n",
    "# Summarizing visually\n",
    "for i in range(3):\n",
    "  sns.distplot(many_samples[:, i], kde=True, norm_hist=True)\n",
    "plt.title(\"Samples from 3 Normals, and their PDF's\")\n",
    "plt.show()"
   ]
  },
  {
   "cell_type": "code",
   "execution_count": 18,
   "id": "006e2df3",
   "metadata": {
    "ExecuteTime": {
     "end_time": "2022-04-22T13:49:48.819374Z",
     "start_time": "2022-04-22T13:49:48.809378Z"
    }
   },
   "outputs": [],
   "source": [
    "# convert the precomputed quantitie to tf constants \n",
    "pairwise_distances_tf = tf.constant(pairwise_distances)\n",
    "\n",
    "pairwise_infectious_overlap_tf = tf.constant(pairwise_infectious_overlap)\n",
    "pairwise_infectious_overlap_tf = tf.cast(pairwise_infectious_overlap_tf, dtype = tf.float64)\n",
    "\n",
    "WAIFW_mat_tf = tf.constant(WAIFW_mat2)\n",
    "WAIFW_mat_tf = tf.cast(WAIFW_mat_tf, dtype= tf.float64)\n",
    "# initialize parameters \n",
    "parameters_tf = tf.cast(tf.Variable([0.1, 0.1]), dtype=tf.float64)"
   ]
  },
  {
   "cell_type": "code",
   "execution_count": 78,
   "id": "02c39c41",
   "metadata": {
    "ExecuteTime": {
     "end_time": "2022-04-25T15:32:46.295446Z",
     "start_time": "2022-04-25T15:32:46.287668Z"
    }
   },
   "outputs": [],
   "source": [
    "# naive conversion to tfp -> change most np statements to tfp statements\n",
    "def ILM_epidemic_MCMC_tf(data=measles, init=[0.1, 0.1], iters=10001):\n",
    "    '''\n",
    "    Tensorflow adaptation of the ILM_epidemic MCMC sampler above\n",
    "    '''\n",
    "    dtype = np.float64\n",
    "    # initializations\n",
    "    init = dtype(init)\n",
    "\n",
    "    def log_target_prob(parameters):\n",
    "        '''\n",
    "        Target distribution of the MCMC - in a tf style\n",
    "        '''\n",
    "\n",
    "        def prior_density(parameters):\n",
    "            '''\n",
    "            Compute prior probability of parameters\n",
    "            '''\n",
    "            prior_beta = tfd.Gamma(concentration=3.0, rate=10.0)\n",
    "            prior_theta = tfd.Gamma(concentration=3.0, rate=10.0)\n",
    "\n",
    "            return prior_beta.log_prob(parameters[0]) + prior_theta.log_prob(parameters[1])\n",
    "\n",
    "        part1 = tf.einsum('ij->i', tf.gather(parameters[0] * WAIFW_mat_tf * tf.math.exp(- parameters[1] * pairwise_distances_tf),\n",
    "                          initial_infected_individual(),\n",
    "                          axis=0))\n",
    "        # above shrinks dimension to nx1 so next einsum needs only be a column vectoe summation\n",
    "        part1 = dtype(tf.einsum('i->', tf.math.log(part1)))\n",
    "        \n",
    "        part2 = dtype(tf.einsum('ij->', (parameters[0] * tf.math.exp(- parameters[1]\n",
    "                          * pairwise_distances_tf)) * pairwise_infectious_overlap_tf))\n",
    "\n",
    "        return (part1 - part2) + dtype(prior_density(parameters))\n",
    "\n",
    "    def initial_infected_individual():\n",
    "        '''\n",
    "        Provides list of indices to use within tf.gather() function in order to\n",
    "            drop the initial infective from the log-likelihood computation and avoid errors.\n",
    "        '''\n",
    "        temp_list = list(range(len(data.date_of_prodrome)))\n",
    "        temp_list.pop(data.date_of_prodrome.argmin())\n",
    "        return temp_list\n",
    "\n",
    "    # use tfp to do MCMC\n",
    "\n",
    "    samples = tfp.mcmc.sample_chain(\n",
    "        num_results=1000,\n",
    "        num_burnin_steps=100,\n",
    "        current_state=init,\n",
    "        kernel=tfp.mcmc.RandomWalkMetropolis(log_target_prob)\n",
    "    )\n",
    "\n",
    "    sample_mean = tf.math.reduce_mean(samples, axis=0)\n",
    "    sample_std = tf.sqrt(\n",
    "        tf.math.reduce_mean(\n",
    "            tf.math.squared_difference(samples, sample_mean),\n",
    "            axis=0))\n",
    "\n",
    "    return sample_mean, sample_std"
   ]
  },
  {
   "cell_type": "code",
   "execution_count": 79,
   "id": "f7788bf8",
   "metadata": {
    "ExecuteTime": {
     "end_time": "2022-04-25T15:32:47.684422Z",
     "start_time": "2022-04-25T15:32:47.624754Z"
    }
   },
   "outputs": [
    {
     "ename": "InvalidArgumentError",
     "evalue": "cannot compute Xlogy as input #1(zero-based) was expected to be a float tensor but is a double tensor [Op:Xlogy]",
     "output_type": "error",
     "traceback": [
      "\u001b[0;31m---------------------------------------------------------------------------\u001b[0m",
      "\u001b[0;31mInvalidArgumentError\u001b[0m                      Traceback (most recent call last)",
      "\u001b[0;32m/var/folders/_q/07k1y14x087brt3tmd2bs1740000gn/T/ipykernel_4862/1362624099.py\u001b[0m in \u001b[0;36m<module>\u001b[0;34m\u001b[0m\n\u001b[0;32m----> 1\u001b[0;31m \u001b[0mILM_epidemic_MCMC_tf\u001b[0m\u001b[0;34m(\u001b[0m\u001b[0;34m)\u001b[0m\u001b[0;34m\u001b[0m\u001b[0;34m\u001b[0m\u001b[0m\n\u001b[0m",
      "\u001b[0;32m/var/folders/_q/07k1y14x087brt3tmd2bs1740000gn/T/ipykernel_4862/1222399809.py\u001b[0m in \u001b[0;36mILM_epidemic_MCMC_tf\u001b[0;34m(data, init, iters)\u001b[0m\n\u001b[1;32m     44\u001b[0m     \u001b[0;31m# use tfp to do MCMC\u001b[0m\u001b[0;34m\u001b[0m\u001b[0;34m\u001b[0m\u001b[0m\n\u001b[1;32m     45\u001b[0m \u001b[0;34m\u001b[0m\u001b[0m\n\u001b[0;32m---> 46\u001b[0;31m     samples = tfp.mcmc.sample_chain(\n\u001b[0m\u001b[1;32m     47\u001b[0m         \u001b[0mnum_results\u001b[0m\u001b[0;34m=\u001b[0m\u001b[0;36m1000\u001b[0m\u001b[0;34m,\u001b[0m\u001b[0;34m\u001b[0m\u001b[0;34m\u001b[0m\u001b[0m\n\u001b[1;32m     48\u001b[0m         \u001b[0mnum_burnin_steps\u001b[0m\u001b[0;34m=\u001b[0m\u001b[0;36m100\u001b[0m\u001b[0;34m,\u001b[0m\u001b[0;34m\u001b[0m\u001b[0;34m\u001b[0m\u001b[0m\n",
      "\u001b[0;32m~/opt/anaconda3/lib/python3.9/site-packages/tensorflow_probability/python/mcmc/sample.py\u001b[0m in \u001b[0;36msample_chain\u001b[0;34m(num_results, current_state, previous_kernel_results, kernel, num_burnin_steps, num_steps_between_results, trace_fn, return_final_kernel_results, parallel_iterations, seed, name)\u001b[0m\n\u001b[1;32m    328\u001b[0m         current_state)\n\u001b[1;32m    329\u001b[0m     \u001b[0;32mif\u001b[0m \u001b[0mprevious_kernel_results\u001b[0m \u001b[0;32mis\u001b[0m \u001b[0;32mNone\u001b[0m\u001b[0;34m:\u001b[0m\u001b[0;34m\u001b[0m\u001b[0;34m\u001b[0m\u001b[0m\n\u001b[0;32m--> 330\u001b[0;31m       \u001b[0mprevious_kernel_results\u001b[0m \u001b[0;34m=\u001b[0m \u001b[0mkernel\u001b[0m\u001b[0;34m.\u001b[0m\u001b[0mbootstrap_results\u001b[0m\u001b[0;34m(\u001b[0m\u001b[0mcurrent_state\u001b[0m\u001b[0;34m)\u001b[0m\u001b[0;34m\u001b[0m\u001b[0;34m\u001b[0m\u001b[0m\n\u001b[0m\u001b[1;32m    331\u001b[0m \u001b[0;34m\u001b[0m\u001b[0m\n\u001b[1;32m    332\u001b[0m     \u001b[0;32mif\u001b[0m \u001b[0mtrace_fn\u001b[0m \u001b[0;32mis\u001b[0m \u001b[0;32mNone\u001b[0m\u001b[0;34m:\u001b[0m\u001b[0;34m\u001b[0m\u001b[0;34m\u001b[0m\u001b[0m\n",
      "\u001b[0;32m~/opt/anaconda3/lib/python3.9/site-packages/tensorflow_probability/python/mcmc/random_walk_metropolis.py\u001b[0m in \u001b[0;36mbootstrap_results\u001b[0;34m(self, init_state)\u001b[0m\n\u001b[1;32m    430\u001b[0m   \u001b[0;32mdef\u001b[0m \u001b[0mbootstrap_results\u001b[0m\u001b[0;34m(\u001b[0m\u001b[0mself\u001b[0m\u001b[0;34m,\u001b[0m \u001b[0minit_state\u001b[0m\u001b[0;34m)\u001b[0m\u001b[0;34m:\u001b[0m\u001b[0;34m\u001b[0m\u001b[0;34m\u001b[0m\u001b[0m\n\u001b[1;32m    431\u001b[0m     \u001b[0;34m\"\"\"Creates initial `previous_kernel_results` using a supplied `state`.\"\"\"\u001b[0m\u001b[0;34m\u001b[0m\u001b[0;34m\u001b[0m\u001b[0m\n\u001b[0;32m--> 432\u001b[0;31m     \u001b[0;32mreturn\u001b[0m \u001b[0mself\u001b[0m\u001b[0;34m.\u001b[0m\u001b[0m_impl\u001b[0m\u001b[0;34m.\u001b[0m\u001b[0mbootstrap_results\u001b[0m\u001b[0;34m(\u001b[0m\u001b[0minit_state\u001b[0m\u001b[0;34m)\u001b[0m\u001b[0;34m\u001b[0m\u001b[0;34m\u001b[0m\u001b[0m\n\u001b[0m\u001b[1;32m    433\u001b[0m \u001b[0;34m\u001b[0m\u001b[0m\n\u001b[1;32m    434\u001b[0m   \u001b[0;34m@\u001b[0m\u001b[0mproperty\u001b[0m\u001b[0;34m\u001b[0m\u001b[0;34m\u001b[0m\u001b[0m\n",
      "\u001b[0;32m~/opt/anaconda3/lib/python3.9/site-packages/tensorflow_probability/python/mcmc/metropolis_hastings.py\u001b[0m in \u001b[0;36mbootstrap_results\u001b[0;34m(self, init_state)\u001b[0m\n\u001b[1;32m    271\u001b[0m     with tf.name_scope(mcmc_util.make_name(\n\u001b[1;32m    272\u001b[0m         self.name, 'mh', 'bootstrap_results')):\n\u001b[0;32m--> 273\u001b[0;31m       \u001b[0mpkr\u001b[0m \u001b[0;34m=\u001b[0m \u001b[0mself\u001b[0m\u001b[0;34m.\u001b[0m\u001b[0minner_kernel\u001b[0m\u001b[0;34m.\u001b[0m\u001b[0mbootstrap_results\u001b[0m\u001b[0;34m(\u001b[0m\u001b[0minit_state\u001b[0m\u001b[0;34m)\u001b[0m\u001b[0;34m\u001b[0m\u001b[0;34m\u001b[0m\u001b[0m\n\u001b[0m\u001b[1;32m    274\u001b[0m       \u001b[0;32mif\u001b[0m \u001b[0;32mnot\u001b[0m \u001b[0mhas_target_log_prob\u001b[0m\u001b[0;34m(\u001b[0m\u001b[0mpkr\u001b[0m\u001b[0;34m)\u001b[0m\u001b[0;34m:\u001b[0m\u001b[0;34m\u001b[0m\u001b[0;34m\u001b[0m\u001b[0m\n\u001b[1;32m    275\u001b[0m         raise ValueError(\n",
      "\u001b[0;32m~/opt/anaconda3/lib/python3.9/site-packages/tensorflow_probability/python/mcmc/random_walk_metropolis.py\u001b[0m in \u001b[0;36mbootstrap_results\u001b[0;34m(self, init_state)\u001b[0m\n\u001b[1;32m    539\u001b[0m         \u001b[0minit_state\u001b[0m \u001b[0;34m=\u001b[0m \u001b[0;34m[\u001b[0m\u001b[0minit_state\u001b[0m\u001b[0;34m]\u001b[0m\u001b[0;34m\u001b[0m\u001b[0;34m\u001b[0m\u001b[0m\n\u001b[1;32m    540\u001b[0m       \u001b[0minit_state\u001b[0m \u001b[0;34m=\u001b[0m \u001b[0;34m[\u001b[0m\u001b[0mtf\u001b[0m\u001b[0;34m.\u001b[0m\u001b[0mconvert_to_tensor\u001b[0m\u001b[0;34m(\u001b[0m\u001b[0mx\u001b[0m\u001b[0;34m)\u001b[0m \u001b[0;32mfor\u001b[0m \u001b[0mx\u001b[0m \u001b[0;32min\u001b[0m \u001b[0minit_state\u001b[0m\u001b[0;34m]\u001b[0m\u001b[0;34m\u001b[0m\u001b[0;34m\u001b[0m\u001b[0m\n\u001b[0;32m--> 541\u001b[0;31m       \u001b[0minit_target_log_prob\u001b[0m \u001b[0;34m=\u001b[0m \u001b[0mself\u001b[0m\u001b[0;34m.\u001b[0m\u001b[0mtarget_log_prob_fn\u001b[0m\u001b[0;34m(\u001b[0m\u001b[0;34m*\u001b[0m\u001b[0minit_state\u001b[0m\u001b[0;34m)\u001b[0m  \u001b[0;31m# pylint:disable=not-callable\u001b[0m\u001b[0;34m\u001b[0m\u001b[0;34m\u001b[0m\u001b[0m\n\u001b[0m\u001b[1;32m    542\u001b[0m       return UncalibratedRandomWalkResults(\n\u001b[1;32m    543\u001b[0m           \u001b[0mlog_acceptance_correction\u001b[0m\u001b[0;34m=\u001b[0m\u001b[0mtf\u001b[0m\u001b[0;34m.\u001b[0m\u001b[0mzeros_like\u001b[0m\u001b[0;34m(\u001b[0m\u001b[0minit_target_log_prob\u001b[0m\u001b[0;34m)\u001b[0m\u001b[0;34m,\u001b[0m\u001b[0;34m\u001b[0m\u001b[0;34m\u001b[0m\u001b[0m\n",
      "\u001b[0;32m/var/folders/_q/07k1y14x087brt3tmd2bs1740000gn/T/ipykernel_4862/1222399809.py\u001b[0m in \u001b[0;36mlog_target_prob\u001b[0;34m(parameters)\u001b[0m\n\u001b[1;32m     31\u001b[0m                           * pairwise_distances_tf)) * pairwise_infectious_overlap_tf))\n\u001b[1;32m     32\u001b[0m \u001b[0;34m\u001b[0m\u001b[0m\n\u001b[0;32m---> 33\u001b[0;31m         \u001b[0;32mreturn\u001b[0m \u001b[0;34m(\u001b[0m\u001b[0mpart1\u001b[0m \u001b[0;34m-\u001b[0m \u001b[0mpart2\u001b[0m\u001b[0;34m)\u001b[0m \u001b[0;34m+\u001b[0m \u001b[0mdtype\u001b[0m\u001b[0;34m(\u001b[0m\u001b[0mprior_density\u001b[0m\u001b[0;34m(\u001b[0m\u001b[0mparameters\u001b[0m\u001b[0;34m)\u001b[0m\u001b[0;34m)\u001b[0m\u001b[0;34m\u001b[0m\u001b[0;34m\u001b[0m\u001b[0m\n\u001b[0m\u001b[1;32m     34\u001b[0m \u001b[0;34m\u001b[0m\u001b[0m\n\u001b[1;32m     35\u001b[0m     \u001b[0;32mdef\u001b[0m \u001b[0minitial_infected_individual\u001b[0m\u001b[0;34m(\u001b[0m\u001b[0;34m)\u001b[0m\u001b[0;34m:\u001b[0m\u001b[0;34m\u001b[0m\u001b[0;34m\u001b[0m\u001b[0m\n",
      "\u001b[0;32m/var/folders/_q/07k1y14x087brt3tmd2bs1740000gn/T/ipykernel_4862/1222399809.py\u001b[0m in \u001b[0;36mprior_density\u001b[0;34m(parameters)\u001b[0m\n\u001b[1;32m     20\u001b[0m             \u001b[0mprior_theta\u001b[0m \u001b[0;34m=\u001b[0m \u001b[0mtfd\u001b[0m\u001b[0;34m.\u001b[0m\u001b[0mGamma\u001b[0m\u001b[0;34m(\u001b[0m\u001b[0mconcentration\u001b[0m\u001b[0;34m=\u001b[0m\u001b[0;36m3.0\u001b[0m\u001b[0;34m,\u001b[0m \u001b[0mrate\u001b[0m\u001b[0;34m=\u001b[0m\u001b[0;36m10.0\u001b[0m\u001b[0;34m)\u001b[0m\u001b[0;34m\u001b[0m\u001b[0;34m\u001b[0m\u001b[0m\n\u001b[1;32m     21\u001b[0m \u001b[0;34m\u001b[0m\u001b[0m\n\u001b[0;32m---> 22\u001b[0;31m             \u001b[0;32mreturn\u001b[0m \u001b[0mprior_beta\u001b[0m\u001b[0;34m.\u001b[0m\u001b[0mlog_prob\u001b[0m\u001b[0;34m(\u001b[0m\u001b[0mparameters\u001b[0m\u001b[0;34m[\u001b[0m\u001b[0;36m0\u001b[0m\u001b[0;34m]\u001b[0m\u001b[0;34m)\u001b[0m \u001b[0;34m+\u001b[0m \u001b[0mprior_theta\u001b[0m\u001b[0;34m.\u001b[0m\u001b[0mlog_prob\u001b[0m\u001b[0;34m(\u001b[0m\u001b[0mparameters\u001b[0m\u001b[0;34m[\u001b[0m\u001b[0;36m1\u001b[0m\u001b[0;34m]\u001b[0m\u001b[0;34m)\u001b[0m\u001b[0;34m\u001b[0m\u001b[0;34m\u001b[0m\u001b[0m\n\u001b[0m\u001b[1;32m     23\u001b[0m \u001b[0;34m\u001b[0m\u001b[0m\n\u001b[1;32m     24\u001b[0m         part1 = tf.einsum('ij->i', tf.gather(parameters[0] * WAIFW_mat_tf * tf.math.exp(- parameters[1] * pairwise_distances_tf),\n",
      "\u001b[0;32m~/opt/anaconda3/lib/python3.9/site-packages/tensorflow_probability/python/distributions/distribution.py\u001b[0m in \u001b[0;36mlog_prob\u001b[0;34m(self, value, name, **kwargs)\u001b[0m\n\u001b[1;32m   1314\u001b[0m         \u001b[0mvalues\u001b[0m \u001b[0mof\u001b[0m \u001b[0mtype\u001b[0m\u001b[0;31m \u001b[0m\u001b[0;31m`\u001b[0m\u001b[0mself\u001b[0m\u001b[0;34m.\u001b[0m\u001b[0mdtype\u001b[0m\u001b[0;31m`\u001b[0m\u001b[0;34m.\u001b[0m\u001b[0;34m\u001b[0m\u001b[0;34m\u001b[0m\u001b[0m\n\u001b[1;32m   1315\u001b[0m     \"\"\"\n\u001b[0;32m-> 1316\u001b[0;31m     \u001b[0;32mreturn\u001b[0m \u001b[0mself\u001b[0m\u001b[0;34m.\u001b[0m\u001b[0m_call_log_prob\u001b[0m\u001b[0;34m(\u001b[0m\u001b[0mvalue\u001b[0m\u001b[0;34m,\u001b[0m \u001b[0mname\u001b[0m\u001b[0;34m,\u001b[0m \u001b[0;34m**\u001b[0m\u001b[0mkwargs\u001b[0m\u001b[0;34m)\u001b[0m\u001b[0;34m\u001b[0m\u001b[0;34m\u001b[0m\u001b[0m\n\u001b[0m\u001b[1;32m   1317\u001b[0m \u001b[0;34m\u001b[0m\u001b[0m\n\u001b[1;32m   1318\u001b[0m   \u001b[0;32mdef\u001b[0m \u001b[0m_call_prob\u001b[0m\u001b[0;34m(\u001b[0m\u001b[0mself\u001b[0m\u001b[0;34m,\u001b[0m \u001b[0mvalue\u001b[0m\u001b[0;34m,\u001b[0m \u001b[0mname\u001b[0m\u001b[0;34m,\u001b[0m \u001b[0;34m**\u001b[0m\u001b[0mkwargs\u001b[0m\u001b[0;34m)\u001b[0m\u001b[0;34m:\u001b[0m\u001b[0;34m\u001b[0m\u001b[0;34m\u001b[0m\u001b[0m\n",
      "\u001b[0;32m~/opt/anaconda3/lib/python3.9/site-packages/tensorflow_probability/python/distributions/distribution.py\u001b[0m in \u001b[0;36m_call_log_prob\u001b[0;34m(self, value, name, **kwargs)\u001b[0m\n\u001b[1;32m   1296\u001b[0m     \u001b[0;32mwith\u001b[0m \u001b[0mself\u001b[0m\u001b[0;34m.\u001b[0m\u001b[0m_name_and_control_scope\u001b[0m\u001b[0;34m(\u001b[0m\u001b[0mname\u001b[0m\u001b[0;34m,\u001b[0m \u001b[0mvalue\u001b[0m\u001b[0;34m,\u001b[0m \u001b[0mkwargs\u001b[0m\u001b[0;34m)\u001b[0m\u001b[0;34m:\u001b[0m\u001b[0;34m\u001b[0m\u001b[0;34m\u001b[0m\u001b[0m\n\u001b[1;32m   1297\u001b[0m       \u001b[0;32mif\u001b[0m \u001b[0mhasattr\u001b[0m\u001b[0;34m(\u001b[0m\u001b[0mself\u001b[0m\u001b[0;34m,\u001b[0m \u001b[0;34m'_log_prob'\u001b[0m\u001b[0;34m)\u001b[0m\u001b[0;34m:\u001b[0m\u001b[0;34m\u001b[0m\u001b[0;34m\u001b[0m\u001b[0m\n\u001b[0;32m-> 1298\u001b[0;31m         \u001b[0;32mreturn\u001b[0m \u001b[0mself\u001b[0m\u001b[0;34m.\u001b[0m\u001b[0m_log_prob\u001b[0m\u001b[0;34m(\u001b[0m\u001b[0mvalue\u001b[0m\u001b[0;34m,\u001b[0m \u001b[0;34m**\u001b[0m\u001b[0mkwargs\u001b[0m\u001b[0;34m)\u001b[0m\u001b[0;34m\u001b[0m\u001b[0;34m\u001b[0m\u001b[0m\n\u001b[0m\u001b[1;32m   1299\u001b[0m       \u001b[0;32mif\u001b[0m \u001b[0mhasattr\u001b[0m\u001b[0;34m(\u001b[0m\u001b[0mself\u001b[0m\u001b[0;34m,\u001b[0m \u001b[0;34m'_prob'\u001b[0m\u001b[0;34m)\u001b[0m\u001b[0;34m:\u001b[0m\u001b[0;34m\u001b[0m\u001b[0;34m\u001b[0m\u001b[0m\n\u001b[1;32m   1300\u001b[0m         \u001b[0;32mreturn\u001b[0m \u001b[0mtf\u001b[0m\u001b[0;34m.\u001b[0m\u001b[0mmath\u001b[0m\u001b[0;34m.\u001b[0m\u001b[0mlog\u001b[0m\u001b[0;34m(\u001b[0m\u001b[0mself\u001b[0m\u001b[0;34m.\u001b[0m\u001b[0m_prob\u001b[0m\u001b[0;34m(\u001b[0m\u001b[0mvalue\u001b[0m\u001b[0;34m,\u001b[0m \u001b[0;34m**\u001b[0m\u001b[0mkwargs\u001b[0m\u001b[0;34m)\u001b[0m\u001b[0;34m)\u001b[0m\u001b[0;34m\u001b[0m\u001b[0;34m\u001b[0m\u001b[0m\n",
      "\u001b[0;32m~/opt/anaconda3/lib/python3.9/site-packages/tensorflow_probability/python/distributions/gamma.py\u001b[0m in \u001b[0;36m_log_prob\u001b[0;34m(self, x, rate)\u001b[0m\n\u001b[1;32m    286\u001b[0m       \u001b[0mrate\u001b[0m \u001b[0;34m=\u001b[0m \u001b[0mtf\u001b[0m\u001b[0;34m.\u001b[0m\u001b[0mconvert_to_tensor\u001b[0m\u001b[0;34m(\u001b[0m\u001b[0mself\u001b[0m\u001b[0;34m.\u001b[0m\u001b[0mrate\u001b[0m\u001b[0;34m)\u001b[0m\u001b[0;34m\u001b[0m\u001b[0;34m\u001b[0m\u001b[0m\n\u001b[1;32m    287\u001b[0m       \u001b[0mlog_rate\u001b[0m \u001b[0;34m=\u001b[0m \u001b[0mtf\u001b[0m\u001b[0;34m.\u001b[0m\u001b[0mmath\u001b[0m\u001b[0;34m.\u001b[0m\u001b[0mlog\u001b[0m\u001b[0;34m(\u001b[0m\u001b[0mrate\u001b[0m\u001b[0;34m)\u001b[0m\u001b[0;34m\u001b[0m\u001b[0;34m\u001b[0m\u001b[0m\n\u001b[0;32m--> 288\u001b[0;31m     \u001b[0mlog_unnormalized_prob\u001b[0m \u001b[0;34m=\u001b[0m \u001b[0mtf\u001b[0m\u001b[0;34m.\u001b[0m\u001b[0mmath\u001b[0m\u001b[0;34m.\u001b[0m\u001b[0mxlogy\u001b[0m\u001b[0;34m(\u001b[0m\u001b[0mconcentration\u001b[0m \u001b[0;34m-\u001b[0m \u001b[0;36m1.\u001b[0m\u001b[0;34m,\u001b[0m \u001b[0mx\u001b[0m\u001b[0;34m)\u001b[0m \u001b[0;34m-\u001b[0m \u001b[0mrate\u001b[0m \u001b[0;34m*\u001b[0m \u001b[0mx\u001b[0m\u001b[0;34m\u001b[0m\u001b[0;34m\u001b[0m\u001b[0m\n\u001b[0m\u001b[1;32m    289\u001b[0m     \u001b[0mlog_normalization\u001b[0m \u001b[0;34m=\u001b[0m \u001b[0mtf\u001b[0m\u001b[0;34m.\u001b[0m\u001b[0mmath\u001b[0m\u001b[0;34m.\u001b[0m\u001b[0mlgamma\u001b[0m\u001b[0;34m(\u001b[0m\u001b[0mconcentration\u001b[0m\u001b[0;34m)\u001b[0m \u001b[0;34m-\u001b[0m \u001b[0mconcentration\u001b[0m \u001b[0;34m*\u001b[0m \u001b[0mlog_rate\u001b[0m\u001b[0;34m\u001b[0m\u001b[0;34m\u001b[0m\u001b[0m\n\u001b[1;32m    290\u001b[0m     \u001b[0mlp\u001b[0m \u001b[0;34m=\u001b[0m \u001b[0mlog_unnormalized_prob\u001b[0m \u001b[0;34m-\u001b[0m \u001b[0mlog_normalization\u001b[0m\u001b[0;34m\u001b[0m\u001b[0;34m\u001b[0m\u001b[0m\n",
      "\u001b[0;32m~/opt/anaconda3/lib/python3.9/site-packages/tensorflow/python/ops/gen_math_ops.py\u001b[0m in \u001b[0;36mxlogy\u001b[0;34m(x, y, name)\u001b[0m\n\u001b[1;32m  12351\u001b[0m       \u001b[0;32mreturn\u001b[0m \u001b[0m_result\u001b[0m\u001b[0;34m\u001b[0m\u001b[0;34m\u001b[0m\u001b[0m\n\u001b[1;32m  12352\u001b[0m     \u001b[0;32mexcept\u001b[0m \u001b[0m_core\u001b[0m\u001b[0;34m.\u001b[0m\u001b[0m_NotOkStatusException\u001b[0m \u001b[0;32mas\u001b[0m \u001b[0me\u001b[0m\u001b[0;34m:\u001b[0m\u001b[0;34m\u001b[0m\u001b[0;34m\u001b[0m\u001b[0m\n\u001b[0;32m> 12353\u001b[0;31m       \u001b[0m_ops\u001b[0m\u001b[0;34m.\u001b[0m\u001b[0mraise_from_not_ok_status\u001b[0m\u001b[0;34m(\u001b[0m\u001b[0me\u001b[0m\u001b[0;34m,\u001b[0m \u001b[0mname\u001b[0m\u001b[0;34m)\u001b[0m\u001b[0;34m\u001b[0m\u001b[0;34m\u001b[0m\u001b[0m\n\u001b[0m\u001b[1;32m  12354\u001b[0m     \u001b[0;32mexcept\u001b[0m \u001b[0m_core\u001b[0m\u001b[0;34m.\u001b[0m\u001b[0m_FallbackException\u001b[0m\u001b[0;34m:\u001b[0m\u001b[0;34m\u001b[0m\u001b[0;34m\u001b[0m\u001b[0m\n\u001b[1;32m  12355\u001b[0m       \u001b[0;32mpass\u001b[0m\u001b[0;34m\u001b[0m\u001b[0;34m\u001b[0m\u001b[0m\n",
      "\u001b[0;32m~/opt/anaconda3/lib/python3.9/site-packages/tensorflow/python/framework/ops.py\u001b[0m in \u001b[0;36mraise_from_not_ok_status\u001b[0;34m(e, name)\u001b[0m\n\u001b[1;32m   7184\u001b[0m \u001b[0;32mdef\u001b[0m \u001b[0mraise_from_not_ok_status\u001b[0m\u001b[0;34m(\u001b[0m\u001b[0me\u001b[0m\u001b[0;34m,\u001b[0m \u001b[0mname\u001b[0m\u001b[0;34m)\u001b[0m\u001b[0;34m:\u001b[0m\u001b[0;34m\u001b[0m\u001b[0;34m\u001b[0m\u001b[0m\n\u001b[1;32m   7185\u001b[0m   \u001b[0me\u001b[0m\u001b[0;34m.\u001b[0m\u001b[0mmessage\u001b[0m \u001b[0;34m+=\u001b[0m \u001b[0;34m(\u001b[0m\u001b[0;34m\" name: \"\u001b[0m \u001b[0;34m+\u001b[0m \u001b[0mname\u001b[0m \u001b[0;32mif\u001b[0m \u001b[0mname\u001b[0m \u001b[0;32mis\u001b[0m \u001b[0;32mnot\u001b[0m \u001b[0;32mNone\u001b[0m \u001b[0;32melse\u001b[0m \u001b[0;34m\"\"\u001b[0m\u001b[0;34m)\u001b[0m\u001b[0;34m\u001b[0m\u001b[0;34m\u001b[0m\u001b[0m\n\u001b[0;32m-> 7186\u001b[0;31m   \u001b[0;32mraise\u001b[0m \u001b[0mcore\u001b[0m\u001b[0;34m.\u001b[0m\u001b[0m_status_to_exception\u001b[0m\u001b[0;34m(\u001b[0m\u001b[0me\u001b[0m\u001b[0;34m)\u001b[0m \u001b[0;32mfrom\u001b[0m \u001b[0;32mNone\u001b[0m  \u001b[0;31m# pylint: disable=protected-access\u001b[0m\u001b[0;34m\u001b[0m\u001b[0;34m\u001b[0m\u001b[0m\n\u001b[0m\u001b[1;32m   7187\u001b[0m \u001b[0;34m\u001b[0m\u001b[0m\n\u001b[1;32m   7188\u001b[0m \u001b[0;34m\u001b[0m\u001b[0m\n",
      "\u001b[0;31mInvalidArgumentError\u001b[0m: cannot compute Xlogy as input #1(zero-based) was expected to be a float tensor but is a double tensor [Op:Xlogy]"
     ]
    }
   ],
   "source": [
    "ILM_epidemic_MCMC_tf()"
   ]
  },
  {
   "cell_type": "code",
   "execution_count": null,
   "id": "bbd0a663",
   "metadata": {
    "ExecuteTime": {
     "end_time": "2022-04-25T15:18:47.352674Z",
     "start_time": "2022-04-25T15:18:47.342507Z"
    }
   },
   "outputs": [],
   "source": []
  }
 ],
 "metadata": {
  "kernelspec": {
   "display_name": "Python 3 (ipykernel)",
   "language": "python",
   "name": "python3"
  },
  "language_info": {
   "codemirror_mode": {
    "name": "ipython",
    "version": 3
   },
   "file_extension": ".py",
   "mimetype": "text/x-python",
   "name": "python",
   "nbconvert_exporter": "python",
   "pygments_lexer": "ipython3",
   "version": "3.9.7"
  },
  "toc": {
   "base_numbering": 1,
   "nav_menu": {},
   "number_sections": true,
   "sideBar": true,
   "skip_h1_title": false,
   "title_cell": "Table of Contents",
   "title_sidebar": "Contents",
   "toc_cell": false,
   "toc_position": {
    "height": "calc(100% - 180px)",
    "left": "10px",
    "top": "150px",
    "width": "311px"
   },
   "toc_section_display": true,
   "toc_window_display": true
  },
  "varInspector": {
   "cols": {
    "lenName": 16,
    "lenType": 16,
    "lenVar": 40
   },
   "kernels_config": {
    "python": {
     "delete_cmd_postfix": "",
     "delete_cmd_prefix": "del ",
     "library": "var_list.py",
     "varRefreshCmd": "print(var_dic_list())"
    },
    "r": {
     "delete_cmd_postfix": ") ",
     "delete_cmd_prefix": "rm(",
     "library": "var_list.r",
     "varRefreshCmd": "cat(var_dic_list()) "
    }
   },
   "types_to_exclude": [
    "module",
    "function",
    "builtin_function_or_method",
    "instance",
    "_Feature"
   ],
   "window_display": false
  }
 },
 "nbformat": 4,
 "nbformat_minor": 5
}
