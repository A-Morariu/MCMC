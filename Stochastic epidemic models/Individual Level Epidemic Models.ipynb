{
 "cells": [
  {
   "cell_type": "markdown",
   "id": "af9e9893",
   "metadata": {},
   "source": [
    "# Individual Level Epidemic Models\n",
    "\n",
    "Susceptible-Infected-Removed (SIR) models make up the core of stochastic epidemic modeling. The simplest case of the model proposes that an population (of size $N$) transitions through three stages. Individuals start in the susceptible stage (unless they are part of the initial infected subset). As a result of interacting with the infected individuals in a population, a susceptible member transitions to the infected stage at a rate $\\beta(\\cdot)$ which is a function of some covariates. Once infected, these members of the population contribute to the total infectious pressure, infecting other susceptibles or they become removed (recovered - and assumed to be immune, or die) at a rate $\\gamma(\\cdot)$ which is a function of some covariates.\n",
    "\n",
    "In this document, we look at performing Bayesian inference on these models with the goal of *correctly* estimating the parameters of the rate functions $(\\beta(\\cdot), \\gamma(\\cdot))$. We will be using the 1861 Hagelloch measles data set for this exercise and augment it as necessary."
   ]
  },
  {
   "cell_type": "code",
   "execution_count": 2,
   "id": "a3eae98a",
   "metadata": {
    "ExecuteTime": {
     "end_time": "2022-04-07T16:28:25.558708Z",
     "start_time": "2022-04-07T16:28:23.512852Z"
    }
   },
   "outputs": [],
   "source": [
    "# preamble - load all packages \n",
    "\n",
    "import pandas as pd \n",
    "import numpy as np \n",
    "import matplotlib.pyplot as plt \n",
    "import seaborn as sns\n",
    "import datetime\n",
    "\n",
    "from scipy import stats\n",
    "from sklearn.metrics.pairwise import euclidean_distances\n",
    "\n",
    "sns.set()"
   ]
  },
  {
   "cell_type": "code",
   "execution_count": 3,
   "id": "ce468c56",
   "metadata": {
    "ExecuteTime": {
     "end_time": "2022-04-07T16:28:25.569594Z",
     "start_time": "2022-04-07T16:28:25.560590Z"
    }
   },
   "outputs": [],
   "source": [
    "measles = pd.read_csv('measles_hagelloch_1861.csv')"
   ]
  },
  {
   "cell_type": "code",
   "execution_count": 4,
   "id": "c4c7c697",
   "metadata": {
    "ExecuteTime": {
     "end_time": "2022-04-07T16:28:25.578597Z",
     "start_time": "2022-04-07T16:28:25.571250Z"
    }
   },
   "outputs": [],
   "source": [
    "pairwise_distances = euclidean_distances(X=measles[['x_loc', 'y_loc']])"
   ]
  },
  {
   "cell_type": "code",
   "execution_count": 5,
   "id": "ae5646ab",
   "metadata": {
    "ExecuteTime": {
     "end_time": "2022-04-07T16:28:25.591168Z",
     "start_time": "2022-04-07T16:28:25.581100Z"
    }
   },
   "outputs": [],
   "source": [
    "# formating the dates \n",
    "measles['date_of_prodrome'] = pd.to_datetime(measles['date_of_prodrome'], format='%Y-%m-%d')\n",
    "measles['date_of_rash'] = pd.to_datetime(measles['date_of_rash'], format='%Y-%m-%d')\n",
    "measles['date_of_death'] = pd.to_datetime(measles['date_of_death'], format='%Y-%m-%d')"
   ]
  },
  {
   "cell_type": "code",
   "execution_count": 6,
   "id": "9f2fe2b6",
   "metadata": {
    "ExecuteTime": {
     "end_time": "2022-04-07T16:28:25.597412Z",
     "start_time": "2022-04-07T16:28:25.592898Z"
    }
   },
   "outputs": [],
   "source": [
    "# fill death time - death is NaN in many cases \n",
    "measles['date_of_death'] = measles['date_of_death'].fillna(pd.to_datetime('1/1/2000'))"
   ]
  },
  {
   "cell_type": "code",
   "execution_count": 7,
   "id": "5045bf20",
   "metadata": {
    "ExecuteTime": {
     "end_time": "2022-04-07T16:28:25.606564Z",
     "start_time": "2022-04-07T16:28:25.599631Z"
    }
   },
   "outputs": [],
   "source": [
    "# to avoid imputing removal time, assume rash + 5 days\n",
    "measles = measles.assign(\n",
    "    date_of_removal=lambda df: df.date_of_rash + datetime.timedelta(days=5))\n",
    "measles = measles.assign(date_of_removal=measles[['date_of_removal', 'date_of_death']].min(axis=1))"
   ]
  },
  {
   "cell_type": "code",
   "execution_count": 8,
   "id": "2ac502ce",
   "metadata": {
    "ExecuteTime": {
     "end_time": "2022-04-07T16:28:25.626707Z",
     "start_time": "2022-04-07T16:28:25.608612Z"
    },
    "scrolled": true
   },
   "outputs": [
    {
     "data": {
      "text/html": [
       "<div>\n",
       "<style scoped>\n",
       "    .dataframe tbody tr th:only-of-type {\n",
       "        vertical-align: middle;\n",
       "    }\n",
       "\n",
       "    .dataframe tbody tr th {\n",
       "        vertical-align: top;\n",
       "    }\n",
       "\n",
       "    .dataframe thead th {\n",
       "        text-align: right;\n",
       "    }\n",
       "</style>\n",
       "<table border=\"1\" class=\"dataframe\">\n",
       "  <thead>\n",
       "    <tr style=\"text-align: right;\">\n",
       "      <th></th>\n",
       "      <th>case_ID</th>\n",
       "      <th>infector</th>\n",
       "      <th>date_of_prodrome</th>\n",
       "      <th>date_of_rash</th>\n",
       "      <th>date_of_death</th>\n",
       "      <th>age</th>\n",
       "      <th>gender</th>\n",
       "      <th>family_ID</th>\n",
       "      <th>class</th>\n",
       "      <th>complications</th>\n",
       "      <th>x_loc</th>\n",
       "      <th>y_loc</th>\n",
       "      <th>date_of_removal</th>\n",
       "    </tr>\n",
       "  </thead>\n",
       "  <tbody>\n",
       "    <tr>\n",
       "      <th>0</th>\n",
       "      <td>1</td>\n",
       "      <td>45.0</td>\n",
       "      <td>1861-11-21</td>\n",
       "      <td>1861-11-25</td>\n",
       "      <td>2000-01-01</td>\n",
       "      <td>7</td>\n",
       "      <td>f</td>\n",
       "      <td>41</td>\n",
       "      <td>1</td>\n",
       "      <td>yes</td>\n",
       "      <td>142.5</td>\n",
       "      <td>100.0</td>\n",
       "      <td>1861-11-30</td>\n",
       "    </tr>\n",
       "    <tr>\n",
       "      <th>1</th>\n",
       "      <td>2</td>\n",
       "      <td>45.0</td>\n",
       "      <td>1861-11-23</td>\n",
       "      <td>1861-11-27</td>\n",
       "      <td>2000-01-01</td>\n",
       "      <td>6</td>\n",
       "      <td>f</td>\n",
       "      <td>41</td>\n",
       "      <td>1</td>\n",
       "      <td>yes</td>\n",
       "      <td>142.5</td>\n",
       "      <td>100.0</td>\n",
       "      <td>1861-12-02</td>\n",
       "    </tr>\n",
       "    <tr>\n",
       "      <th>2</th>\n",
       "      <td>3</td>\n",
       "      <td>172.0</td>\n",
       "      <td>1861-11-28</td>\n",
       "      <td>1861-12-02</td>\n",
       "      <td>2000-01-01</td>\n",
       "      <td>4</td>\n",
       "      <td>f</td>\n",
       "      <td>41</td>\n",
       "      <td>0</td>\n",
       "      <td>yes</td>\n",
       "      <td>142.5</td>\n",
       "      <td>100.0</td>\n",
       "      <td>1861-12-07</td>\n",
       "    </tr>\n",
       "    <tr>\n",
       "      <th>3</th>\n",
       "      <td>4</td>\n",
       "      <td>180.0</td>\n",
       "      <td>1861-11-27</td>\n",
       "      <td>1861-11-28</td>\n",
       "      <td>2000-01-01</td>\n",
       "      <td>13</td>\n",
       "      <td>m</td>\n",
       "      <td>61</td>\n",
       "      <td>2</td>\n",
       "      <td>yes</td>\n",
       "      <td>165.0</td>\n",
       "      <td>102.5</td>\n",
       "      <td>1861-12-03</td>\n",
       "    </tr>\n",
       "    <tr>\n",
       "      <th>4</th>\n",
       "      <td>5</td>\n",
       "      <td>45.0</td>\n",
       "      <td>1861-11-22</td>\n",
       "      <td>1861-11-27</td>\n",
       "      <td>2000-01-01</td>\n",
       "      <td>8</td>\n",
       "      <td>f</td>\n",
       "      <td>42</td>\n",
       "      <td>1</td>\n",
       "      <td>yes</td>\n",
       "      <td>145.0</td>\n",
       "      <td>120.0</td>\n",
       "      <td>1861-12-02</td>\n",
       "    </tr>\n",
       "  </tbody>\n",
       "</table>\n",
       "</div>"
      ],
      "text/plain": [
       "   case_ID  infector date_of_prodrome date_of_rash date_of_death  age gender  \\\n",
       "0        1      45.0       1861-11-21   1861-11-25    2000-01-01    7      f   \n",
       "1        2      45.0       1861-11-23   1861-11-27    2000-01-01    6      f   \n",
       "2        3     172.0       1861-11-28   1861-12-02    2000-01-01    4      f   \n",
       "3        4     180.0       1861-11-27   1861-11-28    2000-01-01   13      m   \n",
       "4        5      45.0       1861-11-22   1861-11-27    2000-01-01    8      f   \n",
       "\n",
       "   family_ID  class complications  x_loc  y_loc date_of_removal  \n",
       "0         41      1           yes  142.5  100.0      1861-11-30  \n",
       "1         41      1           yes  142.5  100.0      1861-12-02  \n",
       "2         41      0           yes  142.5  100.0      1861-12-07  \n",
       "3         61      2           yes  165.0  102.5      1861-12-03  \n",
       "4         42      1           yes  145.0  120.0      1861-12-02  "
      ]
     },
     "execution_count": 8,
     "metadata": {},
     "output_type": "execute_result"
    }
   ],
   "source": [
    "# preview the data\n",
    "measles.head()"
   ]
  },
  {
   "cell_type": "markdown",
   "id": "3d8497fe",
   "metadata": {},
   "source": [
    "The above dataset is a complete epidemic dataset since the dates for each individuals transition through the S-I-R model are recorded. With the model propsed by Neal & Roberts, some data augmentation is needed. The full likelihood of the model is as follows: \n",
    "\n",
    "$$f(I,R | \\beta, \\theta, Z, P, I_k) = \\prod_{j \\neq k} \\left\\{ \\sum_{i \\in I_j} \\beta \\exp \\{ -\\theta \\kappa(i,j) \\} \\right\\} \\exp \\left\\{ \\sum_{j=1}^m \\sum_{k=1}^n \\lambda_{jk} \\{ \\min(R_j, I_k) - \\min(I_j, I_k ) \\} \\right\\} \\prod_{i=1}^m g(S_i - I_i) $$ \n",
    "For simplicty, the infectious pressure will be restricted to a spatial component such that $ \\lambda_{ij} =  \\beta \\exp \\{ -\\theta \\kappa(i,j) \\} $.\n",
    "$$ $$\n",
    "\\begin{equation}\n",
    "    \\log f(I,R | \\beta, \\theta, Z, P, I_k) = \\sum_{j \\neq k} \\log \\left( \\sum_{i:I_i \\leq I_j \\leq R_i }   \\beta \\exp \\{ -\\theta \\kappa(i,j) \\right) - \\sum_{j=1}^m \\sum_{k=1}^n  \\beta \\exp \\{ -\\theta \\kappa(j,k)\\} \\{ \\min(R_j, I_k) - \\min(I_j, I_k ) \\} + \\sum_{i=1}^m \\log f(D_i|\\delta)\n",
    "\\end{equation} \n",
    "\n",
    "However, since we set the recovery to 5 days, we not longer need to assume those days come from a gamma distribution. The last term in the log-likelihood $\\sum_{i=1}^m \\log f(D_i|\\delta)$ is now just $\\sum_{i=1}^m \\min \\{\\text{recovery}_i, \\text{death}_i \\}$ (regardless of the resulting min, it is a constant w.r.t the parameters and can be dropped).\n",
    "\n",
    "\\begin{equation}\n",
    "    \\log f(I,R | \\beta, \\theta, Z, P, I_k) \\propto \\sum_{j \\neq k} \\log \\left( \\beta \\sum_{i:I_i \\leq I_j \\leq R_i }  \\exp \\{ -\\theta \\kappa(i,j) \\right) - \\sum_{j=1}^m \\sum_{k=1}^n  \\beta \\exp \\{ -\\theta \\kappa(j,k)\\} \\left[ \\min(R_j, I_k) - \\min(I_j, I_k ) \\right]\n",
    "\\end{equation}"
   ]
  },
  {
   "cell_type": "code",
   "execution_count": 9,
   "id": "e558bb29",
   "metadata": {
    "ExecuteTime": {
     "end_time": "2022-04-07T16:28:25.635167Z",
     "start_time": "2022-04-07T16:28:25.628562Z"
    }
   },
   "outputs": [],
   "source": [
    "# compute min(I_j, I_k )\n",
    "pairwise_infections = np.fmin(np.array(measles.date_of_prodrome)[\n",
    "                              :, None], np.array(measles.date_of_prodrome)[None, :])\n",
    "\n",
    "# compute min(R_j, I_k)\n",
    "pairwise_infection_removal = np.fmin(np.array(measles.date_of_prodrome)[\n",
    "                                      :, None], np.array(measles.date_of_death)[None, :])\n",
    "\n",
    "# compute infectious overlap period \n",
    "pairwise_infectious_overlap = (pairwise_infection_removal - pairwise_infections) / np.timedelta64(1, \"D\")\n",
    "# compute the WAIFW matrix\n",
    "WAIFW = np.float64(pairwise_infectious_overlap > 1)"
   ]
  },
  {
   "cell_type": "markdown",
   "id": "87af53c9",
   "metadata": {
    "ExecuteTime": {
     "end_time": "2022-04-07T14:57:50.844852Z",
     "start_time": "2022-04-07T14:57:50.841182Z"
    }
   },
   "source": [
    "## MCMC Algorithm "
   ]
  },
  {
   "cell_type": "code",
   "execution_count": 35,
   "id": "7d91b3bd",
   "metadata": {
    "ExecuteTime": {
     "end_time": "2022-04-07T16:37:27.171846Z",
     "start_time": "2022-04-07T16:37:04.197964Z"
    }
   },
   "outputs": [
    {
     "name": "stderr",
     "output_type": "stream",
     "text": [
      "/var/folders/_q/07k1y14x087brt3tmd2bs1740000gn/T/ipykernel_26304/2197162004.py:55: RuntimeWarning: invalid value encountered in log\n",
      "  part1 = np.sum(np.log(part1, where=(part1 != 0)))\n"
     ]
    },
    {
     "name": "stdout",
     "output_type": "stream",
     "text": [
      "MCMC done!\n"
     ]
    }
   ],
   "source": [
    "# try to back out the overall event rate in the population: i.e. run MCMC for an exponential distribution\n",
    "def ILMepidemic_MCMC(data, init, iters=10001):\n",
    "\n",
    "    def metropolisHastings(init, logLik, rprop, dprior, iters=iters):\n",
    "        # initialize matrix to store results\n",
    "        mat = np.zeros(shape=(iters, len(init)))\n",
    "        mat[0, :] = init\n",
    "\n",
    "        theta = init\n",
    "\n",
    "        # compute initial logLik\n",
    "        ll_main = logLik(mat[0, :])\n",
    "\n",
    "        # run the MCMC for iters many iterations\n",
    "\n",
    "        for ii in range(iters):\n",
    "            # propose new parameters\n",
    "            theta_proposed = rprop(theta)\n",
    "            # check if proposal is a valid one\n",
    "\n",
    "            ll_proposed = logLik(theta_proposed)\n",
    "\n",
    "            # compute the (log) acceptance probability\n",
    "\n",
    "            a = ll_proposed-ll_main + \\\n",
    "                dprior(theta_proposed) - dprior(theta)\n",
    "            # print(f\"proposal, {theta_proposed}. alpha {a}.\")\n",
    "\n",
    "            if (np.log(stats.uniform(0, 1).rvs()) < a):\n",
    "                # print('accept')\n",
    "                theta = theta_proposed\n",
    "                ll_main = ll_proposed\n",
    "\n",
    "                # store the result\n",
    "                mat[ii, :] = theta\n",
    "            else:\n",
    "                # print('reject')\n",
    "                mat[ii, :] = mat[ii-1, :]\n",
    "\n",
    "        print('MCMC done!')\n",
    "\n",
    "        return mat\n",
    "\n",
    "    # parameters are [beta, theta]\n",
    "    def proposal_denisty(parameters):\n",
    "        return stats.norm(parameters, 0.1).rvs()\n",
    "\n",
    "    def prior_density(parameters):\n",
    "        # np.sum(stats.gamma.logpdf(parameters, 3, loc=0, scale=1))\n",
    "        return np.sum(stats.expon.logpdf(x=parameters[0], scale=0.1) + stats.expon.logpdf(x=parameters[1], scale=10))\n",
    "\n",
    "    def logLik(parameters):\n",
    "        part1 = (parameters[0] * WAIFW *\n",
    "                 np.exp(- parameters[1] * pairwise_distances))\n",
    "        part1 = np.sum(np.log(part1, where=(part1 != 0)))\n",
    "\n",
    "        part2 = np.sum(parameters[0] * np.exp(- parameters[1]\n",
    "                       * pairwise_distances) * pairwise_infectious_overlap)\n",
    "        return part1 - part2\n",
    "\n",
    "    ####################################################################################\n",
    "    return metropolisHastings(init=init,\n",
    "                              logLik=logLik,\n",
    "                              rprop=proposal_denisty,\n",
    "                              dprior=prior_density)\n",
    "\n",
    "\n",
    "MCMC_results = ILMepidemic_MCMC(data=measles, init=[0.1, 0.1])"
   ]
  },
  {
   "cell_type": "code",
   "execution_count": 36,
   "id": "da9d7dba",
   "metadata": {
    "ExecuteTime": {
     "end_time": "2022-04-07T16:37:27.485426Z",
     "start_time": "2022-04-07T16:37:27.174981Z"
    }
   },
   "outputs": [
    {
     "data": {
      "text/plain": [
       "array([[<AxesSubplot:>, <AxesSubplot:>]], dtype=object)"
      ]
     },
     "execution_count": 36,
     "metadata": {},
     "output_type": "execute_result"
    },
    {
     "data": {
      "image/png": "[encoded data removed]",
      "text/plain": [
       "<Figure size 864x288 with 2 Axes>"
      ]
     },
     "metadata": {},
     "output_type": "display_data"
    }
   ],
   "source": [
    "pd.DataFrame(MCMC_results, columns=['beta', 'theta']).loc[:,:].plot(\n",
    "    title='MCMC Results',\n",
    "    figsize=(12, 4),\n",
    "    subplots=True,\n",
    "    layout=(1, 2))"
   ]
  },
  {
   "cell_type": "code",
   "execution_count": 37,
   "id": "9168f901",
   "metadata": {
    "ExecuteTime": {
     "end_time": "2022-04-07T16:37:27.977326Z",
     "start_time": "2022-04-07T16:37:27.487340Z"
    }
   },
   "outputs": [
    {
     "data": {
      "text/plain": [
       "array([[<AxesSubplot:ylabel='Density'>, <AxesSubplot:ylabel='Density'>]],\n",
       "      dtype=object)"
      ]
     },
     "execution_count": 37,
     "metadata": {},
     "output_type": "execute_result"
    },
    {
     "data": {
      "image/png": "[encoded data removed]",
      "text/plain": [
       "<Figure size 864x288 with 2 Axes>"
      ]
     },
     "metadata": {},
     "output_type": "display_data"
    }
   ],
   "source": [
    "pd.DataFrame(MCMC_results, columns=['beta', 'theta']).plot(\n",
    "    title='MCMC Results',\n",
    "    kind = 'kde',\n",
    "    figsize=(12, 4),\n",
    "    subplots=True,\n",
    "    layout=(1, 2))"
   ]
  },
  {
   "cell_type": "code",
   "execution_count": 38,
   "id": "84c1dc0c",
   "metadata": {
    "ExecuteTime": {
     "end_time": "2022-04-07T16:37:27.993874Z",
     "start_time": "2022-04-07T16:37:27.979689Z"
    }
   },
   "outputs": [
    {
     "data": {
      "text/html": [
       "<div>\n",
       "<style scoped>\n",
       "    .dataframe tbody tr th:only-of-type {\n",
       "        vertical-align: middle;\n",
       "    }\n",
       "\n",
       "    .dataframe tbody tr th {\n",
       "        vertical-align: top;\n",
       "    }\n",
       "\n",
       "    .dataframe thead th {\n",
       "        text-align: right;\n",
       "    }\n",
       "</style>\n",
       "<table border=\"1\" class=\"dataframe\">\n",
       "  <thead>\n",
       "    <tr style=\"text-align: right;\">\n",
       "      <th></th>\n",
       "      <th>beta</th>\n",
       "      <th>theta</th>\n",
       "    </tr>\n",
       "  </thead>\n",
       "  <tbody>\n",
       "    <tr>\n",
       "      <th>count</th>\n",
       "      <td>9901.000000</td>\n",
       "      <td>9901.000000</td>\n",
       "    </tr>\n",
       "    <tr>\n",
       "      <th>mean</th>\n",
       "      <td>0.096975</td>\n",
       "      <td>0.000168</td>\n",
       "    </tr>\n",
       "    <tr>\n",
       "      <th>std</th>\n",
       "      <td>0.041979</td>\n",
       "      <td>0.000706</td>\n",
       "    </tr>\n",
       "    <tr>\n",
       "      <th>min</th>\n",
       "      <td>0.087670</td>\n",
       "      <td>0.000045</td>\n",
       "    </tr>\n",
       "    <tr>\n",
       "      <th>25%</th>\n",
       "      <td>0.087670</td>\n",
       "      <td>0.000045</td>\n",
       "    </tr>\n",
       "    <tr>\n",
       "      <th>50%</th>\n",
       "      <td>0.087670</td>\n",
       "      <td>0.000045</td>\n",
       "    </tr>\n",
       "    <tr>\n",
       "      <th>75%</th>\n",
       "      <td>0.087670</td>\n",
       "      <td>0.000045</td>\n",
       "    </tr>\n",
       "    <tr>\n",
       "      <th>max</th>\n",
       "      <td>0.420398</td>\n",
       "      <td>0.006029</td>\n",
       "    </tr>\n",
       "  </tbody>\n",
       "</table>\n",
       "</div>"
      ],
      "text/plain": [
       "              beta        theta\n",
       "count  9901.000000  9901.000000\n",
       "mean      0.096975     0.000168\n",
       "std       0.041979     0.000706\n",
       "min       0.087670     0.000045\n",
       "25%       0.087670     0.000045\n",
       "50%       0.087670     0.000045\n",
       "75%       0.087670     0.000045\n",
       "max       0.420398     0.006029"
      ]
     },
     "execution_count": 38,
     "metadata": {},
     "output_type": "execute_result"
    }
   ],
   "source": [
    "pd.DataFrame(MCMC_results, columns=['beta', 'theta']).loc[100:,:].describe()"
   ]
  }
 ],
 "metadata": {
  "kernelspec": {
   "display_name": "Python 3 (ipykernel)",
   "language": "python",
   "name": "python3"
  },
  "language_info": {
   "codemirror_mode": {
    "name": "ipython",
    "version": 3
   },
   "file_extension": ".py",
   "mimetype": "text/x-python",
   "name": "python",
   "nbconvert_exporter": "python",
   "pygments_lexer": "ipython3",
   "version": "3.9.7"
  },
  "toc": {
   "base_numbering": 1,
   "nav_menu": {},
   "number_sections": true,
   "sideBar": true,
   "skip_h1_title": false,
   "title_cell": "Table of Contents",
   "title_sidebar": "Contents",
   "toc_cell": false,
   "toc_position": {},
   "toc_section_display": true,
   "toc_window_display": false
  },
  "varInspector": {
   "cols": {
    "lenName": 16,
    "lenType": 16,
    "lenVar": 40
   },
   "kernels_config": {
    "python": {
     "delete_cmd_postfix": "",
     "delete_cmd_prefix": "del ",
     "library": "var_list.py",
     "varRefreshCmd": "print(var_dic_list())"
    },
    "r": {
     "delete_cmd_postfix": ") ",
     "delete_cmd_prefix": "rm(",
     "library": "var_list.r",
     "varRefreshCmd": "cat(var_dic_list()) "
    }
   },
   "types_to_exclude": [
    "module",
    "function",
    "builtin_function_or_method",
    "instance",
    "_Feature"
   ],
   "window_display": false
  }
 },
 "nbformat": 4,
 "nbformat_minor": 5
}
