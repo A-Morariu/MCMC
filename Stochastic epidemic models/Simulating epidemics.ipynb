{
 "cells": [
  {
   "cell_type": "code",
   "execution_count": 3,
   "id": "caea7526",
   "metadata": {
    "ExecuteTime": {
     "end_time": "2022-03-14T17:42:28.936715Z",
     "start_time": "2022-03-14T17:42:27.304803Z"
    }
   },
   "outputs": [],
   "source": [
    "import numpy as np \n",
    "import pandas as pd \n",
    "import matplotlib.pyplot as plt \n",
    "import seaborn as sns \n",
    "import datetime as dt"
   ]
  },
  {
   "cell_type": "markdown",
   "id": "72116a6c",
   "metadata": {},
   "source": [
    "# Continuous Time Epidemic Models "
   ]
  },
  {
   "cell_type": "code",
   "execution_count": 9,
   "id": "caf6a81f",
   "metadata": {
    "ExecuteTime": {
     "end_time": "2022-03-14T17:42:47.115685Z",
     "start_time": "2022-03-14T17:42:47.108392Z"
    }
   },
   "outputs": [],
   "source": [
    "def sir1(beta, gamma, S0, I0, R0):\n",
    "    # initial values\n",
    "    S = S0\n",
    "    I = I0\n",
    "    R = R0\n",
    "    N = S0 + I0 + R0\n",
    "    t = 0\n",
    "\n",
    "    # keep track of time epidemic state\n",
    "    accum = [(t, S, I, R)]\n",
    "\n",
    "    # simulate until epidemic ends\n",
    "    while True:\n",
    "\n",
    "        # 1. calculate rates\n",
    "        si_rate = beta * S * I / (S + I + R)\n",
    "        ir_rate = gamma * I\n",
    "        total_rate = si_rate + ir_rate\n",
    "\n",
    "        # exit condition\n",
    "        if total_rate == 0.0:\n",
    "            break\n",
    "\n",
    "        # 2. sample next event (event is a transition from S -> I or I -> R)\n",
    "        tstar = np.random.exponential(1 / total_rate)\n",
    "\n",
    "        t += tstar\n",
    "\n",
    "        # 3. sample type of even (here we choose between S -> I or I -> R - exclusive\n",
    "        if np.random.uniform() < si_rate / total_rate:\n",
    "            S -= 1\n",
    "            I += 1\n",
    "            R = R  # add 0\n",
    "        else:\n",
    "            S = S  # add 0\n",
    "            I -= 1\n",
    "            R += 1\n",
    "\n",
    "        # 4. Keep track of progress\n",
    "        accum.append((t, S, I, R))\n",
    "\n",
    "    # format for output\n",
    "    results = np.array(accum)\n",
    "    return dict(t=results[:, 0],\n",
    "                S=results[:, 1],\n",
    "                I=results[:, 2],\n",
    "                R=results[:, 3])"
   ]
  },
  {
   "cell_type": "code",
   "execution_count": 10,
   "id": "61d77bcb",
   "metadata": {
    "ExecuteTime": {
     "end_time": "2022-03-14T17:42:48.244813Z",
     "start_time": "2022-03-14T17:42:48.105536Z"
    }
   },
   "outputs": [
    {
     "data": {
      "image/png": "[encoded data removed]",
      "text/plain": [
       "<Figure size 432x288 with 1 Axes>"
      ]
     },
     "metadata": {
      "needs_background": "light"
     },
     "output_type": "display_data"
    }
   ],
   "source": [
    "# simulate a simple epidemic\n",
    "epi = sir1(beta=0.3, gamma=0.14, S0=999, I0=1, R0=0)\n",
    "\n",
    "plt.plot(epi['t'], epi['S'], label='S')\n",
    "plt.plot(epi['t'], epi['I'], label='I')\n",
    "plt.plot(epi['t'], epi['R'], label='R')\n",
    "plt.legend()\n",
    "plt.xlabel(\"Time (days)\")\n",
    "_ = plt.ylabel(\"Individuals\")"
   ]
  },
  {
   "cell_type": "code",
   "execution_count": 5,
   "id": "f86c8108",
   "metadata": {
    "ExecuteTime": {
     "end_time": "2022-02-21T11:42:29.590575Z",
     "start_time": "2022-02-21T11:42:29.585164Z"
    }
   },
   "outputs": [],
   "source": [
    "# the above code can be made more efficient with some vectorization of the steps\n",
    "\n",
    "\n",
    "def cts_time_epidemic(initial_state, incidence_matrix, spread_rates):\n",
    "    '''\n",
    "    initial_state: \n",
    "        3-tuple of (S,I,R) \n",
    "\n",
    "    incidence_matrix:\n",
    "        Represents transitions between states of the model \n",
    "\n",
    "    spread_rates:\n",
    "        2-tuple of (beta, gamma) \n",
    "    '''\n",
    "    # initial\n",
    "    current_state = initial_state.copy()\n",
    "    t = 0\n",
    "\n",
    "    # keep track of time epidemic state\n",
    "    state_accum = [initial_state]\n",
    "    t_accum = [t]\n",
    "\n",
    "    # simulate until epidemic ends\n",
    "    while True:\n",
    "\n",
    "        # 1. calculate rates\n",
    "        si_rate = current_state[0]*current_state[1] * \\\n",
    "            spread_rates[0]/np.sum(initial_state)\n",
    "        ir_rate = spread_rates[1] * current_state[1]\n",
    "        total_rate = si_rate + ir_rate\n",
    "\n",
    "        # exit condition\n",
    "        if total_rate == 0.0:\n",
    "            break\n",
    "\n",
    "        # 2. sample next event (event is a transition from S -> I or I -> R)\n",
    "        tstar = np.random.exponential(1 / total_rate)\n",
    "        t += tstar\n",
    "        # 3. sample type of even (here we choose between S -> I or I -> R - exclusive\n",
    "        next_event = np.random.multinomial(n=1,\n",
    "                                           pvals=(si_rate / total_rate,\n",
    "                                                  ir_rate / total_rate))\n",
    "\n",
    "        # 4. Keep track of progress\n",
    "        current_state += incidence_matrix.dot(next_event)\n",
    "\n",
    "        # Append result to accumulation buffer\n",
    "        state_accum.append(current_state.copy())\n",
    "        t_accum.append(t)\n",
    "\n",
    "    # Reformat results and return\n",
    "    state_result = np.stack(state_accum, axis=0)\n",
    "    t_result = np.stack(t_accum, axis=0)\n",
    "    return dict(t=t_result, state=state_result)"
   ]
  },
  {
   "cell_type": "code",
   "execution_count": 6,
   "id": "b25a0c7c",
   "metadata": {
    "ExecuteTime": {
     "end_time": "2022-02-21T11:42:29.597349Z",
     "start_time": "2022-02-21T11:42:29.592478Z"
    }
   },
   "outputs": [],
   "source": [
    "# Model specification\n",
    "incidence_matrix = np.array([[-1, 0],\n",
    "                             [1, -1],\n",
    "                             [0, 1]])\n",
    "\n",
    "initial_state = [999, 1, 0]\n",
    "\n",
    "epi2 = cts_time_epidemic(initial_state=initial_state,\n",
    "                         incidence_matrix=incidence_matrix,\n",
    "                         spread_rates=(0.4, 0.14))"
   ]
  },
  {
   "cell_type": "code",
   "execution_count": 7,
   "id": "48cad602",
   "metadata": {
    "ExecuteTime": {
     "end_time": "2022-02-21T11:42:29.707334Z",
     "start_time": "2022-02-21T11:42:29.599033Z"
    }
   },
   "outputs": [
    {
     "data": {
      "image/png": "[encoded data removed]",
      "text/plain": [
       "<Figure size 432x288 with 1 Axes>"
      ]
     },
     "metadata": {
      "needs_background": "light"
     },
     "output_type": "display_data"
    }
   ],
   "source": [
    "plt.plot(epi2['t'], epi2['state'][:, 0], label='S')\n",
    "plt.plot(epi2['t'], epi2['state'][:, 1], label='I')\n",
    "plt.plot(epi2['t'], epi2['state'][:, 2], label='R')\n",
    "plt.legend()\n",
    "plt.xlabel(\"Time\")\n",
    "_ = plt.ylabel(\"Individuals\")"
   ]
  },
  {
   "cell_type": "code",
   "execution_count": 8,
   "id": "bacd01da",
   "metadata": {
    "ExecuteTime": {
     "end_time": "2022-02-21T11:42:33.373495Z",
     "start_time": "2022-02-21T11:42:29.709606Z"
    }
   },
   "outputs": [
    {
     "name": "stdout",
     "output_type": "stream",
     "text": [
      "4.44 ms ± 211 µs per loop (mean ± std. dev. of 7 runs, 100 loops each)\n"
     ]
    }
   ],
   "source": [
    "%timeit sir1(beta=0.3, gamma=0.14, S0=999, I0=1, R0=0)"
   ]
  },
  {
   "cell_type": "code",
   "execution_count": 9,
   "id": "99747946",
   "metadata": {
    "ExecuteTime": {
     "end_time": "2022-02-21T11:42:36.105698Z",
     "start_time": "2022-02-21T11:42:33.375614Z"
    }
   },
   "outputs": [
    {
     "name": "stdout",
     "output_type": "stream",
     "text": [
      "34.3 ms ± 5.21 ms per loop (mean ± std. dev. of 7 runs, 10 loops each)\n"
     ]
    }
   ],
   "source": [
    "%timeit cts_time_epidemic(initial_state=initial_state, incidence_matrix=incidence_matrix, spread_rates=(0.3, 0.14))"
   ]
  },
  {
   "cell_type": "code",
   "execution_count": 10,
   "id": "90adeb41",
   "metadata": {
    "ExecuteTime": {
     "end_time": "2022-02-21T11:42:36.111752Z",
     "start_time": "2022-02-21T11:42:36.108245Z"
    }
   },
   "outputs": [],
   "source": [
    "# playing with different transition rates\n",
    "\n",
    "def transition_rates(beta, gamma, phi):\n",
    "    def fn(state):\n",
    "        si_rate = beta * np.power(state[1], phi) * state[0] / np.sum(state)\n",
    "        ir_rate = gamma * state[1]\n",
    "\n",
    "        return np.stack([si_rate, ir_rate], axis=0)\n",
    "\n",
    "    return fn"
   ]
  },
  {
   "cell_type": "code",
   "execution_count": 11,
   "id": "8cda7622",
   "metadata": {
    "ExecuteTime": {
     "end_time": "2022-02-21T11:42:36.120454Z",
     "start_time": "2022-02-21T11:42:36.115932Z"
    }
   },
   "outputs": [],
   "source": [
    "def cts_time_epidemic2(transition_rate_fn, initial_state, incidence_matrix):\n",
    "    current_state = initial_state.copy()\n",
    "    t = 0\n",
    "\n",
    "    state_accum = [initial_state]\n",
    "    t_accum = [t]\n",
    "\n",
    "    while True:\n",
    "\n",
    "        # Calculate rates\n",
    "        rates = transition_rate_fn(current_state)\n",
    "        total_rate = np.sum(rates)\n",
    "\n",
    "        if total_rate == 0.0:  # Break if epidemic stops\n",
    "            break\n",
    "\n",
    "        # Draw time to next event, update t\n",
    "        tstar = np.random.exponential(1.0/total_rate)\n",
    "        t += tstar\n",
    "\n",
    "        # Draw event one hot vector\n",
    "        next_event = np.random.multinomial(n=1,\n",
    "                                           pvals=rates/total_rate)\n",
    "\n",
    "        # Propagate state\n",
    "        current_state += incidence_matrix.dot(next_event)\n",
    "\n",
    "        # Append result to accumulation buffer\n",
    "        state_accum.append(current_state.copy())\n",
    "        t_accum.append(t)\n",
    "\n",
    "    # Reformat results and return\n",
    "    state_result = np.stack(state_accum, axis=0)\n",
    "    t_result = np.stack(t_accum, axis=0)\n",
    "    return dict(t=t_result, state=state_result)"
   ]
  },
  {
   "cell_type": "code",
   "execution_count": 12,
   "id": "6297c943",
   "metadata": {
    "ExecuteTime": {
     "end_time": "2022-02-21T11:42:36.318626Z",
     "start_time": "2022-02-21T11:42:36.122438Z"
    }
   },
   "outputs": [
    {
     "data": {
      "image/png": "[encoded data removed]",
      "text/plain": [
       "<Figure size 432x288 with 1 Axes>"
      ]
     },
     "metadata": {
      "needs_background": "light"
     },
     "output_type": "display_data"
    }
   ],
   "source": [
    "# reuse incidence matrix from before \n",
    "epi3 = cts_time_epidemic2(transition_rate_fn=transition_rates(0.5, 0.14, 0.8),\n",
    "                           initial_state=initial_state,\n",
    "                           incidence_matrix=incidence_matrix)\n",
    "\n",
    "plt.plot(epi3['t'], epi3['state'][:, 0], label='S')\n",
    "plt.plot(epi3['t'], epi3['state'][:, 1], label='I')\n",
    "plt.plot(epi3['t'], epi3['state'][:, 2], label='R')\n",
    "plt.legend()\n",
    "plt.xlabel(\"Time\")\n",
    "_ = plt.ylabel(\"Individuals\")"
   ]
  },
  {
   "cell_type": "markdown",
   "id": "58360e14",
   "metadata": {},
   "source": [
    "# Discrete Time Epidemic Models "
   ]
  },
  {
   "cell_type": "code",
   "execution_count": null,
   "id": "d9f2eb75",
   "metadata": {},
   "outputs": [],
   "source": []
  },
  {
   "cell_type": "markdown",
   "id": "5ec77fbc",
   "metadata": {},
   "source": [
    "# Playing with Einsum\n"
   ]
  },
  {
   "cell_type": "code",
   "execution_count": 13,
   "id": "f2254acc",
   "metadata": {
    "ExecuteTime": {
     "end_time": "2022-02-21T11:42:36.323898Z",
     "start_time": "2022-02-21T11:42:36.320201Z"
    }
   },
   "outputs": [],
   "source": [
    "# define some arrays\n",
    "a = np.array([[0, 1, 2],\n",
    "              [3, 4, 5],\n",
    "              [6, 7, 8]])\n",
    "b = np.array([[1, 0, 0, 0],\n",
    "              [1, 1, 0, 0],\n",
    "              [1, 1, 1, 0]])"
   ]
  },
  {
   "cell_type": "code",
   "execution_count": 14,
   "id": "838cd7b0",
   "metadata": {
    "ExecuteTime": {
     "end_time": "2022-02-21T11:42:36.331451Z",
     "start_time": "2022-02-21T11:42:36.326804Z"
    }
   },
   "outputs": [
    {
     "data": {
      "text/plain": [
       "['Dim(a): (3, 3)', 'Dim(b): (3, 4)']"
      ]
     },
     "execution_count": 14,
     "metadata": {},
     "output_type": "execute_result"
    }
   ],
   "source": [
    "[f\"Dim(a): {a.shape}\", f\"Dim(b): {b.shape}\"]"
   ]
  },
  {
   "cell_type": "code",
   "execution_count": 15,
   "id": "894d85a3",
   "metadata": {
    "ExecuteTime": {
     "end_time": "2022-02-21T11:42:36.337838Z",
     "start_time": "2022-02-21T11:42:36.333259Z"
    }
   },
   "outputs": [
    {
     "data": {
      "text/plain": [
       "array([[1, 1, 1],\n",
       "       [0, 1, 1],\n",
       "       [0, 0, 1],\n",
       "       [0, 0, 0]])"
      ]
     },
     "execution_count": 15,
     "metadata": {},
     "output_type": "execute_result"
    }
   ],
   "source": [
    "# transpose of a matrix \n",
    "np.einsum('ji', b)"
   ]
  },
  {
   "cell_type": "code",
   "execution_count": 16,
   "id": "4c9fa4f8",
   "metadata": {
    "ExecuteTime": {
     "end_time": "2022-02-21T11:42:36.343953Z",
     "start_time": "2022-02-21T11:42:36.339856Z"
    }
   },
   "outputs": [
    {
     "data": {
      "text/plain": [
       "array([0, 4, 8])"
      ]
     },
     "execution_count": 16,
     "metadata": {},
     "output_type": "execute_result"
    }
   ],
   "source": [
    "# diagonal of a matrix - only works on square matrix! \n",
    "np.einsum('ii-> i',a) "
   ]
  },
  {
   "cell_type": "code",
   "execution_count": 17,
   "id": "ab61074c",
   "metadata": {
    "ExecuteTime": {
     "end_time": "2022-02-21T11:42:36.351056Z",
     "start_time": "2022-02-21T11:42:36.346333Z"
    }
   },
   "outputs": [
    {
     "data": {
      "text/plain": [
       "array([ 3, 12, 21])"
      ]
     },
     "execution_count": 17,
     "metadata": {},
     "output_type": "execute_result"
    }
   ],
   "source": [
    "# this is a row sum! Since j isn't shown, the function sums over that dimension \n",
    "np.einsum('ij -> i', a)\n",
    "# np.einsum('ji -> j', a) transposed column sum = row sum "
   ]
  },
  {
   "cell_type": "code",
   "execution_count": 18,
   "id": "32eeef05",
   "metadata": {
    "ExecuteTime": {
     "end_time": "2022-02-21T11:42:36.358215Z",
     "start_time": "2022-02-21T11:42:36.353735Z"
    }
   },
   "outputs": [
    {
     "data": {
      "text/plain": [
       "array([ 9, 12, 15])"
      ]
     },
     "execution_count": 18,
     "metadata": {},
     "output_type": "execute_result"
    }
   ],
   "source": [
    "# column sum \n",
    "np.einsum('ij -> j', a)"
   ]
  },
  {
   "cell_type": "code",
   "execution_count": 19,
   "id": "fc919431",
   "metadata": {
    "ExecuteTime": {
     "end_time": "2022-02-21T11:42:36.365559Z",
     "start_time": "2022-02-21T11:42:36.360432Z"
    }
   },
   "outputs": [
    {
     "data": {
      "text/plain": [
       "12"
      ]
     },
     "execution_count": 19,
     "metadata": {},
     "output_type": "execute_result"
    }
   ],
   "source": [
    "# trace \n",
    "np.einsum('ii', a)"
   ]
  },
  {
   "cell_type": "code",
   "execution_count": 20,
   "id": "3366ecd7",
   "metadata": {
    "ExecuteTime": {
     "end_time": "2022-02-21T11:42:36.371357Z",
     "start_time": "2022-02-21T11:42:36.367554Z"
    }
   },
   "outputs": [
    {
     "data": {
      "text/plain": [
       "36"
      ]
     },
     "execution_count": 20,
     "metadata": {},
     "output_type": "execute_result"
    }
   ],
   "source": [
    "# sum of all entries\n",
    "# having no arrow just means show the matrix, here we map to the sum along the i and j dim\n",
    "np.einsum('ij -> ', a)"
   ]
  },
  {
   "cell_type": "code",
   "execution_count": 21,
   "id": "33c5a466",
   "metadata": {
    "ExecuteTime": {
     "end_time": "2022-02-21T11:42:36.377495Z",
     "start_time": "2022-02-21T11:42:36.373199Z"
    }
   },
   "outputs": [
    {
     "data": {
      "text/plain": [
       "array([[ 3,  3,  2,  0],\n",
       "       [12,  9,  5,  0],\n",
       "       [21, 15,  8,  0]])"
      ]
     },
     "execution_count": 21,
     "metadata": {},
     "output_type": "execute_result"
    }
   ],
   "source": [
    "# matrix mult \n",
    "np.einsum('ij,jk -> ik', a, b)"
   ]
  },
  {
   "cell_type": "code",
   "execution_count": 22,
   "id": "6fea731c",
   "metadata": {
    "ExecuteTime": {
     "end_time": "2022-02-21T11:42:36.383835Z",
     "start_time": "2022-02-21T11:42:36.379296Z"
    }
   },
   "outputs": [
    {
     "data": {
      "text/plain": [
       "array([[ 9, 12, 15],\n",
       "       [ 9, 11, 13],\n",
       "       [ 6,  7,  8],\n",
       "       [ 0,  0,  0]])"
      ]
     },
     "execution_count": 22,
     "metadata": {},
     "output_type": "execute_result"
    }
   ],
   "source": [
    "np.einsum('ji,jk -> ik', b, a) # transpose b, then mult my a "
   ]
  },
  {
   "cell_type": "code",
   "execution_count": 23,
   "id": "a5f5d958",
   "metadata": {
    "ExecuteTime": {
     "end_time": "2022-02-21T11:42:36.390240Z",
     "start_time": "2022-02-21T11:42:36.386036Z"
    }
   },
   "outputs": [
    {
     "data": {
      "text/plain": [
       "array([[ 3,  3,  2,  0],\n",
       "       [12,  9,  5,  0],\n",
       "       [21, 15,  8,  0]])"
      ]
     },
     "execution_count": 23,
     "metadata": {},
     "output_type": "execute_result"
    }
   ],
   "source": [
    "# dot product\n",
    "np.einsum('ij,jk', a, b)"
   ]
  },
  {
   "cell_type": "code",
   "execution_count": 24,
   "id": "271ffa74",
   "metadata": {
    "ExecuteTime": {
     "end_time": "2022-02-21T11:42:36.396457Z",
     "start_time": "2022-02-21T11:42:36.391912Z"
    }
   },
   "outputs": [
    {
     "data": {
      "text/plain": [
       "array([[  5,  14,  23],\n",
       "       [ 14,  50,  86],\n",
       "       [ 23,  86, 149]])"
      ]
     },
     "execution_count": 24,
     "metadata": {},
     "output_type": "execute_result"
    }
   ],
   "source": [
    "# inner product \n",
    "np.einsum('ij,kj->ik', a, a)"
   ]
  },
  {
   "cell_type": "code",
   "execution_count": 25,
   "id": "b4fe9d09",
   "metadata": {
    "ExecuteTime": {
     "end_time": "2022-02-21T11:42:36.403720Z",
     "start_time": "2022-02-21T11:42:36.398804Z"
    },
    "scrolled": true
   },
   "outputs": [
    {
     "data": {
      "text/plain": [
       "array([[[0, 0, 0, 0],\n",
       "        [1, 1, 0, 0],\n",
       "        [2, 2, 2, 0]],\n",
       "\n",
       "       [[3, 0, 0, 0],\n",
       "        [4, 4, 0, 0],\n",
       "        [5, 5, 5, 0]],\n",
       "\n",
       "       [[6, 0, 0, 0],\n",
       "        [7, 7, 0, 0],\n",
       "        [8, 8, 8, 0]]])"
      ]
     },
     "execution_count": 25,
     "metadata": {},
     "output_type": "execute_result"
    }
   ],
   "source": [
    "# multiply b.col by EACH row of a - output is a 3D array now \n",
    "np.einsum('ij,jk -> ijk', a,b)"
   ]
  },
  {
   "cell_type": "code",
   "execution_count": 26,
   "id": "e52420a0",
   "metadata": {
    "ExecuteTime": {
     "end_time": "2022-02-21T11:42:36.411756Z",
     "start_time": "2022-02-21T11:42:36.406322Z"
    }
   },
   "outputs": [
    {
     "data": {
      "text/plain": [
       "array([[[0, 0, 0, 0],\n",
       "        [1, 1, 0, 0],\n",
       "        [2, 2, 2, 0]],\n",
       "\n",
       "       [[3, 0, 0, 0],\n",
       "        [4, 4, 0, 0],\n",
       "        [5, 5, 5, 0]],\n",
       "\n",
       "       [[6, 0, 0, 0],\n",
       "        [7, 7, 0, 0],\n",
       "        [8, 8, 8, 0]]])"
      ]
     },
     "execution_count": 26,
     "metadata": {},
     "output_type": "execute_result"
    }
   ],
   "source": [
    "np.einsum('ij,jk -> ijk', a,b)"
   ]
  },
  {
   "cell_type": "markdown",
   "id": "407be124",
   "metadata": {
    "ExecuteTime": {
     "end_time": "2022-02-17T15:34:28.644375Z",
     "start_time": "2022-02-17T15:34:28.635491Z"
    }
   },
   "source": [
    "# From simulation to inference "
   ]
  },
  {
   "cell_type": "code",
   "execution_count": 35,
   "id": "ed39bccf",
   "metadata": {
    "ExecuteTime": {
     "end_time": "2022-02-21T11:44:23.070355Z",
     "start_time": "2022-02-21T11:44:23.066860Z"
    }
   },
   "outputs": [],
   "source": [
    "simulated_epidemic = pd.DataFrame(epi3['state'], columns=['S', 'I', 'R'])"
   ]
  },
  {
   "cell_type": "code",
   "execution_count": 36,
   "id": "f74fe521",
   "metadata": {
    "ExecuteTime": {
     "end_time": "2022-02-21T11:44:27.637553Z",
     "start_time": "2022-02-21T11:44:27.630710Z"
    }
   },
   "outputs": [
    {
     "data": {
      "text/html": [
       "<div>\n",
       "<style scoped>\n",
       "    .dataframe tbody tr th:only-of-type {\n",
       "        vertical-align: middle;\n",
       "    }\n",
       "\n",
       "    .dataframe tbody tr th {\n",
       "        vertical-align: top;\n",
       "    }\n",
       "\n",
       "    .dataframe thead th {\n",
       "        text-align: right;\n",
       "    }\n",
       "</style>\n",
       "<table border=\"1\" class=\"dataframe\">\n",
       "  <thead>\n",
       "    <tr style=\"text-align: right;\">\n",
       "      <th></th>\n",
       "      <th>S</th>\n",
       "      <th>I</th>\n",
       "      <th>R</th>\n",
       "    </tr>\n",
       "  </thead>\n",
       "  <tbody>\n",
       "    <tr>\n",
       "      <th>0</th>\n",
       "      <td>999</td>\n",
       "      <td>1</td>\n",
       "      <td>0</td>\n",
       "    </tr>\n",
       "    <tr>\n",
       "      <th>1</th>\n",
       "      <td>998</td>\n",
       "      <td>2</td>\n",
       "      <td>0</td>\n",
       "    </tr>\n",
       "    <tr>\n",
       "      <th>2</th>\n",
       "      <td>997</td>\n",
       "      <td>3</td>\n",
       "      <td>0</td>\n",
       "    </tr>\n",
       "    <tr>\n",
       "      <th>3</th>\n",
       "      <td>996</td>\n",
       "      <td>4</td>\n",
       "      <td>0</td>\n",
       "    </tr>\n",
       "    <tr>\n",
       "      <th>4</th>\n",
       "      <td>995</td>\n",
       "      <td>5</td>\n",
       "      <td>0</td>\n",
       "    </tr>\n",
       "  </tbody>\n",
       "</table>\n",
       "</div>"
      ],
      "text/plain": [
       "     S  I  R\n",
       "0  999  1  0\n",
       "1  998  2  0\n",
       "2  997  3  0\n",
       "3  996  4  0\n",
       "4  995  5  0"
      ]
     },
     "execution_count": 36,
     "metadata": {},
     "output_type": "execute_result"
    }
   ],
   "source": [
    "simulated_epidemic.head()"
   ]
  }
 ],
 "metadata": {
  "kernelspec": {
   "display_name": "Python 3 (ipykernel)",
   "language": "python",
   "name": "python3"
  },
  "language_info": {
   "codemirror_mode": {
    "name": "ipython",
    "version": 3
   },
   "file_extension": ".py",
   "mimetype": "text/x-python",
   "name": "python",
   "nbconvert_exporter": "python",
   "pygments_lexer": "ipython3",
   "version": "3.9.7"
  },
  "toc": {
   "base_numbering": 1,
   "nav_menu": {},
   "number_sections": true,
   "sideBar": true,
   "skip_h1_title": false,
   "title_cell": "Table of Contents",
   "title_sidebar": "Contents",
   "toc_cell": false,
   "toc_position": {},
   "toc_section_display": true,
   "toc_window_display": true
  },
  "varInspector": {
   "cols": {
    "lenName": 16,
    "lenType": 16,
    "lenVar": 40
   },
   "kernels_config": {
    "python": {
     "delete_cmd_postfix": "",
     "delete_cmd_prefix": "del ",
     "library": "var_list.py",
     "varRefreshCmd": "print(var_dic_list())"
    },
    "r": {
     "delete_cmd_postfix": ") ",
     "delete_cmd_prefix": "rm(",
     "library": "var_list.r",
     "varRefreshCmd": "cat(var_dic_list()) "
    }
   },
   "types_to_exclude": [
    "module",
    "function",
    "builtin_function_or_method",
    "instance",
    "_Feature"
   ],
   "window_display": false
  }
 },
 "nbformat": 4,
 "nbformat_minor": 5
}
