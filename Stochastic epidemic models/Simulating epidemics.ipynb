{
 "cells": [
  {
   "cell_type": "code",
   "execution_count": 221,
   "id": "caea7526",
   "metadata": {
    "ExecuteTime": {
     "end_time": "2022-02-17T15:30:20.303017Z",
     "start_time": "2022-02-17T15:30:20.298409Z"
    }
   },
   "outputs": [],
   "source": [
    "import numpy as np \n",
    "import pandas as pd \n",
    "import matplotlib.pyplot as plt \n",
    "import seaborn as sns \n",
    "import datetime as dt"
   ]
  },
  {
   "cell_type": "markdown",
   "id": "72116a6c",
   "metadata": {},
   "source": [
    "# Continuous Time Epidemic Models "
   ]
  },
  {
   "cell_type": "code",
   "execution_count": 24,
   "id": "caf6a81f",
   "metadata": {
    "ExecuteTime": {
     "end_time": "2022-02-15T20:21:01.874182Z",
     "start_time": "2022-02-15T20:21:01.867434Z"
    }
   },
   "outputs": [],
   "source": [
    "def sir1(beta, gamma, S0, I0, R0):\n",
    "    # initial values\n",
    "    S = S0\n",
    "    I = I0\n",
    "    R = R0\n",
    "    N = S0 + I0 + R0\n",
    "    t = 0\n",
    "\n",
    "    # keep track of time epidemic state\n",
    "    accum = [(t, S, I, R)]\n",
    "\n",
    "    # simulate until epidemic ends\n",
    "    while True:\n",
    "\n",
    "        # 1. calculate rates\n",
    "        si_rate = beta * S * I / (S + I + R)\n",
    "        ir_rate = gamma * I\n",
    "        total_rate = si_rate + ir_rate\n",
    "\n",
    "        # exit condition\n",
    "        if total_rate == 0.0:\n",
    "            break\n",
    "\n",
    "        # 2. sample next event (event is a transition from S -> I or I -> R)\n",
    "        tstar = np.random.exponential(1 / total_rate)\n",
    "\n",
    "        t += tstar\n",
    "\n",
    "        # 3. sample type of even (here we choose between S -> I or I -> R - exclusive\n",
    "        if np.random.uniform() < si_rate / total_rate:\n",
    "            S -= 1\n",
    "            I += 1\n",
    "            R = R  # add 0\n",
    "        else:\n",
    "            S = S  # add 0\n",
    "            I -= 1\n",
    "            R += 1\n",
    "\n",
    "        # 4. Keep track of progress\n",
    "        accum.append((t, S, I, R))\n",
    "\n",
    "    # format for output\n",
    "    results = np.array(accum)\n",
    "    return dict(t=results[:, 0],\n",
    "                S=results[:, 1],\n",
    "                I=results[:, 2],\n",
    "                R=results[:, 3])"
   ]
  },
  {
   "cell_type": "code",
   "execution_count": 25,
   "id": "61d77bcb",
   "metadata": {
    "ExecuteTime": {
     "end_time": "2022-02-15T20:21:02.762096Z",
     "start_time": "2022-02-15T20:21:02.613450Z"
    }
   },
   "outputs": [
    {
     "data": {
      "image/png": "[encoded data removed]",
      "text/plain": [
       "<Figure size 432x288 with 1 Axes>"
      ]
     },
     "metadata": {
      "needs_background": "light"
     },
     "output_type": "display_data"
    }
   ],
   "source": [
    "# simulate a simple epidemic\n",
    "epi = sir1(beta=0.3, gamma=0.14, S0=999, I0=1, R0=0)\n",
    "\n",
    "plt.plot(epi['t'], epi['S'], label='S')\n",
    "plt.plot(epi['t'], epi['I'], label='I')\n",
    "plt.plot(epi['t'], epi['R'], label='R')\n",
    "plt.legend()\n",
    "plt.xlabel(\"Time (days)\")\n",
    "_ = plt.ylabel(\"Individuals\")"
   ]
  },
  {
   "cell_type": "code",
   "execution_count": 68,
   "id": "f86c8108",
   "metadata": {
    "ExecuteTime": {
     "end_time": "2022-02-16T15:21:41.964623Z",
     "start_time": "2022-02-16T15:21:41.958214Z"
    }
   },
   "outputs": [],
   "source": [
    "# the above code can be made more efficient with some vectorization of the steps\n",
    "\n",
    "\n",
    "def cts_time_epidemic(initial_state, incidence_matrix, spread_rates):\n",
    "    '''\n",
    "    initial_state: \n",
    "        3-tuple of (S,I,R) \n",
    "\n",
    "    incidence_matrix:\n",
    "        Represents transitions between states of the model \n",
    "\n",
    "    spread_rates:\n",
    "        2-tuple of (beta, gamma) \n",
    "    '''\n",
    "    # initial\n",
    "    current_state = initial_state.copy()\n",
    "    t = 0\n",
    "\n",
    "    # keep track of time epidemic state\n",
    "    state_accum = [initial_state]\n",
    "    t_accum = [t]\n",
    "\n",
    "    # simulate until epidemic ends\n",
    "    while True:\n",
    "\n",
    "        # 1. calculate rates\n",
    "        si_rate = current_state[0]*current_state[1] * \\\n",
    "            spread_rates[0]/np.sum(initial_state)\n",
    "        ir_rate = spread_rates[1] * current_state[1]\n",
    "        total_rate = si_rate + ir_rate\n",
    "\n",
    "        # exit condition\n",
    "        if total_rate == 0.0:\n",
    "            break\n",
    "\n",
    "        # 2. sample next event (event is a transition from S -> I or I -> R)\n",
    "        tstar = np.random.exponential(1 / total_rate)\n",
    "        t += tstar\n",
    "        # 3. sample type of even (here we choose between S -> I or I -> R - exclusive\n",
    "        next_event = np.random.multinomial(n=1,\n",
    "                                           pvals=(si_rate / total_rate,\n",
    "                                                  ir_rate / total_rate))\n",
    "\n",
    "        # 4. Keep track of progress\n",
    "        current_state += incidence_matrix.dot(next_event)\n",
    "\n",
    "        # Append result to accumulation buffer\n",
    "        state_accum.append(current_state.copy())\n",
    "        t_accum.append(t)\n",
    "\n",
    "    # Reformat results and return\n",
    "    state_result = np.stack(state_accum, axis=0)\n",
    "    t_result = np.stack(t_accum, axis=0)\n",
    "    return dict(t=t_result, state=state_result)"
   ]
  },
  {
   "cell_type": "code",
   "execution_count": 78,
   "id": "b25a0c7c",
   "metadata": {
    "ExecuteTime": {
     "end_time": "2022-02-16T15:22:04.958592Z",
     "start_time": "2022-02-16T15:22:04.858358Z"
    }
   },
   "outputs": [],
   "source": [
    "# Model specification\n",
    "incidence_matrix = np.array([[-1, 0],\n",
    "                             [1, -1],\n",
    "                             [0, 1]])\n",
    "\n",
    "initial_state = [999, 1, 0]\n",
    "\n",
    "epi2 = cts_time_epidemic(initial_state=initial_state,\n",
    "                         incidence_matrix=incidence_matrix,\n",
    "                         spread_rates=(0.4, 0.14))"
   ]
  },
  {
   "cell_type": "code",
   "execution_count": 80,
   "id": "48cad602",
   "metadata": {
    "ExecuteTime": {
     "end_time": "2022-02-16T15:22:08.597227Z",
     "start_time": "2022-02-16T15:22:08.437125Z"
    }
   },
   "outputs": [
    {
     "data": {
      "image/png": "[encoded data removed]",
      "text/plain": [
       "<Figure size 432x288 with 1 Axes>"
      ]
     },
     "metadata": {
      "needs_background": "light"
     },
     "output_type": "display_data"
    }
   ],
   "source": [
    "plt.plot(epi2['t'], epi2['state'][:, 0], label='S')\n",
    "plt.plot(epi2['t'], epi2['state'][:, 1], label='I')\n",
    "plt.plot(epi2['t'], epi2['state'][:, 2], label='R')\n",
    "plt.legend()\n",
    "plt.xlabel(\"Time\")\n",
    "_ = plt.ylabel(\"Individuals\")"
   ]
  },
  {
   "cell_type": "code",
   "execution_count": 85,
   "id": "bacd01da",
   "metadata": {
    "ExecuteTime": {
     "end_time": "2022-02-16T15:23:35.456706Z",
     "start_time": "2022-02-16T15:23:31.326874Z"
    }
   },
   "outputs": [
    {
     "name": "stdout",
     "output_type": "stream",
     "text": [
      "5.13 ms ± 493 µs per loop (mean ± std. dev. of 7 runs, 100 loops each)\n"
     ]
    }
   ],
   "source": [
    "%timeit sir1(beta=0.3, gamma=0.14, S0=999, I0=1, R0=0)"
   ]
  },
  {
   "cell_type": "code",
   "execution_count": 88,
   "id": "99747946",
   "metadata": {
    "ExecuteTime": {
     "end_time": "2022-02-16T15:25:19.304828Z",
     "start_time": "2022-02-16T15:24:50.520479Z"
    }
   },
   "outputs": [
    {
     "name": "stdout",
     "output_type": "stream",
     "text": [
      "36.1 ms ± 3.42 ms per loop (mean ± std. dev. of 7 runs, 100 loops each)\n"
     ]
    }
   ],
   "source": [
    "%timeit cts_time_epidemic(initial_state=initial_state, incidence_matrix=incidence_matrix, spread_rates=(0.3, 0.14))"
   ]
  },
  {
   "cell_type": "code",
   "execution_count": 91,
   "id": "90adeb41",
   "metadata": {
    "ExecuteTime": {
     "end_time": "2022-02-17T11:30:38.851280Z",
     "start_time": "2022-02-17T11:30:38.847155Z"
    }
   },
   "outputs": [],
   "source": [
    "# playing with different transition rates\n",
    "\n",
    "def transition_rates(beta, gamma, phi):\n",
    "    def fn(state):\n",
    "        si_rate = beta * np.power(state[1], phi) * state[0] / np.sum(state)\n",
    "        ir_rate = gamma * state[1]\n",
    "\n",
    "        return np.stack([si_rate, ir_rate], axis=0)\n",
    "\n",
    "    return fn"
   ]
  },
  {
   "cell_type": "code",
   "execution_count": 93,
   "id": "8cda7622",
   "metadata": {
    "ExecuteTime": {
     "end_time": "2022-02-17T11:38:38.628120Z",
     "start_time": "2022-02-17T11:38:38.619951Z"
    }
   },
   "outputs": [],
   "source": [
    "def cts_time_epidemic2(transition_rate_fn, initial_state, incidence_matrix):\n",
    "    current_state = initial_state.copy()\n",
    "    t = 0\n",
    "\n",
    "    state_accum = [initial_state]\n",
    "    t_accum = [t]\n",
    "\n",
    "    while True:\n",
    "\n",
    "        # Calculate rates\n",
    "        rates = transition_rate_fn(current_state)\n",
    "        total_rate = np.sum(rates)\n",
    "\n",
    "        if total_rate == 0.0:  # Break if epidemic stops\n",
    "            break\n",
    "\n",
    "        # Draw time to next event, update t\n",
    "        tstar = np.random.exponential(1.0/total_rate)\n",
    "        t += tstar\n",
    "\n",
    "        # Draw event one hot vector\n",
    "        next_event = np.random.multinomial(n=1,\n",
    "                                           pvals=rates/total_rate)\n",
    "\n",
    "        # Propagate state\n",
    "        current_state += incidence_matrix.dot(next_event)\n",
    "\n",
    "        # Append result to accumulation buffer\n",
    "        state_accum.append(current_state.copy())\n",
    "        t_accum.append(t)\n",
    "\n",
    "    # Reformat results and return\n",
    "    state_result = np.stack(state_accum, axis=0)\n",
    "    t_result = np.stack(t_accum, axis=0)\n",
    "    return dict(t=t_result, state=state_result)"
   ]
  },
  {
   "cell_type": "code",
   "execution_count": 127,
   "id": "6297c943",
   "metadata": {
    "ExecuteTime": {
     "end_time": "2022-02-17T11:41:26.491733Z",
     "start_time": "2022-02-17T11:41:26.289342Z"
    }
   },
   "outputs": [
    {
     "data": {
      "image/png": "[encoded data removed]",
      "text/plain": [
       "<Figure size 432x288 with 1 Axes>"
      ]
     },
     "metadata": {
      "needs_background": "light"
     },
     "output_type": "display_data"
    }
   ],
   "source": [
    "# reuse incidence matrix from before \n",
    "epi3 = cts_time_epidemic2(transition_rate_fn=transition_rates(0.5, 0.14, 0.8),\n",
    "                           initial_state=initial_state,\n",
    "                           incidence_matrix=incidence_matrix)\n",
    "\n",
    "plt.plot(epi3['t'], epi3['state'][:, 0], label='S')\n",
    "plt.plot(epi3['t'], epi3['state'][:, 1], label='I')\n",
    "plt.plot(epi3['t'], epi3['state'][:, 2], label='R')\n",
    "plt.legend()\n",
    "plt.xlabel(\"Time\")\n",
    "_ = plt.ylabel(\"Individuals\")"
   ]
  },
  {
   "cell_type": "markdown",
   "id": "58360e14",
   "metadata": {},
   "source": [
    "# Discrete Time Epidemic Models "
   ]
  },
  {
   "cell_type": "code",
   "execution_count": null,
   "id": "d9f2eb75",
   "metadata": {},
   "outputs": [],
   "source": []
  },
  {
   "cell_type": "markdown",
   "id": "5ec77fbc",
   "metadata": {},
   "source": [
    "# Playing with Einsum\n"
   ]
  },
  {
   "cell_type": "code",
   "execution_count": 203,
   "id": "f2254acc",
   "metadata": {
    "ExecuteTime": {
     "end_time": "2022-02-17T14:10:27.852107Z",
     "start_time": "2022-02-17T14:10:27.848061Z"
    }
   },
   "outputs": [],
   "source": [
    "# define some arrays\n",
    "a = np.array([[0, 1, 2],\n",
    "              [3, 4, 5],\n",
    "              [6, 7, 8]])\n",
    "b = np.array([[1, 0, 0, 0],\n",
    "              [1, 1, 0, 0],\n",
    "              [1, 1, 1, 0]])"
   ]
  },
  {
   "cell_type": "code",
   "execution_count": 157,
   "id": "838cd7b0",
   "metadata": {
    "ExecuteTime": {
     "end_time": "2022-02-17T13:29:58.221241Z",
     "start_time": "2022-02-17T13:29:58.216403Z"
    }
   },
   "outputs": [
    {
     "data": {
      "text/plain": [
       "['Dim(a): (3, 3)', 'Dim(b): (3, 4)']"
      ]
     },
     "execution_count": 157,
     "metadata": {},
     "output_type": "execute_result"
    }
   ],
   "source": [
    "[f\"Dim(a): {a.shape}\", f\"Dim(b): {b.shape}\"]"
   ]
  },
  {
   "cell_type": "code",
   "execution_count": 159,
   "id": "894d85a3",
   "metadata": {
    "ExecuteTime": {
     "end_time": "2022-02-17T13:38:04.881218Z",
     "start_time": "2022-02-17T13:38:04.876408Z"
    }
   },
   "outputs": [
    {
     "data": {
      "text/plain": [
       "array([[1, 1, 1],\n",
       "       [0, 1, 1],\n",
       "       [0, 0, 1],\n",
       "       [0, 0, 0]])"
      ]
     },
     "execution_count": 159,
     "metadata": {},
     "output_type": "execute_result"
    }
   ],
   "source": [
    "# transpose of a matrix \n",
    "np.einsum('ji', b)"
   ]
  },
  {
   "cell_type": "code",
   "execution_count": 164,
   "id": "4c9fa4f8",
   "metadata": {
    "ExecuteTime": {
     "end_time": "2022-02-17T13:42:08.312457Z",
     "start_time": "2022-02-17T13:42:08.308158Z"
    }
   },
   "outputs": [
    {
     "data": {
      "text/plain": [
       "array([0, 4, 8])"
      ]
     },
     "execution_count": 164,
     "metadata": {},
     "output_type": "execute_result"
    }
   ],
   "source": [
    "# diagonal of a matrix - only works on square matrix! \n",
    "np.einsum('ii-> i',a) "
   ]
  },
  {
   "cell_type": "code",
   "execution_count": 166,
   "id": "ab61074c",
   "metadata": {
    "ExecuteTime": {
     "end_time": "2022-02-17T13:42:58.965783Z",
     "start_time": "2022-02-17T13:42:58.960707Z"
    }
   },
   "outputs": [
    {
     "data": {
      "text/plain": [
       "array([ 3, 12, 21])"
      ]
     },
     "execution_count": 166,
     "metadata": {},
     "output_type": "execute_result"
    }
   ],
   "source": [
    "# this is a row sum! Since j isn't shown, the function sums over that dimension \n",
    "np.einsum('ij -> i', a)\n",
    "# np.einsum('ji -> j', a) transposed column sum = row sum "
   ]
  },
  {
   "cell_type": "code",
   "execution_count": 168,
   "id": "32eeef05",
   "metadata": {
    "ExecuteTime": {
     "end_time": "2022-02-17T13:43:24.452242Z",
     "start_time": "2022-02-17T13:43:24.446915Z"
    }
   },
   "outputs": [
    {
     "data": {
      "text/plain": [
       "array([ 9, 12, 15])"
      ]
     },
     "execution_count": 168,
     "metadata": {},
     "output_type": "execute_result"
    }
   ],
   "source": [
    "# column sum \n",
    "np.einsum('ij -> j', a)"
   ]
  },
  {
   "cell_type": "code",
   "execution_count": 174,
   "id": "fc919431",
   "metadata": {
    "ExecuteTime": {
     "end_time": "2022-02-17T13:45:37.066189Z",
     "start_time": "2022-02-17T13:45:37.061515Z"
    }
   },
   "outputs": [
    {
     "data": {
      "text/plain": [
       "12"
      ]
     },
     "execution_count": 174,
     "metadata": {},
     "output_type": "execute_result"
    }
   ],
   "source": [
    "# trace \n",
    "np.einsum('ii', a)"
   ]
  },
  {
   "cell_type": "code",
   "execution_count": 179,
   "id": "3366ecd7",
   "metadata": {
    "ExecuteTime": {
     "end_time": "2022-02-17T13:46:23.950735Z",
     "start_time": "2022-02-17T13:46:23.946010Z"
    }
   },
   "outputs": [
    {
     "data": {
      "text/plain": [
       "36"
      ]
     },
     "execution_count": 179,
     "metadata": {},
     "output_type": "execute_result"
    }
   ],
   "source": [
    "# sum of all entries\n",
    "# having no arrow just means show the matrix, here we map to the sum along the i and j dim\n",
    "np.einsum('ij -> ', a)"
   ]
  },
  {
   "cell_type": "code",
   "execution_count": 181,
   "id": "33c5a466",
   "metadata": {
    "ExecuteTime": {
     "end_time": "2022-02-17T13:47:15.026955Z",
     "start_time": "2022-02-17T13:47:15.022064Z"
    }
   },
   "outputs": [
    {
     "data": {
      "text/plain": [
       "array([[ 3,  3,  2,  0],\n",
       "       [12,  9,  5,  0],\n",
       "       [21, 15,  8,  0]])"
      ]
     },
     "execution_count": 181,
     "metadata": {},
     "output_type": "execute_result"
    }
   ],
   "source": [
    "# matrix mult \n",
    "np.einsum('ij,jk -> ik', a, b)"
   ]
  },
  {
   "cell_type": "code",
   "execution_count": 187,
   "id": "6fea731c",
   "metadata": {
    "ExecuteTime": {
     "end_time": "2022-02-17T13:49:20.800905Z",
     "start_time": "2022-02-17T13:49:20.795193Z"
    }
   },
   "outputs": [
    {
     "data": {
      "text/plain": [
       "array([[ 9, 12, 15],\n",
       "       [ 9, 11, 13],\n",
       "       [ 6,  7,  8],\n",
       "       [ 0,  0,  0]])"
      ]
     },
     "execution_count": 187,
     "metadata": {},
     "output_type": "execute_result"
    }
   ],
   "source": [
    "np.einsum('ji,jk -> ik', b, a) # transpose b, then mult my a "
   ]
  },
  {
   "cell_type": "code",
   "execution_count": 190,
   "id": "a5f5d958",
   "metadata": {
    "ExecuteTime": {
     "end_time": "2022-02-17T13:51:03.645088Z",
     "start_time": "2022-02-17T13:51:03.640988Z"
    }
   },
   "outputs": [
    {
     "data": {
      "text/plain": [
       "array([[ 3,  3,  2,  0],\n",
       "       [12,  9,  5,  0],\n",
       "       [21, 15,  8,  0]])"
      ]
     },
     "execution_count": 190,
     "metadata": {},
     "output_type": "execute_result"
    }
   ],
   "source": [
    "# dot product\n",
    "np.einsum('ij,jk', a, b)"
   ]
  },
  {
   "cell_type": "code",
   "execution_count": 193,
   "id": "271ffa74",
   "metadata": {
    "ExecuteTime": {
     "end_time": "2022-02-17T13:51:57.102103Z",
     "start_time": "2022-02-17T13:51:57.097284Z"
    }
   },
   "outputs": [
    {
     "data": {
      "text/plain": [
       "array([[  5,  14,  23],\n",
       "       [ 14,  50,  86],\n",
       "       [ 23,  86, 149]])"
      ]
     },
     "execution_count": 193,
     "metadata": {},
     "output_type": "execute_result"
    }
   ],
   "source": [
    "# inner product \n",
    "np.einsum('ij,kj->ik', a, a)"
   ]
  },
  {
   "cell_type": "code",
   "execution_count": 207,
   "id": "b4fe9d09",
   "metadata": {
    "ExecuteTime": {
     "end_time": "2022-02-17T14:10:57.152411Z",
     "start_time": "2022-02-17T14:10:57.147940Z"
    }
   },
   "outputs": [
    {
     "data": {
      "text/plain": [
       "array([[[0, 0, 0, 0],\n",
       "        [1, 1, 0, 0],\n",
       "        [2, 2, 2, 0]],\n",
       "\n",
       "       [[3, 0, 0, 0],\n",
       "        [4, 4, 0, 0],\n",
       "        [5, 5, 5, 0]],\n",
       "\n",
       "       [[6, 0, 0, 0],\n",
       "        [7, 7, 0, 0],\n",
       "        [8, 8, 8, 0]]])"
      ]
     },
     "execution_count": 207,
     "metadata": {},
     "output_type": "execute_result"
    }
   ],
   "source": [
    "# multiply b.col by EACH row of a - output is a 3D array now \n",
    "np.einsum('ij,jk -> ijk', a,b)"
   ]
  },
  {
   "cell_type": "code",
   "execution_count": 210,
   "id": "e52420a0",
   "metadata": {
    "ExecuteTime": {
     "end_time": "2022-02-17T15:00:47.020667Z",
     "start_time": "2022-02-17T15:00:46.985640Z"
    }
   },
   "outputs": [
    {
     "data": {
      "text/plain": [
       "array([[[0, 0, 0, 0],\n",
       "        [1, 1, 0, 0],\n",
       "        [2, 2, 2, 0]],\n",
       "\n",
       "       [[3, 0, 0, 0],\n",
       "        [4, 4, 0, 0],\n",
       "        [5, 5, 5, 0]],\n",
       "\n",
       "       [[6, 0, 0, 0],\n",
       "        [7, 7, 0, 0],\n",
       "        [8, 8, 8, 0]]])"
      ]
     },
     "execution_count": 210,
     "metadata": {},
     "output_type": "execute_result"
    }
   ],
   "source": [
    "np.einsum('ij,jk -> ijk', a,b)"
   ]
  },
  {
   "cell_type": "code",
   "execution_count": 212,
   "id": "bd072919",
   "metadata": {
    "ExecuteTime": {
     "end_time": "2022-02-17T15:28:49.295745Z",
     "start_time": "2022-02-17T15:28:49.282390Z"
    }
   },
   "outputs": [],
   "source": [
    "measles = pd.read_csv('/Users/alinmorariu/Documents/GitHub/MCMC/Stochastic epidemic models/measles_hagelloch_1861.csv')"
   ]
  },
  {
   "cell_type": "code",
   "execution_count": 214,
   "id": "2f22698e",
   "metadata": {
    "ExecuteTime": {
     "end_time": "2022-02-17T15:28:56.871113Z",
     "start_time": "2022-02-17T15:28:56.858596Z"
    }
   },
   "outputs": [
    {
     "data": {
      "text/html": [
       "<div>\n",
       "<style scoped>\n",
       "    .dataframe tbody tr th:only-of-type {\n",
       "        vertical-align: middle;\n",
       "    }\n",
       "\n",
       "    .dataframe tbody tr th {\n",
       "        vertical-align: top;\n",
       "    }\n",
       "\n",
       "    .dataframe thead th {\n",
       "        text-align: right;\n",
       "    }\n",
       "</style>\n",
       "<table border=\"1\" class=\"dataframe\">\n",
       "  <thead>\n",
       "    <tr style=\"text-align: right;\">\n",
       "      <th></th>\n",
       "      <th>case_ID</th>\n",
       "      <th>infector</th>\n",
       "      <th>date_of_prodrome</th>\n",
       "      <th>date_of_rash</th>\n",
       "      <th>date_of_death</th>\n",
       "      <th>age</th>\n",
       "      <th>gender</th>\n",
       "      <th>family_ID</th>\n",
       "      <th>class</th>\n",
       "      <th>complications</th>\n",
       "      <th>x_loc</th>\n",
       "      <th>y_loc</th>\n",
       "    </tr>\n",
       "  </thead>\n",
       "  <tbody>\n",
       "    <tr>\n",
       "      <th>0</th>\n",
       "      <td>1</td>\n",
       "      <td>45.0</td>\n",
       "      <td>1861-11-21</td>\n",
       "      <td>1861-11-25</td>\n",
       "      <td>NaN</td>\n",
       "      <td>7</td>\n",
       "      <td>f</td>\n",
       "      <td>41</td>\n",
       "      <td>1</td>\n",
       "      <td>yes</td>\n",
       "      <td>142.5</td>\n",
       "      <td>100.0</td>\n",
       "    </tr>\n",
       "    <tr>\n",
       "      <th>1</th>\n",
       "      <td>2</td>\n",
       "      <td>45.0</td>\n",
       "      <td>1861-11-23</td>\n",
       "      <td>1861-11-27</td>\n",
       "      <td>NaN</td>\n",
       "      <td>6</td>\n",
       "      <td>f</td>\n",
       "      <td>41</td>\n",
       "      <td>1</td>\n",
       "      <td>yes</td>\n",
       "      <td>142.5</td>\n",
       "      <td>100.0</td>\n",
       "    </tr>\n",
       "    <tr>\n",
       "      <th>2</th>\n",
       "      <td>3</td>\n",
       "      <td>172.0</td>\n",
       "      <td>1861-11-28</td>\n",
       "      <td>1861-12-02</td>\n",
       "      <td>NaN</td>\n",
       "      <td>4</td>\n",
       "      <td>f</td>\n",
       "      <td>41</td>\n",
       "      <td>0</td>\n",
       "      <td>yes</td>\n",
       "      <td>142.5</td>\n",
       "      <td>100.0</td>\n",
       "    </tr>\n",
       "    <tr>\n",
       "      <th>3</th>\n",
       "      <td>4</td>\n",
       "      <td>180.0</td>\n",
       "      <td>1861-11-27</td>\n",
       "      <td>1861-11-28</td>\n",
       "      <td>NaN</td>\n",
       "      <td>13</td>\n",
       "      <td>m</td>\n",
       "      <td>61</td>\n",
       "      <td>2</td>\n",
       "      <td>yes</td>\n",
       "      <td>165.0</td>\n",
       "      <td>102.5</td>\n",
       "    </tr>\n",
       "    <tr>\n",
       "      <th>4</th>\n",
       "      <td>5</td>\n",
       "      <td>45.0</td>\n",
       "      <td>1861-11-22</td>\n",
       "      <td>1861-11-27</td>\n",
       "      <td>NaN</td>\n",
       "      <td>8</td>\n",
       "      <td>f</td>\n",
       "      <td>42</td>\n",
       "      <td>1</td>\n",
       "      <td>yes</td>\n",
       "      <td>145.0</td>\n",
       "      <td>120.0</td>\n",
       "    </tr>\n",
       "  </tbody>\n",
       "</table>\n",
       "</div>"
      ],
      "text/plain": [
       "   case_ID  infector date_of_prodrome date_of_rash date_of_death  age gender  \\\n",
       "0        1      45.0       1861-11-21   1861-11-25           NaN    7      f   \n",
       "1        2      45.0       1861-11-23   1861-11-27           NaN    6      f   \n",
       "2        3     172.0       1861-11-28   1861-12-02           NaN    4      f   \n",
       "3        4     180.0       1861-11-27   1861-11-28           NaN   13      m   \n",
       "4        5      45.0       1861-11-22   1861-11-27           NaN    8      f   \n",
       "\n",
       "   family_ID  class complications  x_loc  y_loc  \n",
       "0         41      1           yes  142.5  100.0  \n",
       "1         41      1           yes  142.5  100.0  \n",
       "2         41      0           yes  142.5  100.0  \n",
       "3         61      2           yes  165.0  102.5  \n",
       "4         42      1           yes  145.0  120.0  "
      ]
     },
     "execution_count": 214,
     "metadata": {},
     "output_type": "execute_result"
    }
   ],
   "source": [
    "measles.head()"
   ]
  },
  {
   "cell_type": "code",
   "execution_count": null,
   "id": "91c1c342",
   "metadata": {
    "ExecuteTime": {
     "end_time": "2022-02-17T15:34:28.644375Z",
     "start_time": "2022-02-17T15:34:28.635491Z"
    }
   },
   "outputs": [],
   "source": []
  }
 ],
 "metadata": {
  "kernelspec": {
   "display_name": "Python 3 (ipykernel)",
   "language": "python",
   "name": "python3"
  },
  "language_info": {
   "codemirror_mode": {
    "name": "ipython",
    "version": 3
   },
   "file_extension": ".py",
   "mimetype": "text/x-python",
   "name": "python",
   "nbconvert_exporter": "python",
   "pygments_lexer": "ipython3",
   "version": "3.9.7"
  },
  "toc": {
   "base_numbering": 1,
   "nav_menu": {},
   "number_sections": true,
   "sideBar": true,
   "skip_h1_title": false,
   "title_cell": "Table of Contents",
   "title_sidebar": "Contents",
   "toc_cell": false,
   "toc_position": {},
   "toc_section_display": true,
   "toc_window_display": true
  },
  "varInspector": {
   "cols": {
    "lenName": 16,
    "lenType": 16,
    "lenVar": 40
   },
   "kernels_config": {
    "python": {
     "delete_cmd_postfix": "",
     "delete_cmd_prefix": "del ",
     "library": "var_list.py",
     "varRefreshCmd": "print(var_dic_list())"
    },
    "r": {
     "delete_cmd_postfix": ") ",
     "delete_cmd_prefix": "rm(",
     "library": "var_list.r",
     "varRefreshCmd": "cat(var_dic_list()) "
    }
   },
   "types_to_exclude": [
    "module",
    "function",
    "builtin_function_or_method",
    "instance",
    "_Feature"
   ],
   "window_display": false
  }
 },
 "nbformat": 4,
 "nbformat_minor": 5
}
